{
  "nbformat": 4,
  "nbformat_minor": 0,
  "metadata": {
    "colab": {
      "name": "baitap1.ipynb",
      "provenance": [],
      "authorship_tag": "ABX9TyOR9SQj9YIi3O6m9x2FmFYo",
      "include_colab_link": true
    },
    "kernelspec": {
      "name": "python3",
      "display_name": "Python 3"
    },
    "language_info": {
      "name": "python"
    }
  },
  "cells": [
    {
      "cell_type": "markdown",
      "metadata": {
        "id": "view-in-github",
        "colab_type": "text"
      },
      "source": [
        "<a href=\"https://colab.research.google.com/github/PhamHoangDung3968/ThucHanhToanCaoCap/blob/main/baitap1.ipynb\" target=\"_parent\"><img src=\"https://colab.research.google.com/assets/colab-badge.svg\" alt=\"Open In Colab\"/></a>"
      ]
    },
    {
      "cell_type": "markdown",
      "source": [
        "Bài Thực Hành 1"
      ],
      "metadata": {
        "id": "kNJyE1zBTlgc"
      }
    },
    {
      "cell_type": "code",
      "source": [
        "n = 10\n",
        "dayS = [1/2**i for i in range(0, n)]\n",
        "tongS = sum(dayS)\n",
        "print(tongS)"
      ],
      "metadata": {
        "colab": {
          "base_uri": "https://localhost:8080/"
        },
        "id": "TIN8PeGzTuvU",
        "outputId": "970856d7-6ab8-40e6-a537-c70c9244ac5c"
      },
      "execution_count": null,
      "outputs": [
        {
          "output_type": "stream",
          "name": "stdout",
          "text": [
            "1.998046875\n"
          ]
        }
      ]
    },
    {
      "cell_type": "markdown",
      "source": [
        "Bài Thực Hành 2"
      ],
      "metadata": {
        "id": "Hfx2pVjRSVGe"
      }
    },
    {
      "cell_type": "code",
      "source": [
        "n = 10000000\n",
        "X = [(2-0)*k/n for k in range(0, n+1)]\n",
        "S = 0\n",
        "for k in range(1, n + 1):\n",
        "  S = S + X[k]**2 * (X[k] - X[k-1])\n",
        "print (S)"
      ],
      "metadata": {
        "colab": {
          "base_uri": "https://localhost:8080/"
        },
        "id": "ZdJwB-WZSVk6",
        "outputId": "6a77d798-b1ab-4baa-9d16-713fdf40802c"
      },
      "execution_count": null,
      "outputs": [
        {
          "output_type": "stream",
          "name": "stdout",
          "text": [
            "2.666667066666659\n"
          ]
        }
      ]
    },
    {
      "cell_type": "markdown",
      "source": [
        "Bài Thực Hành 3"
      ],
      "metadata": {
        "id": "_jfEQfWWWC0f"
      }
    },
    {
      "cell_type": "code",
      "source": [
        "from sympy import *\n",
        "print(Rational(1,2) + Rational(1,3))\n",
        "print(Rational(1,2) + 1)\n",
        "print(Rational(1,3) + 1 + 1.5)"
      ],
      "metadata": {
        "id": "vxdOdPfKWDHU",
        "colab": {
          "base_uri": "https://localhost:8080/"
        },
        "outputId": "2466a3a7-f1f2-408a-9b06-bec9889519bd"
      },
      "execution_count": null,
      "outputs": [
        {
          "output_type": "stream",
          "name": "stdout",
          "text": [
            "5/6\n",
            "3/2\n",
            "2.83333333333333\n"
          ]
        }
      ]
    },
    {
      "cell_type": "markdown",
      "source": [
        "Bài Thực Hành 4"
      ],
      "metadata": {
        "id": "3thZSJ3csd0y"
      }
    },
    {
      "cell_type": "code",
      "source": [
        "from sympy import *\n",
        "x = Symbol('x')\n",
        "y = Symbol('y')\n",
        "print(x+y+x-y)\n",
        "print((x+y)**2)"
      ],
      "metadata": {
        "id": "jHStgMkjshNP",
        "outputId": "99a7e8b8-68da-44e5-ca64-d3d9f5904073",
        "colab": {
          "base_uri": "https://localhost:8080/"
        }
      },
      "execution_count": null,
      "outputs": [
        {
          "output_type": "stream",
          "name": "stdout",
          "text": [
            "2*x\n",
            "(x + y)**2\n"
          ]
        }
      ]
    },
    {
      "cell_type": "markdown",
      "source": [
        "Bài Thực Hành 5a"
      ],
      "metadata": {
        "id": "YzCTtn4iPxz1"
      }
    },
    {
      "cell_type": "code",
      "source": [
        "from sympy.solvers.solvers import denoms\n",
        "from sympy import *\n",
        "x = Symbol('x')\n",
        "pt = (1/x) * (1/(x-3))\n",
        "dd = denoms(pt)\n",
        "print(dd)"
      ],
      "metadata": {
        "id": "JWHIdMbdQczK"
      },
      "execution_count": null,
      "outputs": []
    },
    {
      "cell_type": "markdown",
      "source": [
        "Bài Thực Hành 5b"
      ],
      "metadata": {
        "id": "djPXth7dQ6Kr"
      }
    },
    {
      "cell_type": "code",
      "execution_count": null,
      "metadata": {
        "colab": {
          "base_uri": "https://localhost:8080/"
        },
        "id": "UFi2DTII7v8D",
        "outputId": "acb577f0-2e3d-4ad9-daf9-e38b02836c66"
      },
      "outputs": [
        {
          "output_type": "stream",
          "name": "stdout",
          "text": [
            "{0, 1}\n"
          ]
        }
      ],
      "source": [
        "pt = (1 + 1/x) / (x - 1)\n",
        "from sympy.solvers.solvers import denoms\n",
        "loai_tru  = set()\n",
        "for i in denoms(pt):\n",
        "  for s in solve(i):\n",
        "    loai_tru.add(s)\n",
        "print(loai_tru)"
      ]
    },
    {
      "cell_type": "markdown",
      "source": [
        "Bài Thực Hành 6"
      ],
      "metadata": {
        "id": "mHJdo3watIex"
      }
    },
    {
      "cell_type": "code",
      "source": [
        "from sympy import Symbol\n",
        "x = Symbol('x', positive = True)\n",
        "if (x+3) > 0:\n",
        "  print('Chắc chắn x+3 dương')\n",
        "else:\n",
        "  print('x + 3 chưa chắc dương')"
      ],
      "metadata": {
        "id": "gz8wUZ6TtIo9",
        "outputId": "56fa7711-7367-4041-e6bb-75b02b938739",
        "colab": {
          "base_uri": "https://localhost:8080/"
        }
      },
      "execution_count": null,
      "outputs": [
        {
          "output_type": "stream",
          "name": "stdout",
          "text": [
            "Chắc chắn x+3 dương\n"
          ]
        }
      ]
    },
    {
      "cell_type": "markdown",
      "source": [
        "Bài Thực Hành 7"
      ],
      "metadata": {
        "id": "WUnBAJFpvfYN"
      }
    },
    {
      "cell_type": "code",
      "source": [
        "from sympy import Symbol\n",
        "goc_theta = Symbol('TheTa')\n",
        "import sympy\n",
        "print(2*sympy.sin(goc_theta) == sympy.sin(goc_theta) + sympy.sin(goc_theta))\n",
        "print((2*sympy.sin(goc_theta)*sympy.cos(goc_theta)).equals(sympy.sin(2*goc_theta)))"
      ],
      "metadata": {
        "id": "GrHmIt50vfjc",
        "outputId": "7c8a56dd-72d1-4f2c-d689-8ef1b261b22e",
        "colab": {
          "base_uri": "https://localhost:8080/"
        }
      },
      "execution_count": null,
      "outputs": [
        {
          "output_type": "stream",
          "name": "stdout",
          "text": [
            "True\n",
            "True\n"
          ]
        }
      ]
    },
    {
      "cell_type": "markdown",
      "source": [
        "Bài Thực Hành 8"
      ],
      "metadata": {
        "id": "Bfm03SZ5vgX_"
      }
    },
    {
      "cell_type": "code",
      "source": [
        "from sympy import sin, solve, Symbol\n",
        "u = Symbol('u')\n",
        "t = Symbol('t')\n",
        "g = Symbol('g')\n",
        "goc_theta = Symbol('TheTa')\n",
        "solve(u*sin(goc_theta)-g*t, t)"
      ],
      "metadata": {
        "id": "o5HJi1a9vhEM",
        "outputId": "c7f35848-5f27-4a1c-c16b-a1f6071759ac",
        "colab": {
          "base_uri": "https://localhost:8080/"
        }
      },
      "execution_count": null,
      "outputs": [
        {
          "output_type": "execute_result",
          "data": {
            "text/plain": [
              "[u*sin(TheTa)/g]"
            ]
          },
          "metadata": {},
          "execution_count": 21
        }
      ]
    },
    {
      "cell_type": "markdown",
      "source": [
        "Bài Thực Hành 9"
      ],
      "metadata": {
        "id": "-HenMKjnvh09"
      }
    },
    {
      "cell_type": "code",
      "source": [
        "from sympy import Limit, Symbol, S\n",
        "x = Symbol('x')\n",
        "Limit(1/x, x, S.Infinity)"
      ],
      "metadata": {
        "id": "fngU4Sh1vh-w",
        "outputId": "aa3806e5-4fe5-4374-bd45-307dbae1ebed",
        "colab": {
          "base_uri": "https://localhost:8080/",
          "height": 51
        }
      },
      "execution_count": null,
      "outputs": [
        {
          "output_type": "execute_result",
          "data": {
            "text/latex": "$\\displaystyle \\lim_{x \\to \\infty} \\frac{1}{x}$",
            "text/plain": [
              "Limit(1/x, x, oo, dir='-')"
            ]
          },
          "metadata": {},
          "execution_count": 30
        }
      ]
    },
    {
      "cell_type": "code",
      "source": [
        "gioihan = Limit(1/x, x, S.Infinity)\n",
        "gioihan.doit()"
      ],
      "metadata": {
        "id": "TLUUJapa1Rkt",
        "outputId": "3ce1fd0d-6028-4f6d-c516-6f4aa978621a",
        "colab": {
          "base_uri": "https://localhost:8080/",
          "height": 38
        }
      },
      "execution_count": null,
      "outputs": [
        {
          "output_type": "execute_result",
          "data": {
            "text/latex": "$\\displaystyle 0$",
            "text/plain": [
              "0"
            ]
          },
          "metadata": {},
          "execution_count": 31
        }
      ]
    },
    {
      "cell_type": "markdown",
      "source": [
        "Bài Thực Hành 10a"
      ],
      "metadata": {
        "id": "LwDbzA4F1UWa"
      }
    },
    {
      "cell_type": "code",
      "source": [
        "from sympy import Limit, Symbol, S\n",
        "Limit(1/x, x, 0, dir='-').doit()"
      ],
      "metadata": {
        "id": "FAbIoqPk1Y1U",
        "outputId": "5533075e-91db-4274-e3c4-efb9245f6983",
        "colab": {
          "base_uri": "https://localhost:8080/",
          "height": 38
        }
      },
      "execution_count": null,
      "outputs": [
        {
          "output_type": "execute_result",
          "data": {
            "text/latex": "$\\displaystyle -\\infty$",
            "text/plain": [
              "-oo"
            ]
          },
          "metadata": {},
          "execution_count": 34
        }
      ]
    },
    {
      "cell_type": "code",
      "source": [
        "from sympy import Limit, Symbol, S\n",
        "Limit(1/x, x, 0, dir='+').doit()"
      ],
      "metadata": {
        "id": "Hh3g_h3U2IgZ",
        "outputId": "664bf365-6c9b-4ee8-8405-bcdc666e7277",
        "colab": {
          "base_uri": "https://localhost:8080/",
          "height": 38
        }
      },
      "execution_count": null,
      "outputs": [
        {
          "output_type": "execute_result",
          "data": {
            "text/latex": "$\\displaystyle \\infty$",
            "text/plain": [
              "oo"
            ]
          },
          "metadata": {},
          "execution_count": 35
        }
      ]
    },
    {
      "cell_type": "markdown",
      "source": [
        "Bài Thực Hành 10b"
      ],
      "metadata": {
        "id": "Qp0XfnBl2ULc"
      }
    },
    {
      "cell_type": "code",
      "source": [
        "from sympy import Symbol, sin, Limit\n",
        "x = Symbol('x')\n",
        "Limit(sin(x)/x, x, 0).doit()"
      ],
      "metadata": {
        "id": "0N4j96iX2XFH",
        "outputId": "dc77a060-1594-4e7f-c233-27578ee5c887",
        "colab": {
          "base_uri": "https://localhost:8080/",
          "height": 38
        }
      },
      "execution_count": null,
      "outputs": [
        {
          "output_type": "execute_result",
          "data": {
            "text/latex": "$\\displaystyle 1$",
            "text/plain": [
              "1"
            ]
          },
          "metadata": {},
          "execution_count": 36
        }
      ]
    },
    {
      "cell_type": "markdown",
      "source": [
        "Bài Thực Hành 11a"
      ],
      "metadata": {
        "id": "WY-EtQFx1Zxv"
      }
    },
    {
      "cell_type": "code",
      "source": [
        "from sympy import Symbol, sin, S\n",
        "x = Symbol('x')\n",
        "Limit(x * sin(1/x), x, S.Infinity)"
      ],
      "metadata": {
        "id": "4OPijXHm1bMp",
        "outputId": "acacac95-dd5a-42c9-ddd0-b60a57d5fdf3",
        "colab": {
          "base_uri": "https://localhost:8080/",
          "height": 58
        }
      },
      "execution_count": null,
      "outputs": [
        {
          "output_type": "execute_result",
          "data": {
            "text/latex": "$\\displaystyle \\lim_{x \\to \\infty}\\left(x \\sin{\\left(\\frac{1}{x} \\right)}\\right)$",
            "text/plain": [
              "Limit(x*sin(1/x), x, oo, dir='-')"
            ]
          },
          "metadata": {},
          "execution_count": 38
        }
      ]
    },
    {
      "cell_type": "markdown",
      "source": [
        "Bài Thực Hành 11b"
      ],
      "metadata": {
        "id": "sgsV3xyC3eIo"
      }
    },
    {
      "cell_type": "code",
      "source": [
        "from sympy import Symbol, sin, S\n",
        "x = Symbol('x')\n",
        "Limit(x * sin(1/x), x, S.Infinity).doit()"
      ],
      "metadata": {
        "id": "lteTkWbh3h-Y",
        "outputId": "9ad5b434-ba2e-4b89-8e42-043ac576d966",
        "colab": {
          "base_uri": "https://localhost:8080/",
          "height": 38
        }
      },
      "execution_count": null,
      "outputs": [
        {
          "output_type": "execute_result",
          "data": {
            "text/latex": "$\\displaystyle 1$",
            "text/plain": [
              "1"
            ]
          },
          "metadata": {},
          "execution_count": 39
        }
      ]
    },
    {
      "cell_type": "markdown",
      "source": [
        "Bài Thực Hành 12"
      ],
      "metadata": {
        "id": "gfAX8MAe1buz"
      }
    },
    {
      "cell_type": "code",
      "source": [
        "from sympy import Limit, Symbol, S\n",
        "p = Symbol('p', positive = True)\n",
        "t = Symbol('t', positive = True)\n",
        "r = Symbol('r', positive = True)\n",
        "n = Symbol('n', positive = True)\n",
        "Limit(p*(1+r/n)**(n*t), n, S.Infinity).doit()\n",
        "p*exp(r*t)"
      ],
      "metadata": {
        "id": "rTDWsiem1c4U",
        "outputId": "41e38355-1543-4d13-afe0-1688a111368e",
        "colab": {
          "base_uri": "https://localhost:8080/",
          "height": 39
        }
      },
      "execution_count": null,
      "outputs": [
        {
          "output_type": "execute_result",
          "data": {
            "text/latex": "$\\displaystyle p e^{r t}$",
            "text/plain": [
              "p*exp(r*t)"
            ]
          },
          "metadata": {},
          "execution_count": 54
        }
      ]
    },
    {
      "cell_type": "markdown",
      "source": [
        "Bài Thực Hành 13"
      ],
      "metadata": {
        "id": "fbp8h12Q9F_Z"
      }
    },
    {
      "cell_type": "code",
      "source": [
        "from sympy import Limit, Symbol\n",
        "t = Symbol('t')\n",
        "pt = 5*t**2 + 2*t + 8\n",
        "t1 = Symbol('t1')\n",
        "delta_t = Symbol('delta_t')\n",
        "pt1= pt.subs({t:t1})\n",
        "pt1_delta = pt.subs({t:t1+delta_t})\n",
        "print(pt1)\n",
        "print(pt)"
      ],
      "metadata": {
        "id": "ytuQnYnB9GIO",
        "outputId": "f92bf0bc-611f-45b4-cde2-02d7d9d10952",
        "colab": {
          "base_uri": "https://localhost:8080/"
        }
      },
      "execution_count": null,
      "outputs": [
        {
          "output_type": "stream",
          "name": "stdout",
          "text": [
            "5*t1**2 + 2*t1 + 8\n",
            "5*t**2 + 2*t + 8\n"
          ]
        }
      ]
    },
    {
      "cell_type": "code",
      "source": [
        "Limit((pt1_delta-pt1)/delta_t, delta_t, 0).doit\n",
        "10*t1 +2"
      ],
      "metadata": {
        "id": "m161hfm2_Ltg",
        "outputId": "834178df-c271-4999-9a3b-dcfc79b6355d",
        "colab": {
          "base_uri": "https://localhost:8080/",
          "height": 39
        }
      },
      "execution_count": null,
      "outputs": [
        {
          "output_type": "execute_result",
          "data": {
            "text/latex": "$\\displaystyle 10 t_{1} + 2$",
            "text/plain": [
              "10*t1 + 2"
            ]
          },
          "metadata": {},
          "execution_count": 63
        }
      ]
    },
    {
      "cell_type": "markdown",
      "source": [
        "# ***BÀI TẬP CHƯƠNG 1***"
      ],
      "metadata": {
        "id": "VbXhopLv01e3"
      }
    },
    {
      "cell_type": "markdown",
      "source": [
        "bài tập 1"
      ],
      "metadata": {
        "id": "AOzigQXZ1lUD"
      }
    },
    {
      "cell_type": "code",
      "source": [
        "3.1 == 3.0"
      ],
      "metadata": {
        "id": "tKoSIAPF1fMH",
        "outputId": "5fcdd911-5e36-46b1-e369-17617d7b7631",
        "colab": {
          "base_uri": "https://localhost:8080/"
        }
      },
      "execution_count": 1,
      "outputs": [
        {
          "output_type": "execute_result",
          "data": {
            "text/plain": [
              "False"
            ]
          },
          "metadata": {},
          "execution_count": 1
        }
      ]
    },
    {
      "cell_type": "code",
      "source": [
        "3.01 == 3.0"
      ],
      "metadata": {
        "id": "lmHDXLSz15xH",
        "outputId": "a40aaf81-ab28-490e-a9b5-60d6cac7d481",
        "colab": {
          "base_uri": "https://localhost:8080/"
        }
      },
      "execution_count": 2,
      "outputs": [
        {
          "output_type": "execute_result",
          "data": {
            "text/plain": [
              "False"
            ]
          },
          "metadata": {},
          "execution_count": 2
        }
      ]
    },
    {
      "cell_type": "code",
      "source": [
        "3.001 == 3.0"
      ],
      "metadata": {
        "id": "_vxMoXeS19qr",
        "outputId": "305f6768-989d-4e92-819f-41b964ae8ce4",
        "colab": {
          "base_uri": "https://localhost:8080/"
        }
      },
      "execution_count": 3,
      "outputs": [
        {
          "output_type": "execute_result",
          "data": {
            "text/plain": [
              "False"
            ]
          },
          "metadata": {},
          "execution_count": 3
        }
      ]
    },
    {
      "cell_type": "code",
      "source": [
        "a = 3.1; b = 3.0; i = -1\n",
        "while (a != b):\n",
        "  print(a, '!=', b)\n",
        "  a_new = a - 0.9 * 10 ** (i)\n",
        "  if (a_new != a):\n",
        "    a = a_new\n",
        "    i = i-1\n",
        "  else:\n",
        "    print(i)\n",
        "    a = b"
      ],
      "metadata": {
        "id": "T_PfjB_B2A65",
        "outputId": "115d6d43-2dd1-4c99-edaf-7fd64c7190f1",
        "colab": {
          "base_uri": "https://localhost:8080/"
        }
      },
      "execution_count": 5,
      "outputs": [
        {
          "output_type": "stream",
          "name": "stdout",
          "text": [
            "3.1 != 3.0\n",
            "3.0100000000000002 != 3.0\n",
            "3.0010000000000003 != 3.0\n",
            "3.0001 != 3.0\n",
            "3.00001 != 3.0\n",
            "3.000001 != 3.0\n",
            "3.0000001000000003 != 3.0\n",
            "3.0000000100000004 != 3.0\n",
            "3.0000000010000005 != 3.0\n",
            "3.0000000001000005 != 3.0\n",
            "3.0000000000100004 != 3.0\n",
            "3.0000000000010005 != 3.0\n",
            "3.0000000000001004 != 3.0\n",
            "3.00000000000001 != 3.0\n",
            "3.0000000000000013 != 3.0\n",
            "3.0000000000000004 != 3.0\n",
            "-16\n"
          ]
        }
      ]
    },
    {
      "cell_type": "markdown",
      "source": [
        "bài tập 2"
      ],
      "metadata": {
        "id": "5jb31gfi36LX"
      }
    },
    {
      "cell_type": "code",
      "source": [
        "a = True\n",
        "b = False\n",
        "if (a == b) and (1/0 > 0):\n",
        "  print('a = b')\n",
        "else:\n",
        "  print('a khác b')"
      ],
      "metadata": {
        "id": "7D9GPqMo38L0",
        "outputId": "187f5293-f307-4897-c28b-66551a620b7c",
        "colab": {
          "base_uri": "https://localhost:8080/"
        }
      },
      "execution_count": 9,
      "outputs": [
        {
          "output_type": "stream",
          "name": "stdout",
          "text": [
            "a khác b\n"
          ]
        }
      ]
    }
  ]
}