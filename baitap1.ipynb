{
  "nbformat": 4,
  "nbformat_minor": 0,
  "metadata": {
    "colab": {
      "name": "baitap1.ipynb",
      "provenance": [],
      "authorship_tag": "ABX9TyNDqdnneU3AZK2JeO8chcYo",
      "include_colab_link": true
    },
    "kernelspec": {
      "name": "python3",
      "display_name": "Python 3"
    },
    "language_info": {
      "name": "python"
    }
  },
  "cells": [
    {
      "cell_type": "markdown",
      "metadata": {
        "id": "view-in-github",
        "colab_type": "text"
      },
      "source": [
        "<a href=\"https://colab.research.google.com/github/PhamHoangDung3968/ThucHanhToanCaoCap/blob/main/baitap1.ipynb\" target=\"_parent\"><img src=\"https://colab.research.google.com/assets/colab-badge.svg\" alt=\"Open In Colab\"/></a>"
      ]
    },
    {
      "cell_type": "markdown",
      "source": [
        "Bài Thực Hành 1"
      ],
      "metadata": {
        "id": "kNJyE1zBTlgc"
      }
    },
    {
      "cell_type": "code",
      "source": [
        "n = 10\n",
        "dayS = [1/2**i for i in range(0, n)]\n",
        "tongS = sum(dayS)\n",
        "print(tongS)"
      ],
      "metadata": {
        "colab": {
          "base_uri": "https://localhost:8080/"
        },
        "id": "TIN8PeGzTuvU",
        "outputId": "970856d7-6ab8-40e6-a537-c70c9244ac5c"
      },
      "execution_count": 14,
      "outputs": [
        {
          "output_type": "stream",
          "name": "stdout",
          "text": [
            "1.998046875\n"
          ]
        }
      ]
    },
    {
      "cell_type": "markdown",
      "source": [
        "Bài Thực Hành 2"
      ],
      "metadata": {
        "id": "Hfx2pVjRSVGe"
      }
    },
    {
      "cell_type": "code",
      "source": [
        "n = 10000000\n",
        "X = [(2-0)*k/n for k in range(0, n+1)]\n",
        "S = 0\n",
        "for k in range(1, n + 1):\n",
        "  S = S + X[k]**2 * (X[k] - X[k-1])\n",
        "print (S)"
      ],
      "metadata": {
        "colab": {
          "base_uri": "https://localhost:8080/"
        },
        "id": "ZdJwB-WZSVk6",
        "outputId": "6a77d798-b1ab-4baa-9d16-713fdf40802c"
      },
      "execution_count": 7,
      "outputs": [
        {
          "output_type": "stream",
          "name": "stdout",
          "text": [
            "2.666667066666659\n"
          ]
        }
      ]
    },
    {
      "cell_type": "markdown",
      "source": [
        "Bài Thực Hành 3"
      ],
      "metadata": {
        "id": "_jfEQfWWWC0f"
      }
    },
    {
      "cell_type": "code",
      "source": [
        ""
      ],
      "metadata": {
        "id": "vxdOdPfKWDHU"
      },
      "execution_count": null,
      "outputs": []
    },
    {
      "cell_type": "markdown",
      "source": [
        "Bài Thực Hành 5a"
      ],
      "metadata": {
        "id": "YzCTtn4iPxz1"
      }
    },
    {
      "cell_type": "code",
      "source": [
        "from sympy.solvers.solvers import denoms\n",
        "from sympy import *\n",
        "x = Symbol('x')\n",
        "pt = (1/x) * (1/(x-3))\n",
        "dd = denoms(pt)\n",
        "print(dd)"
      ],
      "metadata": {
        "id": "JWHIdMbdQczK"
      },
      "execution_count": null,
      "outputs": []
    },
    {
      "cell_type": "markdown",
      "source": [
        "Bài Thực Hành 5b"
      ],
      "metadata": {
        "id": "djPXth7dQ6Kr"
      }
    },
    {
      "cell_type": "code",
      "execution_count": 6,
      "metadata": {
        "colab": {
          "base_uri": "https://localhost:8080/"
        },
        "id": "UFi2DTII7v8D",
        "outputId": "acb577f0-2e3d-4ad9-daf9-e38b02836c66"
      },
      "outputs": [
        {
          "output_type": "stream",
          "name": "stdout",
          "text": [
            "{0, 1}\n"
          ]
        }
      ],
      "source": [
        "pt = (1 + 1/x) / (x - 1)\n",
        "from sympy.solvers.solvers import denoms\n",
        "loai_tru  = set()\n",
        "for i in denoms(pt):\n",
        "  for s in solve(i):\n",
        "    loai_tru.add(s)\n",
        "print(loai_tru)"
      ]
    }
  ]
}