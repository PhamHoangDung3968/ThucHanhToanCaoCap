{
  "nbformat": 4,
  "nbformat_minor": 0,
  "metadata": {
    "colab": {
      "name": "baitap8.ipynb",
      "provenance": [],
      "authorship_tag": "ABX9TyPINWEMA9eDeCya1ynCbDUG",
      "include_colab_link": true
    },
    "kernelspec": {
      "name": "python3",
      "display_name": "Python 3"
    },
    "language_info": {
      "name": "python"
    }
  },
  "cells": [
    {
      "cell_type": "markdown",
      "metadata": {
        "id": "view-in-github",
        "colab_type": "text"
      },
      "source": [
        "<a href=\"https://colab.research.google.com/github/PhamHoangDung3968/ThucHanhToanCaoCap/blob/main/baitap8.ipynb\" target=\"_parent\"><img src=\"https://colab.research.google.com/assets/colab-badge.svg\" alt=\"Open In Colab\"/></a>"
      ]
    },
    {
      "cell_type": "markdown",
      "source": [
        "# **Chương 8**"
      ],
      "metadata": {
        "id": "rp0uM2_tYaf7"
      }
    },
    {
      "cell_type": "markdown",
      "source": [
        "**Thực hành 1a: Minh họa về sử dụng Tuple**"
      ],
      "metadata": {
        "id": "drWAIYrsYg9h"
      }
    },
    {
      "cell_type": "code",
      "execution_count": 88,
      "metadata": {
        "colab": {
          "base_uri": "https://localhost:8080/"
        },
        "id": "eT0zPTkYYWZ5",
        "outputId": "6b58cd3d-5ea5-495c-80e2-0ea49db88370"
      },
      "outputs": [
        {
          "output_type": "execute_result",
          "data": {
            "text/plain": [
              "(3, 5, 7)"
            ]
          },
          "metadata": {},
          "execution_count": 88
        }
      ],
      "source": [
        "y = (3,5,7)\n",
        "y"
      ]
    },
    {
      "cell_type": "code",
      "source": [
        "y[1]"
      ],
      "metadata": {
        "colab": {
          "base_uri": "https://localhost:8080/"
        },
        "id": "jQaMP0WzZY8Q",
        "outputId": "7391a5de-08ac-45a1-f3f8-954d1816fa91"
      },
      "execution_count": 89,
      "outputs": [
        {
          "output_type": "execute_result",
          "data": {
            "text/plain": [
              "5"
            ]
          },
          "metadata": {},
          "execution_count": 89
        }
      ]
    },
    {
      "cell_type": "code",
      "source": [
        "y[1] = 4"
      ],
      "metadata": {
        "colab": {
          "base_uri": "https://localhost:8080/",
          "height": 165
        },
        "id": "8E4dCB-vZdtG",
        "outputId": "23ba0d2a-51b1-4f5e-d71c-c0066a611c2b"
      },
      "execution_count": 57,
      "outputs": [
        {
          "output_type": "error",
          "ename": "TypeError",
          "evalue": "ignored",
          "traceback": [
            "\u001b[0;31m---------------------------------------------------------------------------\u001b[0m",
            "\u001b[0;31mTypeError\u001b[0m                                 Traceback (most recent call last)",
            "\u001b[0;32m<ipython-input-57-18bdcc95c704>\u001b[0m in \u001b[0;36m<module>\u001b[0;34m()\u001b[0m\n\u001b[0;32m----> 1\u001b[0;31m \u001b[0my\u001b[0m\u001b[0;34m[\u001b[0m\u001b[0;36m1\u001b[0m\u001b[0;34m]\u001b[0m \u001b[0;34m=\u001b[0m \u001b[0;36m4\u001b[0m\u001b[0;34m\u001b[0m\u001b[0;34m\u001b[0m\u001b[0m\n\u001b[0m",
            "\u001b[0;31mTypeError\u001b[0m: 'tuple' object does not support item assignment"
          ]
        }
      ]
    },
    {
      "cell_type": "markdown",
      "source": [
        "**Thực hành 1b:**"
      ],
      "metadata": {
        "id": "oTr710qCaAQR"
      }
    },
    {
      "cell_type": "code",
      "source": [
        "from __future__ import division\n",
        "10/3"
      ],
      "metadata": {
        "colab": {
          "base_uri": "https://localhost:8080/"
        },
        "id": "_JOc9L6iZ_ws",
        "outputId": "4ff1d231-9ca3-47dc-98d3-1d1e086ab0a3"
      },
      "execution_count": 58,
      "outputs": [
        {
          "output_type": "execute_result",
          "data": {
            "text/plain": [
              "3.3333333333333335"
            ]
          },
          "metadata": {},
          "execution_count": 58
        }
      ]
    },
    {
      "cell_type": "markdown",
      "source": [
        "**Thực hành 1c:**"
      ],
      "metadata": {
        "id": "bC-6j1WDassX"
      }
    },
    {
      "cell_type": "code",
      "source": [
        "import sympy\n",
        "from sympy import Symbol\n",
        "x = Symbol('x')\n",
        "y = x + 1\n",
        "y.subs(x,14)"
      ],
      "metadata": {
        "colab": {
          "base_uri": "https://localhost:8080/",
          "height": 38
        },
        "id": "8WG-N-OsaKd9",
        "outputId": "babf7528-8019-4922-bc38-dfcfe6809e64"
      },
      "execution_count": 59,
      "outputs": [
        {
          "output_type": "execute_result",
          "data": {
            "text/plain": [
              "15"
            ],
            "text/latex": "$\\displaystyle 15$"
          },
          "metadata": {},
          "execution_count": 59
        }
      ]
    },
    {
      "cell_type": "markdown",
      "source": [
        "**Thực hành 1d:**"
      ],
      "metadata": {
        "id": "f_lbSMwWbkLe"
      }
    },
    {
      "cell_type": "code",
      "source": [
        "import sympy  \n",
        "from sympy import Symbol  \n",
        "x = Symbol('x')\n",
        "from sympy import pi\n",
        "z = pi - 18*x\n",
        "z.subs(x, y) "
      ],
      "metadata": {
        "colab": {
          "base_uri": "https://localhost:8080/",
          "height": 39
        },
        "id": "UUgqbxwZbqLk",
        "outputId": "d6a505f5-830c-4f19-9154-22188ae7d702"
      },
      "execution_count": 60,
      "outputs": [
        {
          "output_type": "execute_result",
          "data": {
            "text/plain": [
              "-18*x - 18 + pi"
            ],
            "text/latex": "$\\displaystyle - 18 x - 18 + \\pi$"
          },
          "metadata": {},
          "execution_count": 60
        }
      ]
    },
    {
      "cell_type": "code",
      "source": [
        "t = Symbol('t')  \n",
        "z = pi - 18*x  \n",
        "z.subs(x, t) "
      ],
      "metadata": {
        "colab": {
          "base_uri": "https://localhost:8080/",
          "height": 39
        },
        "id": "rjWQQt-SdFvc",
        "outputId": "b05bd49c-8e44-4d12-a88e-03e8cc88109d"
      },
      "execution_count": 61,
      "outputs": [
        {
          "output_type": "execute_result",
          "data": {
            "text/plain": [
              "pi - 18*t"
            ],
            "text/latex": "$\\displaystyle \\pi - 18 t$"
          },
          "metadata": {},
          "execution_count": 61
        }
      ]
    },
    {
      "cell_type": "markdown",
      "source": [
        "**Thực hành 2:**"
      ],
      "metadata": {
        "id": "SfPuG8sLf6bv"
      }
    },
    {
      "cell_type": "code",
      "source": [
        "from sympy import solve, sin  \n",
        "x = Symbol('x') \n",
        "y = Symbol('y') \n",
        "solve(x-1,x) "
      ],
      "metadata": {
        "colab": {
          "base_uri": "https://localhost:8080/"
        },
        "id": "NXazlzIMf8Tf",
        "outputId": "b2044cb3-d14f-4f4f-98b1-23f3b89885b9"
      },
      "execution_count": 62,
      "outputs": [
        {
          "output_type": "execute_result",
          "data": {
            "text/plain": [
              "[1]"
            ]
          },
          "metadata": {},
          "execution_count": 62
        }
      ]
    },
    {
      "cell_type": "code",
      "source": [
        "solve(x**2-1,x)   "
      ],
      "metadata": {
        "id": "YDYcFyj5mpWy",
        "outputId": "6c4f5533-5fff-410f-9cd9-408efc4ab504",
        "colab": {
          "base_uri": "https://localhost:8080/"
        }
      },
      "execution_count": 63,
      "outputs": [
        {
          "output_type": "execute_result",
          "data": {
            "text/plain": [
              "[-1, 1]"
            ]
          },
          "metadata": {},
          "execution_count": 63
        }
      ]
    },
    {
      "cell_type": "code",
      "source": [
        "solve(x**2+1,x) "
      ],
      "metadata": {
        "id": "m_9TaxLanB2M",
        "outputId": "c3d48887-e8d4-46eb-d485-7c44abff7703",
        "colab": {
          "base_uri": "https://localhost:8080/"
        }
      },
      "execution_count": 64,
      "outputs": [
        {
          "output_type": "execute_result",
          "data": {
            "text/plain": [
              "[-I, I]"
            ]
          },
          "metadata": {},
          "execution_count": 64
        }
      ]
    },
    {
      "cell_type": "code",
      "source": [
        "solve(sin(x),x) "
      ],
      "metadata": {
        "id": "xCA-urHWnMFt",
        "outputId": "746c3291-54ca-4ea5-ea9f-ecae9c63d921",
        "colab": {
          "base_uri": "https://localhost:8080/"
        }
      },
      "execution_count": 65,
      "outputs": [
        {
          "output_type": "execute_result",
          "data": {
            "text/plain": [
              "[0, pi]"
            ]
          },
          "metadata": {},
          "execution_count": 65
        }
      ]
    },
    {
      "cell_type": "markdown",
      "source": [
        "**Thực hành 3: Thử nghiệm solveset**"
      ],
      "metadata": {
        "id": "EeFIzHm2nOyl"
      }
    },
    {
      "cell_type": "code",
      "source": [
        "from sympy import solveset\n",
        "solveset(sin(x),x)"
      ],
      "metadata": {
        "id": "Td90WvXrnUYf",
        "outputId": "3af681cd-2991-44a3-bf17-18445e86e6c1",
        "colab": {
          "base_uri": "https://localhost:8080/",
          "height": 39
        }
      },
      "execution_count": 66,
      "outputs": [
        {
          "output_type": "execute_result",
          "data": {
            "text/plain": [
              "Union(ImageSet(Lambda(_n, 2*_n*pi + pi), Integers), ImageSet(Lambda(_n, 2*_n*pi), Integers))"
            ],
            "text/latex": "$\\displaystyle \\left\\{2 n \\pi\\; |\\; n \\in \\mathbb{Z}\\right\\} \\cup \\left\\{2 n \\pi + \\pi\\; |\\; n \\in \\mathbb{Z}\\right\\}$"
          },
          "metadata": {},
          "execution_count": 66
        }
      ]
    },
    {
      "cell_type": "code",
      "source": [
        "solveset(x**2+1,x)"
      ],
      "metadata": {
        "id": "lz943uJBnzdS",
        "outputId": "f838c720-0146-413e-d6dc-447d3eaa2e18",
        "colab": {
          "base_uri": "https://localhost:8080/",
          "height": 39
        }
      },
      "execution_count": 67,
      "outputs": [
        {
          "output_type": "execute_result",
          "data": {
            "text/plain": [
              "FiniteSet(I, -I)"
            ],
            "text/latex": "$\\displaystyle \\left\\{- i, i\\right\\}$"
          },
          "metadata": {},
          "execution_count": 67
        }
      ]
    },
    {
      "cell_type": "markdown",
      "source": [
        "**Thực hành 4: Phương trình: x^2 + 1 = 0**"
      ],
      "metadata": {
        "id": "ag-FexckoXW2"
      }
    },
    {
      "cell_type": "code",
      "source": [
        "from sympy import solveset, S\n",
        "from sympy.abc import x, y, z\n",
        "solveset(x**2 + 1, x) "
      ],
      "metadata": {
        "id": "m3uEL8FzoW6D",
        "outputId": "6947fd1a-f5dd-4ba6-8555-42d7be86ef09",
        "colab": {
          "base_uri": "https://localhost:8080/",
          "height": 39
        }
      },
      "execution_count": 68,
      "outputs": [
        {
          "output_type": "execute_result",
          "data": {
            "text/plain": [
              "FiniteSet(I, -I)"
            ],
            "text/latex": "$\\displaystyle \\left\\{- i, i\\right\\}$"
          },
          "metadata": {},
          "execution_count": 68
        }
      ]
    },
    {
      "cell_type": "code",
      "source": [
        "solveset(x**2 + 1, x, domain = S.Reals)"
      ],
      "metadata": {
        "id": "OI_Up9dPols5",
        "outputId": "90bac2fc-9348-448a-d988-7c830d0668cf",
        "colab": {
          "base_uri": "https://localhost:8080/",
          "height": 38
        }
      },
      "execution_count": 69,
      "outputs": [
        {
          "output_type": "execute_result",
          "data": {
            "text/plain": [
              "EmptySet"
            ],
            "text/latex": "$\\displaystyle \\emptyset$"
          },
          "metadata": {},
          "execution_count": 69
        }
      ]
    },
    {
      "cell_type": "markdown",
      "source": [
        "**Thực hành 5: Phương trình e^x = 1**"
      ],
      "metadata": {
        "id": "1_Z08Bgbos4H"
      }
    },
    {
      "cell_type": "code",
      "source": [
        "from sympy import solveset, S\n",
        "from sympy.abc import x,y,z\n",
        "from sympy import E\n",
        "solveset(e**x-1, x) "
      ],
      "metadata": {
        "id": "hD3Ne6Fuovjj",
        "outputId": "eeafb16c-b10f-4376-85a9-4cf09539c29b",
        "colab": {
          "base_uri": "https://localhost:8080/",
          "height": 200
        }
      },
      "execution_count": 70,
      "outputs": [
        {
          "output_type": "error",
          "ename": "NameError",
          "evalue": "ignored",
          "traceback": [
            "\u001b[0;31m---------------------------------------------------------------------------\u001b[0m",
            "\u001b[0;31mNameError\u001b[0m                                 Traceback (most recent call last)",
            "\u001b[0;32m<ipython-input-70-93d05dbf518b>\u001b[0m in \u001b[0;36m<module>\u001b[0;34m()\u001b[0m\n\u001b[1;32m      2\u001b[0m \u001b[0;32mfrom\u001b[0m \u001b[0msympy\u001b[0m\u001b[0;34m.\u001b[0m\u001b[0mabc\u001b[0m \u001b[0;32mimport\u001b[0m \u001b[0mx\u001b[0m\u001b[0;34m,\u001b[0m\u001b[0my\u001b[0m\u001b[0;34m,\u001b[0m\u001b[0mz\u001b[0m\u001b[0;34m\u001b[0m\u001b[0;34m\u001b[0m\u001b[0m\n\u001b[1;32m      3\u001b[0m \u001b[0;32mfrom\u001b[0m \u001b[0msympy\u001b[0m \u001b[0;32mimport\u001b[0m \u001b[0mE\u001b[0m\u001b[0;34m\u001b[0m\u001b[0;34m\u001b[0m\u001b[0m\n\u001b[0;32m----> 4\u001b[0;31m \u001b[0msolveset\u001b[0m\u001b[0;34m(\u001b[0m\u001b[0me\u001b[0m\u001b[0;34m**\u001b[0m\u001b[0mx\u001b[0m\u001b[0;34m-\u001b[0m\u001b[0;36m1\u001b[0m\u001b[0;34m,\u001b[0m \u001b[0mx\u001b[0m\u001b[0;34m)\u001b[0m\u001b[0;34m\u001b[0m\u001b[0;34m\u001b[0m\u001b[0m\n\u001b[0m",
            "\u001b[0;31mNameError\u001b[0m: name 'e' is not defined"
          ]
        }
      ]
    },
    {
      "cell_type": "code",
      "source": [
        "solveset(E**x-1, x) "
      ],
      "metadata": {
        "id": "ydV46PgYpDri",
        "outputId": "18962db1-debe-4357-87ef-4966b1619eb0",
        "colab": {
          "base_uri": "https://localhost:8080/",
          "height": 39
        }
      },
      "execution_count": 71,
      "outputs": [
        {
          "output_type": "execute_result",
          "data": {
            "text/plain": [
              "ImageSet(Lambda(_n, 2*_n*I*pi), Integers)"
            ],
            "text/latex": "$\\displaystyle \\left\\{2 n i \\pi\\; |\\; n \\in \\mathbb{Z}\\right\\}$"
          },
          "metadata": {},
          "execution_count": 71
        }
      ]
    },
    {
      "cell_type": "code",
      "source": [
        "solveset(E**x-1, x, domain = S.Reals)"
      ],
      "metadata": {
        "id": "oVJfaYAkpHlA",
        "outputId": "1bb6ec68-1802-4137-b949-65cf75d830f2",
        "colab": {
          "base_uri": "https://localhost:8080/",
          "height": 38
        }
      },
      "execution_count": 72,
      "outputs": [
        {
          "output_type": "execute_result",
          "data": {
            "text/plain": [
              "FiniteSet(0)"
            ],
            "text/latex": "$\\displaystyle \\left\\{0\\right\\}$"
          },
          "metadata": {},
          "execution_count": 72
        }
      ]
    },
    {
      "cell_type": "markdown",
      "source": [
        "**Thực hành 6: Phương trình phức hợp**"
      ],
      "metadata": {
        "id": "KncS-wN8pk0P"
      }
    },
    {
      "cell_type": "code",
      "source": [
        "from sympy import solveset, sin, S\n",
        "from sympy.abc import x,y,z\n",
        "solveset((sin(x)+x)*(x**2-9),x,domain = S.Reals)"
      ],
      "metadata": {
        "id": "Uy3NRqFEppcM",
        "outputId": "b391960b-2785-4c26-8a85-eb9c112364ec",
        "colab": {
          "base_uri": "https://localhost:8080/",
          "height": 39
        }
      },
      "execution_count": 73,
      "outputs": [
        {
          "output_type": "execute_result",
          "data": {
            "text/plain": [
              "Union(ConditionSet(x, Eq(x + sin(x), 0), Reals), FiniteSet(-3, 3))"
            ],
            "text/latex": "$\\displaystyle \\left\\{-3, 3\\right\\} \\cup \\left\\{x \\mid x \\in \\mathbb{R} \\wedge x + \\sin{\\left(x \\right)} = 0 \\right\\}$"
          },
          "metadata": {},
          "execution_count": 73
        }
      ]
    },
    {
      "cell_type": "markdown",
      "source": [
        "**Thực hành 7: Một số thực hành khác với Solveset:**"
      ],
      "metadata": {
        "id": "JHY0WKzIqKie"
      }
    },
    {
      "cell_type": "code",
      "source": [
        "from sympy import exp, S\n",
        "solveset(exp(x) > 1, x, domain = S.Reals)"
      ],
      "metadata": {
        "id": "biH-Y7KJqKRX",
        "outputId": "6ddae2ba-2bce-49f4-d84a-6abec6c276e2",
        "colab": {
          "base_uri": "https://localhost:8080/",
          "height": 38
        }
      },
      "execution_count": 74,
      "outputs": [
        {
          "output_type": "execute_result",
          "data": {
            "text/plain": [
              "Interval.open(0, oo)"
            ],
            "text/latex": "$\\displaystyle \\left(0, \\infty\\right)$"
          },
          "metadata": {},
          "execution_count": 74
        }
      ]
    },
    {
      "cell_type": "code",
      "source": [
        "solveset(E**x > 1, x, domain = S.Reals)"
      ],
      "metadata": {
        "id": "gYaUQa9_qgcn",
        "outputId": "3a1207cd-baf7-4f95-a099-07328f552d8a",
        "colab": {
          "base_uri": "https://localhost:8080/",
          "height": 38
        }
      },
      "execution_count": 75,
      "outputs": [
        {
          "output_type": "execute_result",
          "data": {
            "text/plain": [
              "Interval.open(0, oo)"
            ],
            "text/latex": "$\\displaystyle \\left(0, \\infty\\right)$"
          },
          "metadata": {},
          "execution_count": 75
        }
      ]
    },
    {
      "cell_type": "code",
      "source": [
        "solveset(E**x > E, x, domain = S.Reals) "
      ],
      "metadata": {
        "id": "8uzBdKrZqkm4",
        "outputId": "e79a5fab-23d3-482b-d191-61d538633e45",
        "colab": {
          "base_uri": "https://localhost:8080/",
          "height": 38
        }
      },
      "execution_count": 76,
      "outputs": [
        {
          "output_type": "execute_result",
          "data": {
            "text/plain": [
              "Interval.open(1, oo)"
            ],
            "text/latex": "$\\displaystyle \\left(1, \\infty\\right)$"
          },
          "metadata": {},
          "execution_count": 76
        }
      ]
    },
    {
      "cell_type": "code",
      "source": [
        "R = S.Reals  \n",
        "solveset(E**x > E, x, R) "
      ],
      "metadata": {
        "id": "AVRVq-vlqqLp",
        "outputId": "ffad73a1-3da7-485c-e085-cde7200c31cf",
        "colab": {
          "base_uri": "https://localhost:8080/",
          "height": 38
        }
      },
      "execution_count": 77,
      "outputs": [
        {
          "output_type": "execute_result",
          "data": {
            "text/plain": [
              "Interval.open(1, oo)"
            ],
            "text/latex": "$\\displaystyle \\left(1, \\infty\\right)$"
          },
          "metadata": {},
          "execution_count": 77
        }
      ]
    },
    {
      "cell_type": "markdown",
      "source": [
        "**Thực hành 8:**"
      ],
      "metadata": {
        "id": "_YZ3mY0iqzgc"
      }
    },
    {
      "cell_type": "code",
      "source": [
        "from sympy import Derivative, Symbol, solve \n",
        "x = Symbol('x')  \n",
        "y = Symbol('y')  \n",
        "z = Symbol('z')\n",
        "f = 4*x*y - 8*x - 5 + z*(x+y-50) \n",
        "dx = Derivative(f, x).doit()\n",
        "dy = Derivative(f, y).doit()\n",
        "dz = Derivative(f, z).doit() "
      ],
      "metadata": {
        "id": "qG8RTNDeq4On"
      },
      "execution_count": 78,
      "outputs": []
    },
    {
      "cell_type": "code",
      "source": [
        "nghiem = solve([dx, dy, dz], (x,y,z))\n",
        "print(nghiem)"
      ],
      "metadata": {
        "id": "iH0uMUQorXuy",
        "outputId": "fcbe02b4-3645-493c-e86b-063ff6007be6",
        "colab": {
          "base_uri": "https://localhost:8080/"
        }
      },
      "execution_count": 79,
      "outputs": [
        {
          "output_type": "stream",
          "name": "stdout",
          "text": [
            "{x: 24, y: 26, z: -96}\n"
          ]
        }
      ]
    },
    {
      "cell_type": "code",
      "source": [
        "xx = nghiem[x]  \n",
        "yy = nghiem[y] \n",
        "4* xx* yy - 8 * xx - 5"
      ],
      "metadata": {
        "id": "gyCfVklSrdEp",
        "outputId": "5fa9980a-47dd-4c7e-9d98-1523dc1506d4",
        "colab": {
          "base_uri": "https://localhost:8080/",
          "height": 38
        }
      },
      "execution_count": 80,
      "outputs": [
        {
          "output_type": "execute_result",
          "data": {
            "text/plain": [
              "2299"
            ],
            "text/latex": "$\\displaystyle 2299$"
          },
          "metadata": {},
          "execution_count": 80
        }
      ]
    },
    {
      "cell_type": "code",
      "source": [
        "ketqua = 4*nghiem[x]* nghiem[y] - 8* nghiem[x] - 5 \n",
        "print (ketqua)  "
      ],
      "metadata": {
        "id": "lBjZOtv2r85x",
        "outputId": "98abec03-093b-4183-b763-fbd6e40f4a9d",
        "colab": {
          "base_uri": "https://localhost:8080/"
        }
      },
      "execution_count": 81,
      "outputs": [
        {
          "output_type": "stream",
          "name": "stdout",
          "text": [
            "2299\n"
          ]
        }
      ]
    },
    {
      "cell_type": "markdown",
      "source": [
        "## **BÀI TẬP CHƯƠNG 8**"
      ],
      "metadata": {
        "id": "UIuNfLFhs3t1"
      }
    },
    {
      "cell_type": "markdown",
      "source": [
        "**Bài tập 1**"
      ],
      "metadata": {
        "id": "OQrve4cAs_rc"
      }
    },
    {
      "cell_type": "code",
      "source": [
        "from sympy import solve, Symbol, Derivative\n",
        "x = Symbol('x')  \n",
        "y = Symbol('y')  \n",
        "z = Symbol('z')\n",
        "p = Symbol('p')\n",
        "g = x + y + z -5\n",
        "L = x*y**2*z**2 + p * (x + y + z -5)\n",
        "Lx = Derivative(L, x).doit()\n",
        "Ly = Derivative(L, y).doit()\n",
        "Lz = Derivative(L, z).doit()"
      ],
      "metadata": {
        "id": "V2epQn93tMZQ"
      },
      "execution_count": 82,
      "outputs": []
    },
    {
      "cell_type": "code",
      "source": [
        "nghiem = solve([Lx, Ly, Lz, g], (x,y,z,p), domain = S.Reals)\n",
        "print(nghiem)"
      ],
      "metadata": {
        "id": "pgBC3PbNzdkd",
        "outputId": "0d726657-6cbe-44e6-ce9f-42862343e558",
        "colab": {
          "base_uri": "https://localhost:8080/"
        }
      },
      "execution_count": 83,
      "outputs": [
        {
          "output_type": "stream",
          "name": "stdout",
          "text": [
            "[(0, 0, 5, 0), (1, 2, 2, -16), (5/3, 10/3, 0, 0), (5 - y, y, 0, 0), (5 - z, 0, z, 0)]\n"
          ]
        }
      ]
    },
    {
      "cell_type": "code",
      "source": [
        "x = 0\n",
        "y = 0 \n",
        "z = 0\n",
        "f = x*y**2*z**2\n",
        "f"
      ],
      "metadata": {
        "id": "Z_XoSIQB8F1B",
        "outputId": "8b59a8be-90af-4dcd-a258-f4804c70ac23",
        "colab": {
          "base_uri": "https://localhost:8080/"
        }
      },
      "execution_count": 84,
      "outputs": [
        {
          "output_type": "execute_result",
          "data": {
            "text/plain": [
              "0"
            ]
          },
          "metadata": {},
          "execution_count": 84
        }
      ]
    },
    {
      "cell_type": "code",
      "source": [
        "x = 5/3\n",
        "y = 10/3\n",
        "z = 0\n",
        "f = x*y**2*z**2\n",
        "f"
      ],
      "metadata": {
        "id": "KihoNRj88eKc",
        "outputId": "90be581e-382c-45f7-f561-7512b9565806",
        "colab": {
          "base_uri": "https://localhost:8080/"
        }
      },
      "execution_count": 85,
      "outputs": [
        {
          "output_type": "execute_result",
          "data": {
            "text/plain": [
              "0.0"
            ]
          },
          "metadata": {},
          "execution_count": 85
        }
      ]
    },
    {
      "cell_type": "code",
      "source": [
        "x = 1\n",
        "y = 2\n",
        "z = 2 \n",
        "f = x*y**2*z**2\n",
        "f \n",
        "# nhập giá trị (1,2,2) vì làm cho f(x,y,z) lớn nhất"
      ],
      "metadata": {
        "id": "7o-w9NtA8YrV",
        "outputId": "6c3b2cd3-b083-4fd1-92ee-1754f042569d",
        "colab": {
          "base_uri": "https://localhost:8080/"
        }
      },
      "execution_count": 86,
      "outputs": [
        {
          "output_type": "execute_result",
          "data": {
            "text/plain": [
              "16"
            ]
          },
          "metadata": {},
          "execution_count": 86
        }
      ]
    },
    {
      "cell_type": "markdown",
      "source": [
        "**Bài tập 2**"
      ],
      "metadata": {
        "id": "F-HtS_eD8yDo"
      }
    },
    {
      "cell_type": "code",
      "source": [
        "from sympy import Derivative, Symbol, solve \n",
        "x = Symbol('x')  \n",
        "y = Symbol('y')\n",
        "f1 = 500*(y-x)/365\n",
        "f2 = (45000+500*(x-2*y))/365\n",
        "nghiem = solve([f1, f2], (x,y), domain = S.Reals)\n",
        "print(nghiem)"
      ],
      "metadata": {
        "id": "99Atuz9z87jp",
        "outputId": "57bee672-83a4-4bb5-f7ab-34cdad06f1be",
        "colab": {
          "base_uri": "https://localhost:8080/"
        }
      },
      "execution_count": 87,
      "outputs": [
        {
          "output_type": "stream",
          "name": "stdout",
          "text": [
            "{x: 90, y: 90}\n"
          ]
        }
      ]
    }
  ]
}