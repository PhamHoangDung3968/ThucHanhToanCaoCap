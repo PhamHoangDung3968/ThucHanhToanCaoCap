{
  "nbformat": 4,
  "nbformat_minor": 0,
  "metadata": {
    "colab": {
      "name": "baitap8.ipynb",
      "provenance": [],
      "authorship_tag": "ABX9TyP0RgVOpq7K4hXImAvzJYqm",
      "include_colab_link": true
    },
    "kernelspec": {
      "name": "python3",
      "display_name": "Python 3"
    },
    "language_info": {
      "name": "python"
    }
  },
  "cells": [
    {
      "cell_type": "markdown",
      "metadata": {
        "id": "view-in-github",
        "colab_type": "text"
      },
      "source": [
        "<a href=\"https://colab.research.google.com/github/PhamHoangDung3968/ThucHanhToanCaoCap/blob/main/baitap8.ipynb\" target=\"_parent\"><img src=\"https://colab.research.google.com/assets/colab-badge.svg\" alt=\"Open In Colab\"/></a>"
      ]
    },
    {
      "cell_type": "markdown",
      "source": [
        "# **Chương 8**"
      ],
      "metadata": {
        "id": "rp0uM2_tYaf7"
      }
    },
    {
      "cell_type": "markdown",
      "source": [
        "**Thực hành 1a: Minh họa về sử dụng Tuple**"
      ],
      "metadata": {
        "id": "drWAIYrsYg9h"
      }
    },
    {
      "cell_type": "code",
      "execution_count": 1,
      "metadata": {
        "colab": {
          "base_uri": "https://localhost:8080/"
        },
        "id": "eT0zPTkYYWZ5",
        "outputId": "4f81ab9f-add4-4ea4-bab9-47a0ffc27507"
      },
      "outputs": [
        {
          "output_type": "execute_result",
          "data": {
            "text/plain": [
              "(3, 5, 7)"
            ]
          },
          "metadata": {},
          "execution_count": 1
        }
      ],
      "source": [
        "y = (3,5,7)\n",
        "y"
      ]
    },
    {
      "cell_type": "code",
      "source": [
        "y[1]"
      ],
      "metadata": {
        "colab": {
          "base_uri": "https://localhost:8080/"
        },
        "id": "jQaMP0WzZY8Q",
        "outputId": "c9f56573-d559-4cdf-ff18-634c38e682fe"
      },
      "execution_count": 2,
      "outputs": [
        {
          "output_type": "execute_result",
          "data": {
            "text/plain": [
              "5"
            ]
          },
          "metadata": {},
          "execution_count": 2
        }
      ]
    },
    {
      "cell_type": "code",
      "source": [
        "y[1] = 4"
      ],
      "metadata": {
        "colab": {
          "base_uri": "https://localhost:8080/",
          "height": 165
        },
        "id": "8E4dCB-vZdtG",
        "outputId": "e064452c-8e05-4e26-af07-c5b8ffeb9f57"
      },
      "execution_count": 3,
      "outputs": [
        {
          "output_type": "error",
          "ename": "TypeError",
          "evalue": "ignored",
          "traceback": [
            "\u001b[0;31m---------------------------------------------------------------------------\u001b[0m",
            "\u001b[0;31mTypeError\u001b[0m                                 Traceback (most recent call last)",
            "\u001b[0;32m<ipython-input-3-18bdcc95c704>\u001b[0m in \u001b[0;36m<module>\u001b[0;34m()\u001b[0m\n\u001b[0;32m----> 1\u001b[0;31m \u001b[0my\u001b[0m\u001b[0;34m[\u001b[0m\u001b[0;36m1\u001b[0m\u001b[0;34m]\u001b[0m \u001b[0;34m=\u001b[0m \u001b[0;36m4\u001b[0m\u001b[0;34m\u001b[0m\u001b[0;34m\u001b[0m\u001b[0m\n\u001b[0m",
            "\u001b[0;31mTypeError\u001b[0m: 'tuple' object does not support item assignment"
          ]
        }
      ]
    },
    {
      "cell_type": "markdown",
      "source": [
        "**Thực hành 1b:**"
      ],
      "metadata": {
        "id": "oTr710qCaAQR"
      }
    },
    {
      "cell_type": "code",
      "source": [
        "from __future__ import division\n",
        "10/3"
      ],
      "metadata": {
        "colab": {
          "base_uri": "https://localhost:8080/"
        },
        "id": "_JOc9L6iZ_ws",
        "outputId": "06a01e7a-c68e-4c79-8343-0bd4ad8995b2"
      },
      "execution_count": 4,
      "outputs": [
        {
          "output_type": "execute_result",
          "data": {
            "text/plain": [
              "3.3333333333333335"
            ]
          },
          "metadata": {},
          "execution_count": 4
        }
      ]
    },
    {
      "cell_type": "markdown",
      "source": [
        "**Thực hành 1c:**"
      ],
      "metadata": {
        "id": "bC-6j1WDassX"
      }
    },
    {
      "cell_type": "code",
      "source": [
        "import sympy\n",
        "from sympy import Symbol\n",
        "x = Symbol('x')\n",
        "y = x + 1\n",
        "y.subs(x,14)"
      ],
      "metadata": {
        "colab": {
          "base_uri": "https://localhost:8080/",
          "height": 38
        },
        "id": "8WG-N-OsaKd9",
        "outputId": "1097c026-a6b7-4948-ae57-ceaacb867c6e"
      },
      "execution_count": 5,
      "outputs": [
        {
          "output_type": "execute_result",
          "data": {
            "text/plain": [
              "15"
            ],
            "text/latex": "$\\displaystyle 15$"
          },
          "metadata": {},
          "execution_count": 5
        }
      ]
    },
    {
      "cell_type": "markdown",
      "source": [
        "**Thực hành 1d:**"
      ],
      "metadata": {
        "id": "f_lbSMwWbkLe"
      }
    },
    {
      "cell_type": "code",
      "source": [
        "import sympy  \n",
        "from sympy import Symbol  \n",
        "x = Symbol('x')\n",
        "from sympy import pi\n",
        "z = pi - 18*x\n",
        "z.subs(x, y) "
      ],
      "metadata": {
        "colab": {
          "base_uri": "https://localhost:8080/",
          "height": 39
        },
        "id": "UUgqbxwZbqLk",
        "outputId": "06479d79-c8a9-4f04-e71e-a8d4361f897c"
      },
      "execution_count": 6,
      "outputs": [
        {
          "output_type": "execute_result",
          "data": {
            "text/plain": [
              "-18*x - 18 + pi"
            ],
            "text/latex": "$\\displaystyle - 18 x - 18 + \\pi$"
          },
          "metadata": {},
          "execution_count": 6
        }
      ]
    },
    {
      "cell_type": "code",
      "source": [
        "t = Symbol('t')  \n",
        "z = pi - 18*x  \n",
        "z.subs(x, t) "
      ],
      "metadata": {
        "colab": {
          "base_uri": "https://localhost:8080/",
          "height": 39
        },
        "id": "rjWQQt-SdFvc",
        "outputId": "341fb90c-5773-4958-ce19-c0821721a7a0"
      },
      "execution_count": 7,
      "outputs": [
        {
          "output_type": "execute_result",
          "data": {
            "text/plain": [
              "pi - 18*t"
            ],
            "text/latex": "$\\displaystyle \\pi - 18 t$"
          },
          "metadata": {},
          "execution_count": 7
        }
      ]
    },
    {
      "cell_type": "markdown",
      "source": [
        "**Thực hành 2:**"
      ],
      "metadata": {
        "id": "SfPuG8sLf6bv"
      }
    },
    {
      "cell_type": "code",
      "source": [
        "from sympy import solve, sin  \n",
        "x = Symbol('x') \n",
        "y = Symbol('y') \n",
        "solve(x-1,x) "
      ],
      "metadata": {
        "colab": {
          "base_uri": "https://localhost:8080/"
        },
        "id": "NXazlzIMf8Tf",
        "outputId": "e6896aa3-a380-4809-925f-6aa2967c8ee6"
      },
      "execution_count": 8,
      "outputs": [
        {
          "output_type": "execute_result",
          "data": {
            "text/plain": [
              "[1]"
            ]
          },
          "metadata": {},
          "execution_count": 8
        }
      ]
    },
    {
      "cell_type": "code",
      "source": [
        "solve(x**2-1,x)   "
      ],
      "metadata": {
        "id": "YDYcFyj5mpWy",
        "outputId": "ad230a32-d4f9-42cc-d765-b76b89064c46",
        "colab": {
          "base_uri": "https://localhost:8080/"
        }
      },
      "execution_count": 9,
      "outputs": [
        {
          "output_type": "execute_result",
          "data": {
            "text/plain": [
              "[-1, 1]"
            ]
          },
          "metadata": {},
          "execution_count": 9
        }
      ]
    },
    {
      "cell_type": "code",
      "source": [
        "solve(x**2+1,x) "
      ],
      "metadata": {
        "id": "m_9TaxLanB2M",
        "outputId": "7aa824f6-cc09-4316-aeb1-633a17a3f7cb",
        "colab": {
          "base_uri": "https://localhost:8080/"
        }
      },
      "execution_count": 11,
      "outputs": [
        {
          "output_type": "execute_result",
          "data": {
            "text/plain": [
              "[-I, I]"
            ]
          },
          "metadata": {},
          "execution_count": 11
        }
      ]
    },
    {
      "cell_type": "code",
      "source": [
        "solve(sin(x),x) "
      ],
      "metadata": {
        "id": "xCA-urHWnMFt",
        "outputId": "69ac5dac-deac-4729-c848-af1ca71561ff",
        "colab": {
          "base_uri": "https://localhost:8080/"
        }
      },
      "execution_count": 12,
      "outputs": [
        {
          "output_type": "execute_result",
          "data": {
            "text/plain": [
              "[0, pi]"
            ]
          },
          "metadata": {},
          "execution_count": 12
        }
      ]
    },
    {
      "cell_type": "markdown",
      "source": [
        "**Thực hành 3: Thử nghiệm solveset**"
      ],
      "metadata": {
        "id": "EeFIzHm2nOyl"
      }
    },
    {
      "cell_type": "code",
      "source": [
        "from sympy import solveset\n",
        "solveset(sin(x),x)"
      ],
      "metadata": {
        "id": "Td90WvXrnUYf",
        "outputId": "ca22a56e-d406-402d-fed2-e3a1eeeb427a",
        "colab": {
          "base_uri": "https://localhost:8080/",
          "height": 39
        }
      },
      "execution_count": 13,
      "outputs": [
        {
          "output_type": "execute_result",
          "data": {
            "text/plain": [
              "Union(ImageSet(Lambda(_n, 2*_n*pi + pi), Integers), ImageSet(Lambda(_n, 2*_n*pi), Integers))"
            ],
            "text/latex": "$\\displaystyle \\left\\{2 n \\pi\\; |\\; n \\in \\mathbb{Z}\\right\\} \\cup \\left\\{2 n \\pi + \\pi\\; |\\; n \\in \\mathbb{Z}\\right\\}$"
          },
          "metadata": {},
          "execution_count": 13
        }
      ]
    },
    {
      "cell_type": "code",
      "source": [
        "solveset(x**2+1,x)"
      ],
      "metadata": {
        "id": "lz943uJBnzdS",
        "outputId": "afef04ba-8587-46e5-88a4-138f584bdfd9",
        "colab": {
          "base_uri": "https://localhost:8080/",
          "height": 39
        }
      },
      "execution_count": 14,
      "outputs": [
        {
          "output_type": "execute_result",
          "data": {
            "text/plain": [
              "FiniteSet(I, -I)"
            ],
            "text/latex": "$\\displaystyle \\left\\{- i, i\\right\\}$"
          },
          "metadata": {},
          "execution_count": 14
        }
      ]
    },
    {
      "cell_type": "markdown",
      "source": [
        "**Thực hành 4: Phương trình: x^2 + 1 = 0**"
      ],
      "metadata": {
        "id": "ag-FexckoXW2"
      }
    },
    {
      "cell_type": "code",
      "source": [
        "from sympy import solveset, S\n",
        "from sympy.abc import x, y, z\n",
        "solveset(x**2 + 1, x) "
      ],
      "metadata": {
        "id": "m3uEL8FzoW6D",
        "outputId": "e0e7a61b-05c8-4bb0-a29a-ffbeb1193566",
        "colab": {
          "base_uri": "https://localhost:8080/",
          "height": 39
        }
      },
      "execution_count": 15,
      "outputs": [
        {
          "output_type": "execute_result",
          "data": {
            "text/plain": [
              "FiniteSet(I, -I)"
            ],
            "text/latex": "$\\displaystyle \\left\\{- i, i\\right\\}$"
          },
          "metadata": {},
          "execution_count": 15
        }
      ]
    },
    {
      "cell_type": "code",
      "source": [
        "solveset(x**2 + 1, x, domain = S.Reals)"
      ],
      "metadata": {
        "id": "OI_Up9dPols5",
        "outputId": "8254058d-b052-4688-9f0e-dcc314ec8cc6",
        "colab": {
          "base_uri": "https://localhost:8080/",
          "height": 38
        }
      },
      "execution_count": 16,
      "outputs": [
        {
          "output_type": "execute_result",
          "data": {
            "text/plain": [
              "EmptySet"
            ],
            "text/latex": "$\\displaystyle \\emptyset$"
          },
          "metadata": {},
          "execution_count": 16
        }
      ]
    },
    {
      "cell_type": "markdown",
      "source": [
        "**Thực hành 5: Phương trình e^x = 1**"
      ],
      "metadata": {
        "id": "1_Z08Bgbos4H"
      }
    },
    {
      "cell_type": "code",
      "source": [
        "from sympy import solveset, S\n",
        "from sympy.abc import x,y,z\n",
        "from sympy import E\n",
        "solveset(e**x-1, x) "
      ],
      "metadata": {
        "id": "hD3Ne6Fuovjj",
        "outputId": "e6c69d4d-770e-4ba4-e6c7-98c03ef813bd",
        "colab": {
          "base_uri": "https://localhost:8080/",
          "height": 200
        }
      },
      "execution_count": 17,
      "outputs": [
        {
          "output_type": "error",
          "ename": "NameError",
          "evalue": "ignored",
          "traceback": [
            "\u001b[0;31m---------------------------------------------------------------------------\u001b[0m",
            "\u001b[0;31mNameError\u001b[0m                                 Traceback (most recent call last)",
            "\u001b[0;32m<ipython-input-17-93d05dbf518b>\u001b[0m in \u001b[0;36m<module>\u001b[0;34m()\u001b[0m\n\u001b[1;32m      2\u001b[0m \u001b[0;32mfrom\u001b[0m \u001b[0msympy\u001b[0m\u001b[0;34m.\u001b[0m\u001b[0mabc\u001b[0m \u001b[0;32mimport\u001b[0m \u001b[0mx\u001b[0m\u001b[0;34m,\u001b[0m\u001b[0my\u001b[0m\u001b[0;34m,\u001b[0m\u001b[0mz\u001b[0m\u001b[0;34m\u001b[0m\u001b[0;34m\u001b[0m\u001b[0m\n\u001b[1;32m      3\u001b[0m \u001b[0;32mfrom\u001b[0m \u001b[0msympy\u001b[0m \u001b[0;32mimport\u001b[0m \u001b[0mE\u001b[0m\u001b[0;34m\u001b[0m\u001b[0;34m\u001b[0m\u001b[0m\n\u001b[0;32m----> 4\u001b[0;31m \u001b[0msolveset\u001b[0m\u001b[0;34m(\u001b[0m\u001b[0me\u001b[0m\u001b[0;34m**\u001b[0m\u001b[0mx\u001b[0m\u001b[0;34m-\u001b[0m\u001b[0;36m1\u001b[0m\u001b[0;34m,\u001b[0m \u001b[0mx\u001b[0m\u001b[0;34m)\u001b[0m\u001b[0;34m\u001b[0m\u001b[0;34m\u001b[0m\u001b[0m\n\u001b[0m",
            "\u001b[0;31mNameError\u001b[0m: name 'e' is not defined"
          ]
        }
      ]
    },
    {
      "cell_type": "code",
      "source": [
        "solveset(E**x-1, x) "
      ],
      "metadata": {
        "id": "ydV46PgYpDri",
        "outputId": "ca6bc163-8b38-4af0-f260-5c481c2775b5",
        "colab": {
          "base_uri": "https://localhost:8080/",
          "height": 39
        }
      },
      "execution_count": 18,
      "outputs": [
        {
          "output_type": "execute_result",
          "data": {
            "text/plain": [
              "ImageSet(Lambda(_n, 2*_n*I*pi), Integers)"
            ],
            "text/latex": "$\\displaystyle \\left\\{2 n i \\pi\\; |\\; n \\in \\mathbb{Z}\\right\\}$"
          },
          "metadata": {},
          "execution_count": 18
        }
      ]
    },
    {
      "cell_type": "code",
      "source": [
        "solveset(E**x-1, x, domain = S.Reals)"
      ],
      "metadata": {
        "id": "oVJfaYAkpHlA",
        "outputId": "78647fa3-0e20-4d77-a3b8-c068804fbc14",
        "colab": {
          "base_uri": "https://localhost:8080/",
          "height": 38
        }
      },
      "execution_count": 19,
      "outputs": [
        {
          "output_type": "execute_result",
          "data": {
            "text/plain": [
              "FiniteSet(0)"
            ],
            "text/latex": "$\\displaystyle \\left\\{0\\right\\}$"
          },
          "metadata": {},
          "execution_count": 19
        }
      ]
    },
    {
      "cell_type": "markdown",
      "source": [
        "**Thực hành 6: Phương trình phức hợp**"
      ],
      "metadata": {
        "id": "KncS-wN8pk0P"
      }
    },
    {
      "cell_type": "code",
      "source": [
        "from sympy import solveset, sin, S\n",
        "from sympy.abc import x,y,z\n",
        "solveset((sin(x)+x)*(x**2-9),x,domain = S.Reals)"
      ],
      "metadata": {
        "id": "Uy3NRqFEppcM",
        "outputId": "1dfc5c6e-5536-41e3-bdb2-1d4034c325e6",
        "colab": {
          "base_uri": "https://localhost:8080/",
          "height": 39
        }
      },
      "execution_count": 20,
      "outputs": [
        {
          "output_type": "execute_result",
          "data": {
            "text/plain": [
              "Union(ConditionSet(x, Eq(x + sin(x), 0), Reals), FiniteSet(-3, 3))"
            ],
            "text/latex": "$\\displaystyle \\left\\{-3, 3\\right\\} \\cup \\left\\{x \\mid x \\in \\mathbb{R} \\wedge x + \\sin{\\left(x \\right)} = 0 \\right\\}$"
          },
          "metadata": {},
          "execution_count": 20
        }
      ]
    },
    {
      "cell_type": "markdown",
      "source": [
        "**Thực hành 7: Một số thực hành khác với Solveset:**"
      ],
      "metadata": {
        "id": "JHY0WKzIqKie"
      }
    },
    {
      "cell_type": "code",
      "source": [
        "from sympy import exp, S\n",
        "solveset(exp(x) > 1, x, domain = S.Reals)"
      ],
      "metadata": {
        "id": "biH-Y7KJqKRX",
        "outputId": "49e24c98-5996-48d0-ee02-9f2f71977ed4",
        "colab": {
          "base_uri": "https://localhost:8080/",
          "height": 38
        }
      },
      "execution_count": 21,
      "outputs": [
        {
          "output_type": "execute_result",
          "data": {
            "text/plain": [
              "Interval.open(0, oo)"
            ],
            "text/latex": "$\\displaystyle \\left(0, \\infty\\right)$"
          },
          "metadata": {},
          "execution_count": 21
        }
      ]
    },
    {
      "cell_type": "code",
      "source": [
        "solveset(E**x > 1, x, domain = S.Reals)"
      ],
      "metadata": {
        "id": "gYaUQa9_qgcn",
        "outputId": "563ab862-ff1d-4758-8810-a6161943646b",
        "colab": {
          "base_uri": "https://localhost:8080/",
          "height": 38
        }
      },
      "execution_count": 22,
      "outputs": [
        {
          "output_type": "execute_result",
          "data": {
            "text/plain": [
              "Interval.open(0, oo)"
            ],
            "text/latex": "$\\displaystyle \\left(0, \\infty\\right)$"
          },
          "metadata": {},
          "execution_count": 22
        }
      ]
    },
    {
      "cell_type": "code",
      "source": [
        "solveset(E**x > E, x, domain = S.Reals) "
      ],
      "metadata": {
        "id": "8uzBdKrZqkm4",
        "outputId": "0642d0dc-df6a-4df4-bc49-8d4403036b70",
        "colab": {
          "base_uri": "https://localhost:8080/",
          "height": 38
        }
      },
      "execution_count": 23,
      "outputs": [
        {
          "output_type": "execute_result",
          "data": {
            "text/plain": [
              "Interval.open(1, oo)"
            ],
            "text/latex": "$\\displaystyle \\left(1, \\infty\\right)$"
          },
          "metadata": {},
          "execution_count": 23
        }
      ]
    },
    {
      "cell_type": "code",
      "source": [
        "R = S.Reals  \n",
        "solveset(E**x > E, x, R) "
      ],
      "metadata": {
        "id": "AVRVq-vlqqLp",
        "outputId": "35ec7694-413a-4672-efc6-fe8303fa572c",
        "colab": {
          "base_uri": "https://localhost:8080/",
          "height": 38
        }
      },
      "execution_count": 24,
      "outputs": [
        {
          "output_type": "execute_result",
          "data": {
            "text/plain": [
              "Interval.open(1, oo)"
            ],
            "text/latex": "$\\displaystyle \\left(1, \\infty\\right)$"
          },
          "metadata": {},
          "execution_count": 24
        }
      ]
    },
    {
      "cell_type": "markdown",
      "source": [
        "**Thực hành 8:**"
      ],
      "metadata": {
        "id": "_YZ3mY0iqzgc"
      }
    },
    {
      "cell_type": "code",
      "source": [
        "from sympy import Derivative, Symbol, solve \n",
        "x = Symbol('x')  \n",
        "y = Symbol('y')  \n",
        "z = Symbol('z')\n",
        "f = 4*x*y - 8*x - 5 + z*(x+y-50) \n",
        "dx = Derivative(f, x).doit()\n",
        "dy = Derivative(f, y).doit()\n",
        "dz = Derivative(f, z).doit() "
      ],
      "metadata": {
        "id": "qG8RTNDeq4On"
      },
      "execution_count": 73,
      "outputs": []
    },
    {
      "cell_type": "code",
      "source": [
        "nghiem = solve([dx, dy, dz], (x,y,z))\n",
        "print(nghiem)"
      ],
      "metadata": {
        "id": "iH0uMUQorXuy",
        "outputId": "15e61c22-2db1-452d-dc67-bc38e7664679",
        "colab": {
          "base_uri": "https://localhost:8080/"
        }
      },
      "execution_count": 74,
      "outputs": [
        {
          "output_type": "stream",
          "name": "stdout",
          "text": [
            "{x: 24, y: 26, z: -96}\n"
          ]
        }
      ]
    },
    {
      "cell_type": "code",
      "source": [
        "xx = nghiem[x]  \n",
        "yy = nghiem[y] \n",
        "4* xx* yy - 8 * xx - 5"
      ],
      "metadata": {
        "id": "gyCfVklSrdEp",
        "outputId": "ee789189-1c7e-4c41-b9a1-4a77ae431c29",
        "colab": {
          "base_uri": "https://localhost:8080/",
          "height": 38
        }
      },
      "execution_count": 40,
      "outputs": [
        {
          "output_type": "execute_result",
          "data": {
            "text/plain": [
              "2299"
            ],
            "text/latex": "$\\displaystyle 2299$"
          },
          "metadata": {},
          "execution_count": 40
        }
      ]
    },
    {
      "cell_type": "code",
      "source": [
        "ketqua = 4*nghiem[x]* nghiem[y] - 8* nghiem[x] - 5 \n",
        "print (ketqua)  "
      ],
      "metadata": {
        "id": "lBjZOtv2r85x",
        "outputId": "56ebb472-2356-4e51-87fc-3231f29d7d61",
        "colab": {
          "base_uri": "https://localhost:8080/"
        }
      },
      "execution_count": 41,
      "outputs": [
        {
          "output_type": "stream",
          "name": "stdout",
          "text": [
            "2299\n"
          ]
        }
      ]
    },
    {
      "cell_type": "markdown",
      "source": [
        "## **BÀI TẬP CHƯƠNG 8**"
      ],
      "metadata": {
        "id": "UIuNfLFhs3t1"
      }
    },
    {
      "cell_type": "markdown",
      "source": [
        "**Bài tập 1**"
      ],
      "metadata": {
        "id": "OQrve4cAs_rc"
      }
    },
    {
      "cell_type": "code",
      "source": [
        "from sympy import solve, Symbol, Derivative\n",
        "x = Symbol('x')  \n",
        "y = Symbol('y')  \n",
        "z = Symbol('z')\n",
        "p = Symbol('p')\n",
        "g = x + y + z -5\n",
        "L = x*y**2*z**2 + p * (x + y + z -5)\n",
        "Lx = Derivative(L, x).doit()\n",
        "Ly = Derivative(L, y).doit()\n",
        "Lz = Derivative(L, z).doit()"
      ],
      "metadata": {
        "id": "V2epQn93tMZQ"
      },
      "execution_count": 126,
      "outputs": []
    },
    {
      "cell_type": "code",
      "source": [
        "nghiem = solve([Lx, Ly, Lz, g], (x,y,z,p), domain = S.Reals)\n",
        "print(nghiem)"
      ],
      "metadata": {
        "id": "pgBC3PbNzdkd",
        "outputId": "a92c1bfc-9eb6-4047-c7b5-152d0fe770cb",
        "colab": {
          "base_uri": "https://localhost:8080/"
        }
      },
      "execution_count": 127,
      "outputs": [
        {
          "output_type": "stream",
          "name": "stdout",
          "text": [
            "[(0, 0, 5, 0), (1, 2, 2, -16), (5/3, 10/3, 0, 0), (5 - y, y, 0, 0), (5 - z, 0, z, 0)]\n"
          ]
        }
      ]
    },
    {
      "cell_type": "code",
      "source": [
        "x = 0\n",
        "y = 0 \n",
        "z = 0\n",
        "f = x*y**2*z**2\n",
        "f"
      ],
      "metadata": {
        "id": "Z_XoSIQB8F1B",
        "outputId": "16659edd-f02b-492e-f263-74e56a8fafcd",
        "colab": {
          "base_uri": "https://localhost:8080/"
        }
      },
      "execution_count": 128,
      "outputs": [
        {
          "output_type": "execute_result",
          "data": {
            "text/plain": [
              "0"
            ]
          },
          "metadata": {},
          "execution_count": 128
        }
      ]
    },
    {
      "cell_type": "code",
      "source": [
        "x = 5/3\n",
        "y = 10/3\n",
        "z = 0\n",
        "f = x*y**2*z**2\n",
        "f"
      ],
      "metadata": {
        "id": "KihoNRj88eKc",
        "outputId": "f50b11f9-bd8f-4834-b8be-d8b486d7bc78",
        "colab": {
          "base_uri": "https://localhost:8080/"
        }
      },
      "execution_count": 130,
      "outputs": [
        {
          "output_type": "execute_result",
          "data": {
            "text/plain": [
              "0.0"
            ]
          },
          "metadata": {},
          "execution_count": 130
        }
      ]
    },
    {
      "cell_type": "code",
      "source": [
        "x = 1\n",
        "y = 2\n",
        "z = 2 \n",
        "f = x*y**2*z**2\n",
        "f \n",
        "# nhập giá trị (1,2,2) vì làm cho f(x,y,z) lớn nhất"
      ],
      "metadata": {
        "id": "7o-w9NtA8YrV",
        "outputId": "479a021e-b9c9-41e9-9426-888c64aa86a3",
        "colab": {
          "base_uri": "https://localhost:8080/"
        }
      },
      "execution_count": 131,
      "outputs": [
        {
          "output_type": "execute_result",
          "data": {
            "text/plain": [
              "16"
            ]
          },
          "metadata": {},
          "execution_count": 131
        }
      ]
    },
    {
      "cell_type": "markdown",
      "source": [
        "**Bài tập 2**"
      ],
      "metadata": {
        "id": "F-HtS_eD8yDo"
      }
    },
    {
      "cell_type": "code",
      "source": [
        "from sympy import Derivative, Symbol, solve \n",
        "x = Symbol('x')  \n",
        "y = Symbol('y')\n",
        "f1 = 500*(y-x)\n",
        "f2 = 45000+500*(x-2*y)\n",
        "nghiem = solve([f1, f2], (x,y))\n",
        "print(nghiem)"
      ],
      "metadata": {
        "id": "99Atuz9z87jp",
        "outputId": "9dacfa01-1d3e-49b7-d6ba-0ef9d8a302ee",
        "colab": {
          "base_uri": "https://localhost:8080/"
        }
      },
      "execution_count": 136,
      "outputs": [
        {
          "output_type": "stream",
          "name": "stdout",
          "text": [
            "{x: 90, y: 90}\n"
          ]
        }
      ]
    }
  ]
}