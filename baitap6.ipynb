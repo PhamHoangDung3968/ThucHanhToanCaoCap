{
  "nbformat": 4,
  "nbformat_minor": 0,
  "metadata": {
    "colab": {
      "name": "baitap6.ipynb",
      "provenance": [],
      "collapsed_sections": [],
      "authorship_tag": "ABX9TyMyM5d/7HJBVLRNMkLtnonn",
      "include_colab_link": true
    },
    "kernelspec": {
      "name": "python3",
      "display_name": "Python 3"
    },
    "language_info": {
      "name": "python"
    }
  },
  "cells": [
    {
      "cell_type": "markdown",
      "metadata": {
        "id": "view-in-github",
        "colab_type": "text"
      },
      "source": [
        "<a href=\"https://colab.research.google.com/github/PhamHoangDung3968/ThucHanhToanCaoCap/blob/main/baitap6.ipynb\" target=\"_parent\"><img src=\"https://colab.research.google.com/assets/colab-badge.svg\" alt=\"Open In Colab\"/></a>"
      ]
    },
    {
      "cell_type": "markdown",
      "source": [
        "# ***CHƯƠNG 6: HÀM SỐ, DÃY VÀ MỘT SỐ ỨNG DỤNG***"
      ],
      "metadata": {
        "id": "oZfpvyNSht7L"
      }
    },
    {
      "cell_type": "markdown",
      "source": [
        "**Thực hành 1: Viết hàm đệ quy tính n!**"
      ],
      "metadata": {
        "id": "0kxilk9HhvRt"
      }
    },
    {
      "cell_type": "code",
      "execution_count": 1,
      "metadata": {
        "id": "JGhflGYdhp8L"
      },
      "outputs": [],
      "source": [
        "import math \n",
        "def giaithua(n):\n",
        "  if (n==0):\n",
        "    return 1\n",
        "  else:\n",
        "    return n*giaithua(n-1)"
      ]
    },
    {
      "cell_type": "code",
      "source": [
        "giaithua(3)"
      ],
      "metadata": {
        "colab": {
          "base_uri": "https://localhost:8080/"
        },
        "id": "279sPok3jIz9",
        "outputId": "0661edb2-daa0-4a5d-af61-5af29572be9d"
      },
      "execution_count": 2,
      "outputs": [
        {
          "output_type": "execute_result",
          "data": {
            "text/plain": [
              "6"
            ]
          },
          "metadata": {},
          "execution_count": 2
        }
      ]
    },
    {
      "cell_type": "code",
      "source": [
        "giaithua(4)"
      ],
      "metadata": {
        "colab": {
          "base_uri": "https://localhost:8080/"
        },
        "id": "KNYDbCy4jMbl",
        "outputId": "77dccedf-031b-4544-99c8-cf637982727a"
      },
      "execution_count": 3,
      "outputs": [
        {
          "output_type": "execute_result",
          "data": {
            "text/plain": [
              "24"
            ]
          },
          "metadata": {},
          "execution_count": 3
        }
      ]
    },
    {
      "cell_type": "markdown",
      "source": [
        "**Thực hành 2: Viết hàm đệ quy tính dãy số Fibonacci**"
      ],
      "metadata": {
        "id": "P-bXMmC9jZCZ"
      }
    },
    {
      "cell_type": "code",
      "source": [
        "def fibo(n):\n",
        "  if n ==0:\n",
        "    return 0\n",
        "  if n==1:\n",
        "    return 1\n",
        "  return fibo(n-1) + fibo(n-2)"
      ],
      "metadata": {
        "id": "X-V83l6-jcTe"
      },
      "execution_count": 4,
      "outputs": []
    },
    {
      "cell_type": "code",
      "source": [
        "fibo(4)"
      ],
      "metadata": {
        "colab": {
          "base_uri": "https://localhost:8080/"
        },
        "id": "ck4UNUd9j0rS",
        "outputId": "b82e3be4-4b04-4bc6-dadd-fdac8f34ec89"
      },
      "execution_count": 5,
      "outputs": [
        {
          "output_type": "execute_result",
          "data": {
            "text/plain": [
              "3"
            ]
          },
          "metadata": {},
          "execution_count": 5
        }
      ]
    },
    {
      "cell_type": "code",
      "source": [
        "fibo(5)"
      ],
      "metadata": {
        "colab": {
          "base_uri": "https://localhost:8080/"
        },
        "id": "LqFDsNlqj3z5",
        "outputId": "e7809099-ecd2-4d5a-efdb-46175b2cdfb1"
      },
      "execution_count": 6,
      "outputs": [
        {
          "output_type": "execute_result",
          "data": {
            "text/plain": [
              "5"
            ]
          },
          "metadata": {},
          "execution_count": 6
        }
      ]
    },
    {
      "cell_type": "code",
      "source": [
        "fibo(6)"
      ],
      "metadata": {
        "colab": {
          "base_uri": "https://localhost:8080/"
        },
        "id": "c3X-uqPbkCv4",
        "outputId": "3a95fed8-13e2-4c86-a939-b5db0db3a416"
      },
      "execution_count": 7,
      "outputs": [
        {
          "output_type": "execute_result",
          "data": {
            "text/plain": [
              "8"
            ]
          },
          "metadata": {},
          "execution_count": 7
        }
      ]
    },
    {
      "cell_type": "markdown",
      "source": [
        "**Thực hành 3: Chứng minh dãy có giới hạn và tìm giới hạn của dãy**"
      ],
      "metadata": {
        "id": "jEd2otZQj0Gd"
      }
    },
    {
      "cell_type": "code",
      "source": [
        "def an_exp_an(n):\n",
        "  if n==1:\n",
        "    return 1.0/2\n",
        "  else:\n",
        "    return an_exp_an(n-1)**an_exp_an(n-1)"
      ],
      "metadata": {
        "id": "iIAqBtGMkXh1"
      },
      "execution_count": 8,
      "outputs": []
    },
    {
      "cell_type": "code",
      "source": [
        "an_exp_an(1)"
      ],
      "metadata": {
        "colab": {
          "base_uri": "https://localhost:8080/"
        },
        "id": "Ndz_gVjrk2BH",
        "outputId": "28c00e23-3387-4a65-9379-16442c141df0"
      },
      "execution_count": 9,
      "outputs": [
        {
          "output_type": "execute_result",
          "data": {
            "text/plain": [
              "0.5"
            ]
          },
          "metadata": {},
          "execution_count": 9
        }
      ]
    },
    {
      "cell_type": "code",
      "source": [
        "an_exp_an(2)"
      ],
      "metadata": {
        "colab": {
          "base_uri": "https://localhost:8080/"
        },
        "id": "3-l3z9eDk5y5",
        "outputId": "efa9db92-9e9e-42ff-8be1-442a68418196"
      },
      "execution_count": 10,
      "outputs": [
        {
          "output_type": "execute_result",
          "data": {
            "text/plain": [
              "0.7071067811865476"
            ]
          },
          "metadata": {},
          "execution_count": 10
        }
      ]
    },
    {
      "cell_type": "code",
      "source": [
        "an_exp_an(3)"
      ],
      "metadata": {
        "colab": {
          "base_uri": "https://localhost:8080/"
        },
        "id": "XlAAzNNuk-KU",
        "outputId": "7fcc5853-54cd-4bfc-c6fd-feedd2adfe77"
      },
      "execution_count": 11,
      "outputs": [
        {
          "output_type": "execute_result",
          "data": {
            "text/plain": [
              "0.7826540273556803"
            ]
          },
          "metadata": {},
          "execution_count": 11
        }
      ]
    },
    {
      "cell_type": "code",
      "source": [
        "an_exp_an(4)"
      ],
      "metadata": {
        "colab": {
          "base_uri": "https://localhost:8080/"
        },
        "id": "Vhe9lPWvk-R5",
        "outputId": "30e2fc0c-9b61-41ee-d647-840d8e4cf1c0"
      },
      "execution_count": 12,
      "outputs": [
        {
          "output_type": "execute_result",
          "data": {
            "text/plain": [
              "0.8254713306050621"
            ]
          },
          "metadata": {},
          "execution_count": 12
        }
      ]
    },
    {
      "cell_type": "code",
      "source": [
        "an_exp_an(5)"
      ],
      "metadata": {
        "colab": {
          "base_uri": "https://localhost:8080/"
        },
        "id": "lY-bjiPwk-Yy",
        "outputId": "1b22c787-230b-48b8-885f-5de330bcd9e3"
      },
      "execution_count": 13,
      "outputs": [
        {
          "output_type": "execute_result",
          "data": {
            "text/plain": [
              "0.8535714578150946"
            ]
          },
          "metadata": {},
          "execution_count": 13
        }
      ]
    },
    {
      "cell_type": "code",
      "source": [
        "an_exp_an(10)"
      ],
      "metadata": {
        "colab": {
          "base_uri": "https://localhost:8080/"
        },
        "id": "dK89hrMtlFeY",
        "outputId": "00c645fd-3ea7-4a76-da96-3fde9845765a"
      },
      "execution_count": 14,
      "outputs": [
        {
          "output_type": "execute_result",
          "data": {
            "text/plain": [
              "0.9176411981636667"
            ]
          },
          "metadata": {},
          "execution_count": 14
        }
      ]
    },
    {
      "cell_type": "markdown",
      "source": [
        "**Thực hành 4: Chứng minh dãy có giới hạn và tìm giới hạn của dãy**"
      ],
      "metadata": {
        "id": "_VbT7ao5lODb"
      }
    },
    {
      "cell_type": "code",
      "source": [
        "def bai4(n):\n",
        "  if n == 1:\n",
        "    return 4\n",
        "  else:\n",
        "    return 5.0/(6-bai4(n-1))"
      ],
      "metadata": {
        "id": "xl7gj19elRw6"
      },
      "execution_count": 15,
      "outputs": []
    },
    {
      "cell_type": "code",
      "source": [
        "bai4(5)"
      ],
      "metadata": {
        "colab": {
          "base_uri": "https://localhost:8080/"
        },
        "id": "8i5h31Xkl2JV",
        "outputId": "189023f0-9738-44d0-ede3-04346b1c314b"
      },
      "execution_count": 16,
      "outputs": [
        {
          "output_type": "execute_result",
          "data": {
            "text/plain": [
              "1.019108280254777"
            ]
          },
          "metadata": {},
          "execution_count": 16
        }
      ]
    },
    {
      "cell_type": "code",
      "source": [
        "bai4(6)"
      ],
      "metadata": {
        "colab": {
          "base_uri": "https://localhost:8080/"
        },
        "id": "mDLEJR7Il52U",
        "outputId": "07534fa0-7b05-4aa7-9b80-b6b39e07f365"
      },
      "execution_count": 17,
      "outputs": [
        {
          "output_type": "execute_result",
          "data": {
            "text/plain": [
              "1.0038363171355498"
            ]
          },
          "metadata": {},
          "execution_count": 17
        }
      ]
    },
    {
      "cell_type": "code",
      "source": [
        "bai4(7)"
      ],
      "metadata": {
        "colab": {
          "base_uri": "https://localhost:8080/"
        },
        "id": "rL4E7_h3l6Ex",
        "outputId": "615396d5-4c8e-4076-bb37-22e4d5158267"
      },
      "execution_count": 18,
      "outputs": [
        {
          "output_type": "execute_result",
          "data": {
            "text/plain": [
              "1.000767852572306"
            ]
          },
          "metadata": {},
          "execution_count": 18
        }
      ]
    },
    {
      "cell_type": "code",
      "source": [
        "bai4(10)"
      ],
      "metadata": {
        "colab": {
          "base_uri": "https://localhost:8080/"
        },
        "id": "6BtJTNv1l_E5",
        "outputId": "9ced3214-d1fb-4f43-fed3-e99f9e8a3e1d"
      },
      "execution_count": 19,
      "outputs": [
        {
          "output_type": "execute_result",
          "data": {
            "text/plain": [
              "1.0000061439905628"
            ]
          },
          "metadata": {},
          "execution_count": 19
        }
      ]
    },
    {
      "cell_type": "code",
      "source": [
        "bai4(100)"
      ],
      "metadata": {
        "colab": {
          "base_uri": "https://localhost:8080/"
        },
        "id": "d_3m_NwHmArT",
        "outputId": "300256bc-9bc0-4bbd-a771-1999da3dcc9c"
      },
      "execution_count": 20,
      "outputs": [
        {
          "output_type": "execute_result",
          "data": {
            "text/plain": [
              "1.0"
            ]
          },
          "metadata": {},
          "execution_count": 20
        }
      ]
    },
    {
      "cell_type": "markdown",
      "source": [
        "Thực hành 5: Xét giới hạn của dãy an = Fn+1/fn biết dãy Fibonacci được định nghĩa như sau:"
      ],
      "metadata": {
        "id": "E18LDNTCmXvE"
      }
    },
    {
      "cell_type": "code",
      "source": [
        "def tisoFibo(n):\n",
        "  if n==1: \n",
        "    return 1 \n",
        "  else: \n",
        "    return 1.0 + 1.0/tisoFibo(n-1)\n",
        "for i in range(1, 11): \n",
        "  print (i, tisoFibo(i))"
      ],
      "metadata": {
        "colab": {
          "base_uri": "https://localhost:8080/"
        },
        "id": "MLzDt-V0mrt1",
        "outputId": "6aaf6ac7-5810-402b-9722-ce70f7f25559"
      },
      "execution_count": 21,
      "outputs": [
        {
          "output_type": "stream",
          "name": "stdout",
          "text": [
            "1 1\n",
            "2 2.0\n",
            "3 1.5\n",
            "4 1.6666666666666665\n",
            "5 1.6\n",
            "6 1.625\n",
            "7 1.6153846153846154\n",
            "8 1.619047619047619\n",
            "9 1.6176470588235294\n",
            "10 1.6181818181818182\n"
          ]
        }
      ]
    },
    {
      "cell_type": "code",
      "source": [
        "from sympy import Symbol, plot, sqrt\n",
        "x = Symbol('x')\n",
        "f = (2*x+1)/(x+1)\n",
        "plot(f, (x,(1-sqrt(5))/2, 10))"
      ],
      "metadata": {
        "colab": {
          "base_uri": "https://localhost:8080/",
          "height": 314
        },
        "id": "hV-X5Q3UtRXO",
        "outputId": "6e6f9673-a25e-449d-8f0f-cbe9f1e1a4b0"
      },
      "execution_count": 26,
      "outputs": [
        {
          "output_type": "display_data",
          "data": {
            "image/png": "[encoded data removed]",
            "text/plain": [
              "<Figure size 432x288 with 1 Axes>"
            ]
          },
          "metadata": {
            "needs_background": "light"
          }
        },
        {
          "output_type": "execute_result",
          "data": {
            "text/plain": [
              "<sympy.plotting.plot.Plot at 0x7f1230c19c90>"
            ]
          },
          "metadata": {},
          "execution_count": 26
        }
      ]
    },
    {
      "cell_type": "code",
      "source": [
        "from sympy import Derivative, Symbol, sympify \n",
        "def grad_ascent(x0, ham_f1x, x):     \n",
        "  epsilon = 1e-6     \n",
        "  step_size = 1e-4     \n",
        "  x_old = x0     \n",
        "  x_new = x_old + step_size*ham_f1x.subs({x:x_old}).evalf()     \n",
        "  while abs(x_old - x_new) > epsilon:         \n",
        "    x_old = x_new         \n",
        "    x_new = x_old + step_size*ham_f1x.subs({x:x_old}).evalf()\n",
        "    return x_new \n",
        "if __name__ == '__main__':     \n",
        "  f = input('Nhap ham 1 bien (f): ')     \n",
        "  var = input('Nhap ten bien tuong ung (x): ')     \n",
        "  var0 = float(input('Nhap gia tri khoi dau cho bien x: ')) \n",
        "  try:         \n",
        "    f = sympify(f)  # kiem tra ham     \n",
        "  except SympifyError:         \n",
        "    print('Ham nhap khong hop le!')     \n",
        "  else:         \n",
        "    var = Symbol(var)         \n",
        "    d = Derivative(f, var).doit()         \n",
        "    var_max = grad_ascent(var0, d, var)         \n",
        "    print('{0}: {1}'.format(var.name, var_max))         \n",
        "    print('Maximum value: {0}'.format(f.subs({var:var_max}))) "
      ],
      "metadata": {
        "colab": {
          "base_uri": "https://localhost:8080/"
        },
        "id": "PXGOvKwPwDLN",
        "outputId": "83cc67f4-543d-4861-8f37-9535c80762a7"
      },
      "execution_count": 27,
      "outputs": [
        {
          "output_type": "stream",
          "name": "stdout",
          "text": [
            "Nhap ham 1 bien (f): 25*25*sin(2*theta)/9.8\n",
            "Nhap ten bien tuong ung (x): theta\n",
            "Nhap gia tri khoi dau cho bien x: 0.001\n",
            "theta: 0.0265053522908712\n",
            "Maximum value: 3.37920154330593\n"
          ]
        }
      ]
    },
    {
      "cell_type": "code",
      "source": [
        "from sympy import Derivative, Symbol, sympify \n",
        "def grad_ascent(x0, ham_f1x, x):     \n",
        "  epsilon = 1e-6     \n",
        "  step_size = 1e-4     \n",
        "  x_old = x0     \n",
        "  x_new = x_old + step_size*ham_f1x.subs({x:x_old}).evalf()     \n",
        "  while abs(x_old - x_new) > epsilon:         \n",
        "    x_old = x_new         \n",
        "    x_new = x_old + step_size*ham_f1x.subs({x:x_old}).evalf()\n",
        "    return x_new \n",
        "if __name__ == '__main__':     \n",
        "  f = input('Nhap ham 1 bien (f): ')     \n",
        "  var = input('Nhap ten bien tuong ung (x): ')     \n",
        "  var0 = float(input('Nhap gia tri khoi dau cho bien x: ')) \n",
        "  try:         \n",
        "    f = sympify(f)  # kiem tra ham     \n",
        "  except SympifyError:         \n",
        "    print('Ham nhap khong hop le!')     \n",
        "  else:         \n",
        "    var = Symbol(var)         \n",
        "    d = Derivative(f, var).doit()         \n",
        "    var_max = grad_ascent(var0, d, var)         \n",
        "    print('{0}: {1}'.format(var.name, var_max))         \n",
        "    print('Maximum value: {0}'.format(f.subs({var:var_max}))) "
      ],
      "metadata": {
        "colab": {
          "base_uri": "https://localhost:8080/"
        },
        "id": "5wTT8x03yk66",
        "outputId": "e2bb3f40-27e2-4eb5-c31f-7cb2cc504298"
      },
      "execution_count": 28,
      "outputs": [
        {
          "output_type": "stream",
          "name": "stdout",
          "text": [
            "Nhap ham 1 bien (f): cos(t)\n",
            "Nhap ten bien tuong ung (x): t\n",
            "Nhap gia tri khoi dau cho bien x: 0.01\n",
            "t: None\n",
            "Maximum value: cos(t)\n"
          ]
        }
      ]
    },
    {
      "cell_type": "code",
      "source": [
        "from sympy import Derivative, Symbol, sympify \n",
        "def grad_ascent(x0, ham_f1x, x):     \n",
        "  epsilon = 1e-6     \n",
        "  step_size = 1e-4     \n",
        "  x_old = x0     \n",
        "  x_new = x_old + step_size*ham_f1x.subs({x:x_old}).evalf()     \n",
        "  while abs(x_old - x_new) > epsilon:         \n",
        "    x_old = x_new         \n",
        "    x_new = x_old + step_size*ham_f1x.subs({x:x_old}).evalf()\n",
        "    return x_new \n",
        "if __name__ == '__main__':     \n",
        "  f = input('Nhap ham 1 bien (f): ')     \n",
        "  var = input('Nhap ten bien tuong ung (x): ')     \n",
        "  var0 = float(input('Nhap gia tri khoi dau cho bien x: ')) \n",
        "  try:         \n",
        "    f = sympify(f)  # kiem tra ham     \n",
        "  except SympifyError:         \n",
        "    print('Ham nhap khong hop le!')     \n",
        "  else:         \n",
        "    var = Symbol(var)         \n",
        "    d = Derivative(f, var).doit()         \n",
        "    var_max = grad_ascent(var0, d, var)         \n",
        "    print('{0}: {1}'.format(var.name, var_max))         \n",
        "    print('Maximum value: {0}'.format(f.subs({var:var_max}))) "
      ],
      "metadata": {
        "colab": {
          "base_uri": "https://localhost:8080/"
        },
        "id": "u6SutLjAzayz",
        "outputId": "d58d19d7-b309-4e16-91e4-4eeb7d1a8aec"
      },
      "execution_count": 29,
      "outputs": [
        {
          "output_type": "stream",
          "name": "stdout",
          "text": [
            "Nhap ham 1 bien (f): cos(t)+p \n",
            "Nhap ten bien tuong ung (x): t\n",
            "Nhap gia tri khoi dau cho bien x: 0.01\n",
            "t: None\n",
            "Maximum value: p + cos(t)\n"
          ]
        }
      ]
    }
  ]
}