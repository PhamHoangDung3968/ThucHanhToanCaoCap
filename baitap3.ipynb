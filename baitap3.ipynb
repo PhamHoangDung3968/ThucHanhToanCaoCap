{
  "nbformat": 4,
  "nbformat_minor": 0,
  "metadata": {
    "colab": {
      "name": "baitap3.ipynb",
      "provenance": [],
      "authorship_tag": "ABX9TyMyNlc6KCVKaWFnviB3Upxc",
      "include_colab_link": true
    },
    "kernelspec": {
      "name": "python3",
      "display_name": "Python 3"
    },
    "language_info": {
      "name": "python"
    }
  },
  "cells": [
    {
      "cell_type": "markdown",
      "metadata": {
        "id": "view-in-github",
        "colab_type": "text"
      },
      "source": [
        "<a href=\"https://colab.research.google.com/github/PhamHoangDung3968/ThucHanhToanCaoCap/blob/main/baitap3.ipynb\" target=\"_parent\"><img src=\"https://colab.research.google.com/assets/colab-badge.svg\" alt=\"Open In Colab\"/></a>"
      ]
    },
    {
      "cell_type": "markdown",
      "source": [
        "**Thực hành 1:**"
      ],
      "metadata": {
        "id": "Qh0rauMCSCO2"
      }
    },
    {
      "cell_type": "code",
      "execution_count": 1,
      "metadata": {
        "id": "qStnXG8wOsU2"
      },
      "outputs": [],
      "source": [
        "def luythua(x,n):\n",
        "  ketqua = 1\n",
        "  for i in range(n):\n",
        "    ketqua = ketqua*x\n",
        "  return ketqua"
      ]
    },
    {
      "cell_type": "code",
      "source": [
        "luythua(2,1)"
      ],
      "metadata": {
        "colab": {
          "base_uri": "https://localhost:8080/"
        },
        "id": "Jr0SRnWASysG",
        "outputId": "57b4f5be-e20b-466f-c9e6-f363c122711c"
      },
      "execution_count": 2,
      "outputs": [
        {
          "output_type": "execute_result",
          "data": {
            "text/plain": [
              "2"
            ]
          },
          "metadata": {},
          "execution_count": 2
        }
      ]
    },
    {
      "cell_type": "code",
      "source": [
        "luythua(2,0)"
      ],
      "metadata": {
        "colab": {
          "base_uri": "https://localhost:8080/"
        },
        "id": "Jv445DgzSy9i",
        "outputId": "82b47bd8-6018-4a7f-91a8-6a5e3f41e712"
      },
      "execution_count": 3,
      "outputs": [
        {
          "output_type": "execute_result",
          "data": {
            "text/plain": [
              "1"
            ]
          },
          "metadata": {},
          "execution_count": 3
        }
      ]
    },
    {
      "cell_type": "markdown",
      "source": [
        "**Thực hành 2: lỗi và cơ chế bắt lỗi trong python**"
      ],
      "metadata": {
        "id": "ly2pbEAIS98v"
      }
    },
    {
      "cell_type": "code",
      "source": [
        "# Lỗi cú pháp\n",
        "while 1 = 2:"
      ],
      "metadata": {
        "colab": {
          "base_uri": "https://localhost:8080/",
          "height": 130
        },
        "id": "cZKSNPvsTD9o",
        "outputId": "eb2ebde7-df89-4900-99a1-f12c96b9dd2f"
      },
      "execution_count": 4,
      "outputs": [
        {
          "output_type": "error",
          "ename": "SyntaxError",
          "evalue": "ignored",
          "traceback": [
            "\u001b[0;36m  File \u001b[0;32m\"<ipython-input-4-700b0f9becc6>\"\u001b[0;36m, line \u001b[0;32m2\u001b[0m\n\u001b[0;31m    while 1 = 2:\u001b[0m\n\u001b[0m            ^\u001b[0m\n\u001b[0;31mSyntaxError\u001b[0m\u001b[0;31m:\u001b[0m invalid syntax\n"
          ]
        }
      ]
    },
    {
      "cell_type": "code",
      "source": [
        "10*(1/0)"
      ],
      "metadata": {
        "colab": {
          "base_uri": "https://localhost:8080/",
          "height": 165
        },
        "id": "L6pOdxOOTgjR",
        "outputId": "7129866b-662b-41ec-ddf5-7b0bc84db00a"
      },
      "execution_count": 5,
      "outputs": [
        {
          "output_type": "error",
          "ename": "ZeroDivisionError",
          "evalue": "ignored",
          "traceback": [
            "\u001b[0;31m---------------------------------------------------------------------------\u001b[0m",
            "\u001b[0;31mZeroDivisionError\u001b[0m                         Traceback (most recent call last)",
            "\u001b[0;32m<ipython-input-5-fbc7e86ae71a>\u001b[0m in \u001b[0;36m<module>\u001b[0;34m()\u001b[0m\n\u001b[0;32m----> 1\u001b[0;31m \u001b[0;36m10\u001b[0m\u001b[0;34m*\u001b[0m\u001b[0;34m(\u001b[0m\u001b[0;36m1\u001b[0m\u001b[0;34m/\u001b[0m\u001b[0;36m0\u001b[0m\u001b[0;34m)\u001b[0m\u001b[0;34m\u001b[0m\u001b[0;34m\u001b[0m\u001b[0m\n\u001b[0m",
            "\u001b[0;31mZeroDivisionError\u001b[0m: division by zero"
          ]
        }
      ]
    },
    {
      "cell_type": "code",
      "source": [
        "3 * bien_chua_khai_bao / 4"
      ],
      "metadata": {
        "colab": {
          "base_uri": "https://localhost:8080/",
          "height": 165
        },
        "id": "7dfI5iYDTqtV",
        "outputId": "c9253838-68c4-4f70-f4b9-1eaa3b4d3f26"
      },
      "execution_count": 6,
      "outputs": [
        {
          "output_type": "error",
          "ename": "NameError",
          "evalue": "ignored",
          "traceback": [
            "\u001b[0;31m---------------------------------------------------------------------------\u001b[0m",
            "\u001b[0;31mNameError\u001b[0m                                 Traceback (most recent call last)",
            "\u001b[0;32m<ipython-input-6-a849e0ab995e>\u001b[0m in \u001b[0;36m<module>\u001b[0;34m()\u001b[0m\n\u001b[0;32m----> 1\u001b[0;31m \u001b[0;36m3\u001b[0m \u001b[0;34m*\u001b[0m \u001b[0mbien_chua_khai_bao\u001b[0m \u001b[0;34m/\u001b[0m \u001b[0;36m4\u001b[0m\u001b[0;34m\u001b[0m\u001b[0;34m\u001b[0m\u001b[0m\n\u001b[0m",
            "\u001b[0;31mNameError\u001b[0m: name 'bien_chua_khai_bao' is not defined"
          ]
        }
      ]
    },
    {
      "cell_type": "code",
      "source": [
        "'ba' + 7"
      ],
      "metadata": {
        "colab": {
          "base_uri": "https://localhost:8080/",
          "height": 165
        },
        "id": "zwq5MHP_UMKz",
        "outputId": "6b7209bf-1842-49e5-b308-df9532d73cbd"
      },
      "execution_count": 7,
      "outputs": [
        {
          "output_type": "error",
          "ename": "TypeError",
          "evalue": "ignored",
          "traceback": [
            "\u001b[0;31m---------------------------------------------------------------------------\u001b[0m",
            "\u001b[0;31mTypeError\u001b[0m                                 Traceback (most recent call last)",
            "\u001b[0;32m<ipython-input-7-1407822a3f8c>\u001b[0m in \u001b[0;36m<module>\u001b[0;34m()\u001b[0m\n\u001b[0;32m----> 1\u001b[0;31m \u001b[0;34m'ba'\u001b[0m \u001b[0;34m+\u001b[0m \u001b[0;36m7\u001b[0m\u001b[0;34m\u001b[0m\u001b[0;34m\u001b[0m\u001b[0m\n\u001b[0m",
            "\u001b[0;31mTypeError\u001b[0m: can only concatenate str (not \"int\") to str"
          ]
        }
      ]
    },
    {
      "cell_type": "code",
      "source": [
        "10*(1/0)"
      ],
      "metadata": {
        "colab": {
          "base_uri": "https://localhost:8080/",
          "height": 165
        },
        "id": "GCBdvIe9UMj7",
        "outputId": "fd5eefee-fa1b-4dc8-d997-125dcddc9aa3"
      },
      "execution_count": 8,
      "outputs": [
        {
          "output_type": "error",
          "ename": "ZeroDivisionError",
          "evalue": "ignored",
          "traceback": [
            "\u001b[0;31m---------------------------------------------------------------------------\u001b[0m",
            "\u001b[0;31mZeroDivisionError\u001b[0m                         Traceback (most recent call last)",
            "\u001b[0;32m<ipython-input-8-fbc7e86ae71a>\u001b[0m in \u001b[0;36m<module>\u001b[0;34m()\u001b[0m\n\u001b[0;32m----> 1\u001b[0;31m \u001b[0;36m10\u001b[0m\u001b[0;34m*\u001b[0m\u001b[0;34m(\u001b[0m\u001b[0;36m1\u001b[0m\u001b[0;34m/\u001b[0m\u001b[0;36m0\u001b[0m\u001b[0;34m)\u001b[0m\u001b[0;34m\u001b[0m\u001b[0;34m\u001b[0m\u001b[0m\n\u001b[0m",
            "\u001b[0;31mZeroDivisionError\u001b[0m: division by zero"
          ]
        }
      ]
    },
    {
      "cell_type": "code",
      "source": [
        "'ba' + (1/0)"
      ],
      "metadata": {
        "colab": {
          "base_uri": "https://localhost:8080/",
          "height": 165
        },
        "id": "8QhHfZZjUZDf",
        "outputId": "dd04bdc9-acbc-4896-a0af-9ac00df0d73f"
      },
      "execution_count": 9,
      "outputs": [
        {
          "output_type": "error",
          "ename": "ZeroDivisionError",
          "evalue": "ignored",
          "traceback": [
            "\u001b[0;31m---------------------------------------------------------------------------\u001b[0m",
            "\u001b[0;31mZeroDivisionError\u001b[0m                         Traceback (most recent call last)",
            "\u001b[0;32m<ipython-input-9-98f7ce08daf8>\u001b[0m in \u001b[0;36m<module>\u001b[0;34m()\u001b[0m\n\u001b[0;32m----> 1\u001b[0;31m \u001b[0;34m'ba'\u001b[0m \u001b[0;34m+\u001b[0m \u001b[0;34m(\u001b[0m\u001b[0;36m1\u001b[0m\u001b[0;34m/\u001b[0m\u001b[0;36m0\u001b[0m\u001b[0;34m)\u001b[0m\u001b[0;34m\u001b[0m\u001b[0;34m\u001b[0m\u001b[0m\n\u001b[0m",
            "\u001b[0;31mZeroDivisionError\u001b[0m: division by zero"
          ]
        }
      ]
    },
    {
      "cell_type": "code",
      "source": [
        "'ba' + 7 + (1/0)"
      ],
      "metadata": {
        "colab": {
          "base_uri": "https://localhost:8080/",
          "height": 165
        },
        "id": "xPeFgOO5UZMT",
        "outputId": "fd8919d5-9150-49c3-a0ed-2e98973b453e"
      },
      "execution_count": 10,
      "outputs": [
        {
          "output_type": "error",
          "ename": "TypeError",
          "evalue": "ignored",
          "traceback": [
            "\u001b[0;31m---------------------------------------------------------------------------\u001b[0m",
            "\u001b[0;31mTypeError\u001b[0m                                 Traceback (most recent call last)",
            "\u001b[0;32m<ipython-input-10-0baa66ecc6d5>\u001b[0m in \u001b[0;36m<module>\u001b[0;34m()\u001b[0m\n\u001b[0;32m----> 1\u001b[0;31m \u001b[0;34m'ba'\u001b[0m \u001b[0;34m+\u001b[0m \u001b[0;36m7\u001b[0m \u001b[0;34m+\u001b[0m \u001b[0;34m(\u001b[0m\u001b[0;36m1\u001b[0m\u001b[0;34m/\u001b[0m\u001b[0;36m0\u001b[0m\u001b[0;34m)\u001b[0m\u001b[0;34m\u001b[0m\u001b[0;34m\u001b[0m\u001b[0m\n\u001b[0m",
            "\u001b[0;31mTypeError\u001b[0m: can only concatenate str (not \"int\") to str"
          ]
        }
      ]
    },
    {
      "cell_type": "markdown",
      "source": [
        "**Thực hành 3: xử lý ngoại lệ với cơ chế try...except**"
      ],
      "metadata": {
        "id": "oi4JTAQ_UmHY"
      }
    },
    {
      "cell_type": "code",
      "source": [
        "x = int(input('Vui lòng nhập số: '))"
      ],
      "metadata": {
        "colab": {
          "base_uri": "https://localhost:8080/",
          "height": 182
        },
        "id": "xvH6pe-2Uyof",
        "outputId": "63a30b88-33d7-4033-e0c2-e48f7ce4d3c6"
      },
      "execution_count": 12,
      "outputs": [
        {
          "name": "stdout",
          "output_type": "stream",
          "text": [
            "Vui lòng nhập số: a\n"
          ]
        },
        {
          "output_type": "error",
          "ename": "ValueError",
          "evalue": "ignored",
          "traceback": [
            "\u001b[0;31m---------------------------------------------------------------------------\u001b[0m",
            "\u001b[0;31mValueError\u001b[0m                                Traceback (most recent call last)",
            "\u001b[0;32m<ipython-input-12-105471695979>\u001b[0m in \u001b[0;36m<module>\u001b[0;34m()\u001b[0m\n\u001b[0;32m----> 1\u001b[0;31m \u001b[0mx\u001b[0m \u001b[0;34m=\u001b[0m \u001b[0mint\u001b[0m\u001b[0;34m(\u001b[0m\u001b[0minput\u001b[0m\u001b[0;34m(\u001b[0m\u001b[0;34m'Vui lòng nhập số: '\u001b[0m\u001b[0;34m)\u001b[0m\u001b[0;34m)\u001b[0m\u001b[0;34m\u001b[0m\u001b[0;34m\u001b[0m\u001b[0m\n\u001b[0m",
            "\u001b[0;31mValueError\u001b[0m: invalid literal for int() with base 10: 'a'"
          ]
        }
      ]
    },
    {
      "cell_type": "code",
      "source": [
        "while True:\n",
        "  try:\n",
        "    x = int(input('Vui lòng nhập số: '))\n",
        "    break\n",
        "  except:\n",
        "    print('Vui lòng nhập số, không nhập chữ! ')"
      ],
      "metadata": {
        "colab": {
          "base_uri": "https://localhost:8080/"
        },
        "id": "Js7bQtIdVD39",
        "outputId": "cc52a21b-4ec7-483d-e278-6a866fa801a2"
      },
      "execution_count": 13,
      "outputs": [
        {
          "name": "stdout",
          "output_type": "stream",
          "text": [
            "Vui lòng nhập số: a\n",
            "Vui lòng nhập số, không nhập chữ! \n",
            "Vui lòng nhập số: 3\n"
          ]
        }
      ]
    },
    {
      "cell_type": "markdown",
      "source": [
        "**Thực hành 4: xử lý ngoại lệ với cơ chế try...except...else...finally**"
      ],
      "metadata": {
        "id": "N-h6b9mkVo7h"
      }
    },
    {
      "cell_type": "code",
      "source": [
        "while True:\n",
        "  try:\n",
        "    x = int(input('Vui lòng nhập số: '))\n",
        "  except:\n",
        "    print('Số vừa nhập sai ')\n",
        "  else:\n",
        "    print('Số vừa nhập là ' + str(x))\n",
        "    break\n",
        "  finally:\n",
        "    print('Chương trình đã hoàn thành')"
      ],
      "metadata": {
        "colab": {
          "base_uri": "https://localhost:8080/"
        },
        "id": "1E6hN5jpV2rW",
        "outputId": "76cbadee-8bcf-4f94-d955-c466bfba6ef2"
      },
      "execution_count": 14,
      "outputs": [
        {
          "output_type": "stream",
          "name": "stdout",
          "text": [
            "Vui lòng nhập số: a\n",
            "Số vừa nhập sai \n",
            "Chương trình đã hoàn thành\n",
            "Vui lòng nhập số: hello 2\n",
            "Số vừa nhập sai \n",
            "Chương trình đã hoàn thành\n",
            "Vui lòng nhập số: 2\n",
            "Số vừa nhập là 2\n",
            "Chương trình đã hoàn thành\n"
          ]
        }
      ]
    },
    {
      "cell_type": "markdown",
      "source": [
        "**Thực hành 5: Tạo hàm phát sinh dãy số thực đều**"
      ],
      "metadata": {
        "id": "iQSveuT1ZYel"
      }
    },
    {
      "cell_type": "code",
      "source": [
        "def frange(batdau, ketthuc, buocnhay):\n",
        "  day_ketqua = []\n",
        "  while batdau < ketthuc:\n",
        "    day_ketqua.append(batdau)\n",
        "    batdau = batdau + buocnhay\n",
        "  return day_ketqua\n",
        "  "
      ],
      "metadata": {
        "id": "1R6060jRhjLv"
      },
      "execution_count": 15,
      "outputs": []
    },
    {
      "cell_type": "code",
      "source": [
        "tu0den2 = frange(0,3,0.2)\n",
        "tu0den2"
      ],
      "metadata": {
        "colab": {
          "base_uri": "https://localhost:8080/"
        },
        "id": "_ECS8u7LiPPq",
        "outputId": "61626558-5459-4913-d207-9f363ece36d3"
      },
      "execution_count": 16,
      "outputs": [
        {
          "output_type": "execute_result",
          "data": {
            "text/plain": [
              "[0,\n",
              " 0.2,\n",
              " 0.4,\n",
              " 0.6000000000000001,\n",
              " 0.8,\n",
              " 1.0,\n",
              " 1.2,\n",
              " 1.4,\n",
              " 1.5999999999999999,\n",
              " 1.7999999999999998,\n",
              " 1.9999999999999998,\n",
              " 2.1999999999999997,\n",
              " 2.4,\n",
              " 2.6,\n",
              " 2.8000000000000003]"
            ]
          },
          "metadata": {},
          "execution_count": 16
        }
      ]
    },
    {
      "cell_type": "markdown",
      "source": [
        "**Thực hành 6: Vẽ quỹ đạo bay của vật được ném lên**"
      ],
      "metadata": {
        "id": "fr4UUJmxZYzk"
      }
    },
    {
      "cell_type": "code",
      "source": [
        "from matplotlib import pyplot as plt \n",
        "import math \n",
        "\n",
        "def draw_graph(x,y):\n",
        "  plt.plot(x,y)\n",
        "  plt.xlabel('Trục X')\n",
        "  plt.ylabel('Trục Y')\n",
        "  plt.title('Đồ thị bài toán ném bóng bay')\n",
        "\n",
        "def frange(batdau, ketthuc, buocnhay):\n",
        "  day_ketqua = []\n",
        "  while batdau < ketthuc:\n",
        "    day_ketqua.append(batdau)\n",
        "    batdau = batdau + buocnhay\n",
        "  return day_ketqua\n",
        "\n",
        "def draw_trajectory(u,theta):\n",
        "  g = 9.8\n",
        "  theta = math.radians(theta)\n",
        "  # Thời gian bay\n",
        "  t_flight = 2*u*math.sin(theta)/g\n",
        "  # tính toán khoảng cách thời gian\n",
        "  buoc_nhay = frange(0, t_flight, 0.0001)\n",
        "  x = []\n",
        "  y = []\n",
        "  for t in buoc_nhay:\n",
        "    x.append(u*math.cos(theta)*t)\n",
        "    y.append(u*math.sin(theta)*t - 0.5*g*t**2)\n",
        "  draw_graph(x,y)\n",
        "try:\n",
        "  u = float(input('Nhập vận tốc ban đầu (m/s)'))\n",
        "  theta = float(input('Nhập góc bay '))\n",
        "except ValueError:\n",
        "  print('Nhập các giá trị sai! ')\n",
        "else:\n",
        "  draw_trajectory(u,theta)\n",
        "  plt.show()\n",
        "finally:\n",
        "  print('Hoàn thành chương trình! ')"
      ],
      "metadata": {
        "id": "s9ER0xgAiiLM",
        "outputId": "3b99ad95-5f9a-42fd-e86a-0c5adbb7341f",
        "colab": {
          "base_uri": "https://localhost:8080/",
          "height": 348
        }
      },
      "execution_count": 18,
      "outputs": [
        {
          "name": "stdout",
          "output_type": "stream",
          "text": [
            "Nhập vận tốc ban đầu (m/s)30\n",
            "Nhập góc bay 60\n"
          ]
        },
        {
          "output_type": "display_data",
          "data": {
            "image/png": "[encoded data removed]",
            "text/plain": [
              "<Figure size 432x288 with 1 Axes>"
            ]
          },
          "metadata": {
            "needs_background": "light"
          }
        },
        {
          "output_type": "stream",
          "name": "stdout",
          "text": [
            "Hoàn thành chương trình! \n"
          ]
        }
      ]
    },
    {
      "cell_type": "markdown",
      "source": [
        "**Thực hành 7: Vẽ nhiều quỹ đạo trên cùng một đồ thị**"
      ],
      "metadata": {
        "id": "ZFOqtZU1ZY5H"
      }
    },
    {
      "cell_type": "code",
      "source": [
        "ds_vantoc = [20,40,60]\n",
        "goc_ban_dau = 45\n",
        "for v in ds_vantoc:\n",
        "  draw_trajectory(v,goc_ban_dau)\n",
        "chudan = []\n",
        "for i in ds_vantoc:\n",
        "  chudan.append(str(i))\n",
        "print('Chu dan duoc tao la: ')\n",
        "print(chudan)\n",
        "plt.legend(chudan)\n",
        "plt.show()"
      ],
      "metadata": {
        "id": "xviBrmNRls7J",
        "outputId": "54515791-f338-4443-ee80-120942fa9c3a",
        "colab": {
          "base_uri": "https://localhost:8080/",
          "height": 330
        }
      },
      "execution_count": 19,
      "outputs": [
        {
          "output_type": "stream",
          "name": "stdout",
          "text": [
            "Chu dan duoc tao la: \n",
            "['20', '40', '60']\n"
          ]
        },
        {
          "output_type": "display_data",
          "data": {
            "image/png": "[encoded data removed]",
            "text/plain": [
              "<Figure size 432x288 with 1 Axes>"
            ]
          },
          "metadata": {
            "needs_background": "light"
          }
        }
      ]
    },
    {
      "cell_type": "markdown",
      "source": [
        "**Thực hành 8: Xây dựng chương trình tính đạo hàm**"
      ],
      "metadata": {
        "id": "08aQWtQnaAui"
      }
    },
    {
      "cell_type": "code",
      "source": [
        "from sympy import Symbol, Derivative, sympify, pprint\n",
        "def tinh_daoham(ham_f,bien):\n",
        "  bien = Symbol(bien)\n",
        "  d = Derivative(ham_f,bien).doit()\n",
        "  pprint(d)"
      ],
      "metadata": {
        "id": "unM596tEnv_5"
      },
      "execution_count": 20,
      "outputs": []
    },
    {
      "cell_type": "code",
      "source": [
        "tinh_daoham('x**3+x**2+x','x')"
      ],
      "metadata": {
        "id": "HYXDTjdko1DU",
        "outputId": "0fe455b3-1026-4e51-9fa9-fe45e540ba55",
        "colab": {
          "base_uri": "https://localhost:8080/"
        }
      },
      "execution_count": 21,
      "outputs": [
        {
          "output_type": "stream",
          "name": "stdout",
          "text": [
            "   2          \n",
            "3⋅x  + 2⋅x + 1\n"
          ]
        }
      ]
    },
    {
      "cell_type": "code",
      "source": [
        "# các lỗi thường gặp \n",
        "tinh_daoham('x*/3+x**2+r','x')"
      ],
      "metadata": {
        "id": "-aJ_o1IBpaxX",
        "outputId": "f9802a34-5ed2-43ed-abba-b74edf5fc6a7",
        "colab": {
          "base_uri": "https://localhost:8080/",
          "height": 450
        }
      },
      "execution_count": 23,
      "outputs": [
        {
          "output_type": "error",
          "ename": "SympifyError",
          "evalue": "ignored",
          "traceback": [
            "\u001b[0;31m---------------------------------------------------------------------------\u001b[0m",
            "\u001b[0;31mSyntaxError\u001b[0m                               Traceback (most recent call last)",
            "\u001b[0;32m/usr/local/lib/python3.7/dist-packages/sympy/core/sympify.py\u001b[0m in \u001b[0;36msympify\u001b[0;34m(a, locals, convert_xor, strict, rational, evaluate)\u001b[0m\n\u001b[1;32m    479\u001b[0m         \u001b[0ma\u001b[0m \u001b[0;34m=\u001b[0m \u001b[0ma\u001b[0m\u001b[0;34m.\u001b[0m\u001b[0mreplace\u001b[0m\u001b[0;34m(\u001b[0m\u001b[0;34m'\\n'\u001b[0m\u001b[0;34m,\u001b[0m \u001b[0;34m''\u001b[0m\u001b[0;34m)\u001b[0m\u001b[0;34m\u001b[0m\u001b[0;34m\u001b[0m\u001b[0m\n\u001b[0;32m--> 480\u001b[0;31m         \u001b[0mexpr\u001b[0m \u001b[0;34m=\u001b[0m \u001b[0mparse_expr\u001b[0m\u001b[0;34m(\u001b[0m\u001b[0ma\u001b[0m\u001b[0;34m,\u001b[0m \u001b[0mlocal_dict\u001b[0m\u001b[0;34m=\u001b[0m\u001b[0mlocals\u001b[0m\u001b[0;34m,\u001b[0m \u001b[0mtransformations\u001b[0m\u001b[0;34m=\u001b[0m\u001b[0mtransformations\u001b[0m\u001b[0;34m,\u001b[0m \u001b[0mevaluate\u001b[0m\u001b[0;34m=\u001b[0m\u001b[0mevaluate\u001b[0m\u001b[0;34m)\u001b[0m\u001b[0;34m\u001b[0m\u001b[0;34m\u001b[0m\u001b[0m\n\u001b[0m\u001b[1;32m    481\u001b[0m     \u001b[0;32mexcept\u001b[0m \u001b[0;34m(\u001b[0m\u001b[0mTokenError\u001b[0m\u001b[0;34m,\u001b[0m \u001b[0mSyntaxError\u001b[0m\u001b[0;34m)\u001b[0m \u001b[0;32mas\u001b[0m \u001b[0mexc\u001b[0m\u001b[0;34m:\u001b[0m\u001b[0;34m\u001b[0m\u001b[0;34m\u001b[0m\u001b[0m\n",
            "\u001b[0;32m/usr/local/lib/python3.7/dist-packages/sympy/parsing/sympy_parser.py\u001b[0m in \u001b[0;36mparse_expr\u001b[0;34m(s, local_dict, transformations, global_dict, evaluate)\u001b[0m\n\u001b[1;32m   1007\u001b[0m \u001b[0;34m\u001b[0m\u001b[0m\n\u001b[0;32m-> 1008\u001b[0;31m     \u001b[0;32mreturn\u001b[0m \u001b[0meval_expr\u001b[0m\u001b[0;34m(\u001b[0m\u001b[0mcode\u001b[0m\u001b[0;34m,\u001b[0m \u001b[0mlocal_dict\u001b[0m\u001b[0;34m,\u001b[0m \u001b[0mglobal_dict\u001b[0m\u001b[0;34m)\u001b[0m\u001b[0;34m\u001b[0m\u001b[0;34m\u001b[0m\u001b[0m\n\u001b[0m\u001b[1;32m   1009\u001b[0m \u001b[0;34m\u001b[0m\u001b[0m\n",
            "\u001b[0;32m/usr/local/lib/python3.7/dist-packages/sympy/parsing/sympy_parser.py\u001b[0m in \u001b[0;36meval_expr\u001b[0;34m(code, local_dict, global_dict)\u001b[0m\n\u001b[1;32m    902\u001b[0m     expr = eval(\n\u001b[0;32m--> 903\u001b[0;31m         code, global_dict, local_dict)  # take local objects in preference\n\u001b[0m\u001b[1;32m    904\u001b[0m \u001b[0;34m\u001b[0m\u001b[0m\n",
            "\u001b[0;31mSyntaxError\u001b[0m: invalid syntax (<string>, line 1)",
            "\nDuring handling of the above exception, another exception occurred:\n",
            "\u001b[0;31mSympifyError\u001b[0m                              Traceback (most recent call last)",
            "\u001b[0;32m<ipython-input-23-6100749e5394>\u001b[0m in \u001b[0;36m<module>\u001b[0;34m()\u001b[0m\n\u001b[0;32m----> 1\u001b[0;31m \u001b[0mtinh_daoham\u001b[0m\u001b[0;34m(\u001b[0m\u001b[0;34m'x*/3+x**2+r'\u001b[0m\u001b[0;34m,\u001b[0m\u001b[0;34m'x'\u001b[0m\u001b[0;34m)\u001b[0m\u001b[0;34m\u001b[0m\u001b[0;34m\u001b[0m\u001b[0m\n\u001b[0m",
            "\u001b[0;32m<ipython-input-20-0e4361289871>\u001b[0m in \u001b[0;36mtinh_daoham\u001b[0;34m(ham_f, bien)\u001b[0m\n\u001b[1;32m      2\u001b[0m \u001b[0;32mdef\u001b[0m \u001b[0mtinh_daoham\u001b[0m\u001b[0;34m(\u001b[0m\u001b[0mham_f\u001b[0m\u001b[0;34m,\u001b[0m\u001b[0mbien\u001b[0m\u001b[0;34m)\u001b[0m\u001b[0;34m:\u001b[0m\u001b[0;34m\u001b[0m\u001b[0;34m\u001b[0m\u001b[0m\n\u001b[1;32m      3\u001b[0m   \u001b[0mbien\u001b[0m \u001b[0;34m=\u001b[0m \u001b[0mSymbol\u001b[0m\u001b[0;34m(\u001b[0m\u001b[0mbien\u001b[0m\u001b[0;34m)\u001b[0m\u001b[0;34m\u001b[0m\u001b[0;34m\u001b[0m\u001b[0m\n\u001b[0;32m----> 4\u001b[0;31m   \u001b[0md\u001b[0m \u001b[0;34m=\u001b[0m \u001b[0mDerivative\u001b[0m\u001b[0;34m(\u001b[0m\u001b[0mham_f\u001b[0m\u001b[0;34m,\u001b[0m\u001b[0mbien\u001b[0m\u001b[0;34m)\u001b[0m\u001b[0;34m.\u001b[0m\u001b[0mdoit\u001b[0m\u001b[0;34m(\u001b[0m\u001b[0;34m)\u001b[0m\u001b[0;34m\u001b[0m\u001b[0;34m\u001b[0m\u001b[0m\n\u001b[0m\u001b[1;32m      5\u001b[0m   \u001b[0mpprint\u001b[0m\u001b[0;34m(\u001b[0m\u001b[0md\u001b[0m\u001b[0;34m)\u001b[0m\u001b[0;34m\u001b[0m\u001b[0;34m\u001b[0m\u001b[0m\n",
            "\u001b[0;32m/usr/local/lib/python3.7/dist-packages/sympy/core/function.py\u001b[0m in \u001b[0;36m__new__\u001b[0;34m(cls, expr, *variables, **kwargs)\u001b[0m\n\u001b[1;32m   1268\u001b[0m         \u001b[0;32mfrom\u001b[0m \u001b[0msympy\u001b[0m\u001b[0;34m.\u001b[0m\u001b[0mutilities\u001b[0m\u001b[0;34m.\u001b[0m\u001b[0mmisc\u001b[0m \u001b[0;32mimport\u001b[0m \u001b[0mfilldedent\u001b[0m\u001b[0;34m\u001b[0m\u001b[0;34m\u001b[0m\u001b[0m\n\u001b[1;32m   1269\u001b[0m \u001b[0;34m\u001b[0m\u001b[0m\n\u001b[0;32m-> 1270\u001b[0;31m         \u001b[0mexpr\u001b[0m \u001b[0;34m=\u001b[0m \u001b[0msympify\u001b[0m\u001b[0;34m(\u001b[0m\u001b[0mexpr\u001b[0m\u001b[0;34m)\u001b[0m\u001b[0;34m\u001b[0m\u001b[0;34m\u001b[0m\u001b[0m\n\u001b[0m\u001b[1;32m   1271\u001b[0m         \u001b[0msymbols_or_none\u001b[0m \u001b[0;34m=\u001b[0m \u001b[0mgetattr\u001b[0m\u001b[0;34m(\u001b[0m\u001b[0mexpr\u001b[0m\u001b[0;34m,\u001b[0m \u001b[0;34m\"free_symbols\"\u001b[0m\u001b[0;34m,\u001b[0m \u001b[0;32mNone\u001b[0m\u001b[0;34m)\u001b[0m\u001b[0;34m\u001b[0m\u001b[0;34m\u001b[0m\u001b[0m\n\u001b[1;32m   1272\u001b[0m         \u001b[0mhas_symbol_set\u001b[0m \u001b[0;34m=\u001b[0m \u001b[0misinstance\u001b[0m\u001b[0;34m(\u001b[0m\u001b[0msymbols_or_none\u001b[0m\u001b[0;34m,\u001b[0m \u001b[0mset\u001b[0m\u001b[0;34m)\u001b[0m\u001b[0;34m\u001b[0m\u001b[0;34m\u001b[0m\u001b[0m\n",
            "\u001b[0;32m/usr/local/lib/python3.7/dist-packages/sympy/core/sympify.py\u001b[0m in \u001b[0;36msympify\u001b[0;34m(a, locals, convert_xor, strict, rational, evaluate)\u001b[0m\n\u001b[1;32m    480\u001b[0m         \u001b[0mexpr\u001b[0m \u001b[0;34m=\u001b[0m \u001b[0mparse_expr\u001b[0m\u001b[0;34m(\u001b[0m\u001b[0ma\u001b[0m\u001b[0;34m,\u001b[0m \u001b[0mlocal_dict\u001b[0m\u001b[0;34m=\u001b[0m\u001b[0mlocals\u001b[0m\u001b[0;34m,\u001b[0m \u001b[0mtransformations\u001b[0m\u001b[0;34m=\u001b[0m\u001b[0mtransformations\u001b[0m\u001b[0;34m,\u001b[0m \u001b[0mevaluate\u001b[0m\u001b[0;34m=\u001b[0m\u001b[0mevaluate\u001b[0m\u001b[0;34m)\u001b[0m\u001b[0;34m\u001b[0m\u001b[0;34m\u001b[0m\u001b[0m\n\u001b[1;32m    481\u001b[0m     \u001b[0;32mexcept\u001b[0m \u001b[0;34m(\u001b[0m\u001b[0mTokenError\u001b[0m\u001b[0;34m,\u001b[0m \u001b[0mSyntaxError\u001b[0m\u001b[0;34m)\u001b[0m \u001b[0;32mas\u001b[0m \u001b[0mexc\u001b[0m\u001b[0;34m:\u001b[0m\u001b[0;34m\u001b[0m\u001b[0;34m\u001b[0m\u001b[0m\n\u001b[0;32m--> 482\u001b[0;31m         \u001b[0;32mraise\u001b[0m \u001b[0mSympifyError\u001b[0m\u001b[0;34m(\u001b[0m\u001b[0;34m'could not parse %r'\u001b[0m \u001b[0;34m%\u001b[0m \u001b[0ma\u001b[0m\u001b[0;34m,\u001b[0m \u001b[0mexc\u001b[0m\u001b[0;34m)\u001b[0m\u001b[0;34m\u001b[0m\u001b[0;34m\u001b[0m\u001b[0m\n\u001b[0m\u001b[1;32m    483\u001b[0m \u001b[0;34m\u001b[0m\u001b[0m\n\u001b[1;32m    484\u001b[0m     \u001b[0;32mreturn\u001b[0m \u001b[0mexpr\u001b[0m\u001b[0;34m\u001b[0m\u001b[0;34m\u001b[0m\u001b[0m\n",
            "\u001b[0;31mSympifyError\u001b[0m: Sympify of expression 'could not parse 'x*/3+x**2+r'' failed, because of exception being raised:\nSyntaxError: invalid syntax (<string>, line 1)"
          ]
        }
      ]
    },
    {
      "cell_type": "code",
      "source": [
        "from sympy import Symbol, Derivative, sympify, pprint\n",
        "from sympy.core.sympify import SympifyError\n",
        "\n",
        "def tinh_daoham(ham_f,bien):\n",
        "  bien = Symbol(bien)\n",
        "  d = Derivative(ham_f,bien).doit()\n",
        "  pprint(d)\n",
        "ham_input = input('Nhập 1 hàm số: ')\n",
        "bien = input('Nhập biến số: ')\n",
        "try:\n",
        "  ham_sympy = sympify(ham_input) \n",
        "except SympifyError:\n",
        "  print('Hàm nhập bị lỗi! ')\n",
        "else:\n",
        "  tinh_daoham(ham_sympy,bien)"
      ],
      "metadata": {
        "id": "zUPVs8pup8yY",
        "outputId": "6ecf6e5f-5ef6-4884-d218-9040ae11923c",
        "colab": {
          "base_uri": "https://localhost:8080/"
        }
      },
      "execution_count": 28,
      "outputs": [
        {
          "output_type": "stream",
          "name": "stdout",
          "text": [
            "Nhập 1 hàm số: sin(x**2)\n",
            "Nhập biến số: x\n",
            "       ⎛ 2⎞\n",
            "2⋅x⋅cos⎝x ⎠\n"
          ]
        }
      ]
    },
    {
      "cell_type": "code",
      "source": [
        "from sympy import Symbol, Derivative, sympify, pprint\n",
        "from sympy.core.sympify import SympifyError\n",
        "\n",
        "def tinh_daoham(ham_f,bien):\n",
        "  bien = Symbol(bien)\n",
        "  d = Derivative(ham_f,bien).doit()\n",
        "  pprint(d)\n",
        "ham_input = input('Nhập 1 hàm số: ')\n",
        "bien = input('Nhập biến số: ')\n",
        "try:\n",
        "  ham_sympy = sympify(ham_input) \n",
        "except SympifyError:\n",
        "  print('Hàm nhập bị lỗi! ')\n",
        "else:\n",
        "  tinh_daoham(ham_sympy,bien)"
      ],
      "metadata": {
        "id": "-x44XFh9sNhe",
        "outputId": "d3be7f44-ea09-4094-985d-d9d1290997ae",
        "colab": {
          "base_uri": "https://localhost:8080/"
        }
      },
      "execution_count": 30,
      "outputs": [
        {
          "output_type": "stream",
          "name": "stdout",
          "text": [
            "Nhập 1 hàm số: 2x**2+y**2\n",
            "Nhập biến số: x\n",
            "Hàm nhập bị lỗi! \n"
          ]
        }
      ]
    },
    {
      "cell_type": "markdown",
      "source": [
        "**Thực hành: Vẽ đồ thị hàm 𝑹 để thấy được khoảng cách bay của “đạn” theo góc bắn.**"
      ],
      "metadata": {
        "id": "wxRWH47Is1jE"
      }
    },
    {
      "cell_type": "code",
      "source": [
        "from sympy import Symbol, sin, pi\n",
        "u = Symbol('u')\n",
        "u = 30\n",
        "g = 9.8\n",
        "theta = Symbol('theta')\n",
        "R = (u**2)*sin(2.0*theta)/g\n",
        "R"
      ],
      "metadata": {
        "id": "DZi5mhT-s0Tj",
        "outputId": "cfd9e6b9-123d-467f-b2c0-c5ff4cfef510",
        "colab": {
          "base_uri": "https://localhost:8080/",
          "height": 39
        }
      },
      "execution_count": 32,
      "outputs": [
        {
          "output_type": "execute_result",
          "data": {
            "text/latex": "$\\displaystyle 91.8367346938775 \\sin{\\left(2.0 \\theta \\right)}$",
            "text/plain": [
              "91.8367346938775*sin(2.0*theta)"
            ]
          },
          "metadata": {},
          "execution_count": 32
        }
      ]
    },
    {
      "cell_type": "markdown",
      "source": [
        "**Thực hành 9: Tìm giá trị cực đại của hàm bằng phương pháp Gradient Ascent**"
      ],
      "metadata": {
        "id": "IBrrAzrpuZw3"
      }
    },
    {
      "cell_type": "code",
      "source": [
        "import math \n",
        "from sympy import Derivative, Symbol, sin\n",
        "def grad_ascent(x0,flx,x):\n",
        "  epsilon = 1e-6\n",
        "  step_size = 1e-4\n",
        "  x_cu = x0\n",
        "  x_moi = x_cu + step_size*flx.subs({x:x_cu}).evalf()\n",
        "  while abs(x_cu - x_moi) > epsilon: \n",
        "    x_cu = x_moi \n",
        "    x_moi = x_cu + step_size * flx.subs({x: x_cu}).evalf() \n",
        "  return x_moi\n",
        "\n",
        "def tim_max_theta(R,theta):\n",
        "  R1theta = Derivative(R, theta).doit() \n",
        "  theta_0 = 1e-3\n",
        "  theta_max = grad_ascent(theta_0, R1theta, theta) \n",
        "  return theta_max\n",
        "\n",
        "g = 9.8\n",
        "u = 30\n",
        "theta = Symbol('theta')\n",
        "R = (u**2) * sin(2*theta) / g \n",
        "theta_max = tim_max_theta(R, theta) \n",
        "print ('Goc theta: {0}'.format(math.degrees(theta_max))) "
      ],
      "metadata": {
        "id": "_WNYwEACuY0W",
        "outputId": "c7ad587b-0e9d-4bee-fea6-86a1aa56f125",
        "colab": {
          "base_uri": "https://localhost:8080/"
        }
      },
      "execution_count": 37,
      "outputs": [
        {
          "output_type": "stream",
          "name": "stdout",
          "text": [
            "Goc theta: 44.99854431510696\n"
          ]
        }
      ]
    },
    {
      "cell_type": "code",
      "source": [
        "print ('Khoang cach vat bay xa: {0}'.format(R.subs({theta:theta_max}))) "
      ],
      "metadata": {
        "id": "eb7V3Jwkw4LK",
        "outputId": "a7edd8fc-556c-4877-a664-2264ed2e5c02",
        "colab": {
          "base_uri": "https://localhost:8080/"
        }
      },
      "execution_count": 38,
      "outputs": [
        {
          "output_type": "stream",
          "name": "stdout",
          "text": [
            "Khoang cach vat bay xa: 91.8367345753182\n"
          ]
        }
      ]
    },
    {
      "cell_type": "markdown",
      "source": [
        "### ***BÀI TẬP CHƯƠNG 3***"
      ],
      "metadata": {
        "id": "iqV5BH9exIIj"
      }
    },
    {
      "cell_type": "markdown",
      "source": [
        "**Bài tập 1**"
      ],
      "metadata": {
        "id": "TA5H7B5ixTAK"
      }
    },
    {
      "cell_type": "code",
      "source": [
        "from matplotlib import pyplot as plt \n",
        "import math \n",
        "\n",
        "def draw_graph(x,y):\n",
        "  plt.plot(x,y)\n",
        "  plt.xlabel('Trục X')\n",
        "  plt.ylabel('Trục Y')\n",
        "  plt.title('Đồ thị bài toán ném vật thể bay')\n",
        "\n",
        "def frange(batdau, ketthuc, buocnhay):\n",
        "  day_ketqua = []\n",
        "  while batdau < ketthuc:\n",
        "    day_ketqua.append(batdau)\n",
        "    batdau = batdau + buocnhay\n",
        "  return day_ketqua\n",
        "\n",
        "def draw_trajectory(u,theta):\n",
        "  g = 9.8\n",
        "  theta = math.radians(theta)\n",
        "  # Thời gian bay\n",
        "  t_flight = 2*u*math.sin(theta)/g\n",
        "  # tính toán khoảng cách thời gian\n",
        "  buoc_nhay = frange(0, t_flight, 0.0001)\n",
        "  x = []\n",
        "  y = []\n",
        "  for t in buoc_nhay:\n",
        "    x.append(u*math.cos(theta)*t)\n",
        "    y.append(u*math.sin(theta)*t - 0.5*g*t**2)\n",
        "  draw_graph(x,y)\n",
        "try:\n",
        "  u = 30\n",
        "  theta = float(input('Nhập góc bay '))\n",
        "except ValueError:\n",
        "  print('Nhập các giá trị sai! ')\n",
        "else:\n",
        "  draw_trajectory(u,theta)\n",
        "  plt.show()\n",
        "finally:\n",
        "  print('Hoàn thành chương trình! ')"
      ],
      "metadata": {
        "id": "t0bCuD-9xPv5",
        "outputId": "a58bc0c9-0dae-4850-ec06-875d573753e1",
        "colab": {
          "base_uri": "https://localhost:8080/",
          "height": 330
        }
      },
      "execution_count": 48,
      "outputs": [
        {
          "name": "stdout",
          "output_type": "stream",
          "text": [
            "Nhập góc bay 60\n"
          ]
        },
        {
          "output_type": "display_data",
          "data": {
            "image/png": "[encoded data removed]",
            "text/plain": [
              "<Figure size 432x288 with 1 Axes>"
            ]
          },
          "metadata": {
            "needs_background": "light"
          }
        },
        {
          "output_type": "stream",
          "name": "stdout",
          "text": [
            "Hoàn thành chương trình! \n"
          ]
        }
      ]
    },
    {
      "cell_type": "markdown",
      "source": [
        "**Bài tập 2**"
      ],
      "metadata": {
        "id": "Q7CfyxdL17dv"
      }
    },
    {
      "cell_type": "code",
      "source": [
        "from matplotlib import pyplot as plt \n",
        "import math \n",
        "\n",
        "def draw_graph(x,y):\n",
        "  plt.plot(x,y)\n",
        "  plt.xlabel('Trục X')\n",
        "  plt.ylabel('Trục Y')\n",
        "  plt.title('Đồ thị định luật hấp dẫn Newton giữa hai vật thể')\n",
        "\n",
        "def frange(batdau, ketthuc, buocnhay):\n",
        "  day_ketqua = []\n",
        "  while batdau < ketthuc:\n",
        "    day_ketqua.append(batdau)\n",
        "    batdau = batdau + buocnhay\n",
        "  return day_ketqua\n",
        "def draw_trajectory(r,F):\n",
        "  G = 6.674e-11\n",
        "  m1 = 0.5\n",
        "  m2 = 1.5\n",
        "  r = 100\n",
        "  buoc_nhay = frange(100, 1001, 50)\n",
        "  x = []\n",
        "  y = []\n",
        "  for t in buoc_nhay:\n",
        "    r = r + 50\n",
        "    x.append(r)\n",
        "    y.append(G*m1*m2/(r**2))\n",
        "  draw_graph(x,y)\n",
        "try:\n",
        "  r = 100\n",
        "  F = float(input('Nhập lực '))\n",
        "except ValueError:\n",
        "  print('Nhập các giá trị sai! ')\n",
        "else:\n",
        "  draw_trajectory(r,F)\n",
        "  plt.show()\n",
        "finally:\n",
        "  print('Hoàn thành chương trình! ')"
      ],
      "metadata": {
        "id": "jm7SUoRj184t",
        "outputId": "6cd9ac91-cb1a-4376-d4a5-a7336b1338d6",
        "colab": {
          "base_uri": "https://localhost:8080/",
          "height": 330
        }
      },
      "execution_count": 79,
      "outputs": [
        {
          "name": "stdout",
          "output_type": "stream",
          "text": [
            "Nhập lực 5e-15\n"
          ]
        },
        {
          "output_type": "display_data",
          "data": {
            "image/png": "[encoded data removed]",
            "text/plain": [
              "<Figure size 432x288 with 1 Axes>"
            ]
          },
          "metadata": {
            "needs_background": "light"
          }
        },
        {
          "output_type": "stream",
          "name": "stdout",
          "text": [
            "Hoàn thành chương trình! \n"
          ]
        }
      ]
    }
  ]
}