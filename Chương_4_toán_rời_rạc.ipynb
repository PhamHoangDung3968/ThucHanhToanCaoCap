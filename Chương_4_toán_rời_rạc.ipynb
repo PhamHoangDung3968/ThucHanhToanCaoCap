{
  "nbformat": 4,
  "nbformat_minor": 0,
  "metadata": {
    "colab": {
      "name": "Chương 4 toán rời rạc.ipynb",
      "provenance": [],
      "collapsed_sections": [],
      "authorship_tag": "ABX9TyPoEyHVI7BQyJt8RO77b5Jw",
      "include_colab_link": true
    },
    "kernelspec": {
      "name": "python3",
      "display_name": "Python 3"
    },
    "language_info": {
      "name": "python"
    }
  },
  "cells": [
    {
      "cell_type": "markdown",
      "metadata": {
        "id": "view-in-github",
        "colab_type": "text"
      },
      "source": [
        "<a href=\"https://colab.research.google.com/github/PhamHoangDung3968/ThucHanhToanCaoCap/blob/main/Ch%C6%B0%C6%A1ng_4_to%C3%A1n_r%E1%BB%9Di_r%E1%BA%A1c.ipynb\" target=\"_parent\"><img src=\"https://colab.research.google.com/assets/colab-badge.svg\" alt=\"Open In Colab\"/></a>"
      ]
    },
    {
      "cell_type": "markdown",
      "source": [
        "**Tích tổng tích tụ (accumulate)**"
      ],
      "metadata": {
        "id": "TVrKLxCK_yog"
      }
    },
    {
      "cell_type": "code",
      "execution_count": 2,
      "metadata": {
        "colab": {
          "base_uri": "https://localhost:8080/"
        },
        "id": "_ZdMKQnc_rHR",
        "outputId": "04bd8fe7-0cfa-449c-cbfb-a6a83f6d1d72"
      },
      "outputs": [
        {
          "output_type": "stream",
          "name": "stdout",
          "text": [
            "1\n",
            "3\n",
            "6\n",
            "10\n",
            "15\n",
            "21\n",
            "28\n",
            "36\n",
            "45\n",
            "55\n"
          ]
        }
      ],
      "source": [
        "import itertools\n",
        "for i in itertools.accumulate([1,2,3,4,5,6,7,8,9,10]):\n",
        "  print(i)"
      ]
    },
    {
      "cell_type": "markdown",
      "source": [
        "**Hàm lặp (repeat):**"
      ],
      "metadata": {
        "id": "aIum-54aAboV"
      }
    },
    {
      "cell_type": "code",
      "source": [
        "for i in itertools.repeat('Red', 3):\n",
        "  print(i)"
      ],
      "metadata": {
        "colab": {
          "base_uri": "https://localhost:8080/"
        },
        "id": "NQv0vpPdA1gO",
        "outputId": "ccbd88f8-5fb9-4cba-cf9a-52cc55cee432"
      },
      "execution_count": 4,
      "outputs": [
        {
          "output_type": "stream",
          "name": "stdout",
          "text": [
            "Red\n",
            "Red\n",
            "Red\n"
          ]
        }
      ]
    },
    {
      "cell_type": "markdown",
      "source": [
        "**Tích Descartes**"
      ],
      "metadata": {
        "id": "1vCil88mAwvK"
      }
    },
    {
      "cell_type": "markdown",
      "source": [
        "Phương pháp 1: Viết đoạn mã thuần bằng Python:"
      ],
      "metadata": {
        "id": "gIpCeBRQBIId"
      }
    },
    {
      "cell_type": "code",
      "source": [
        "for i in ((i,j) for i in [1,2] for j in [6,7,8,9]):\n",
        "  print(i)"
      ],
      "metadata": {
        "colab": {
          "base_uri": "https://localhost:8080/"
        },
        "id": "B8sA_v56AeOw",
        "outputId": "258cc949-8827-438a-8a6e-2578f165e505"
      },
      "execution_count": 3,
      "outputs": [
        {
          "output_type": "stream",
          "name": "stdout",
          "text": [
            "(1, 6)\n",
            "(1, 7)\n",
            "(1, 8)\n",
            "(1, 9)\n",
            "(2, 6)\n",
            "(2, 7)\n",
            "(2, 8)\n",
            "(2, 9)\n"
          ]
        }
      ]
    },
    {
      "cell_type": "markdown",
      "source": [
        "Phương pháp 2: Sử dụng itertools: "
      ],
      "metadata": {
        "id": "tE8pt9TnBL1F"
      }
    },
    {
      "cell_type": "code",
      "source": [
        "import itertools\n",
        "for i in itertools.product ([1,2],[6,7,8,9]):\n",
        "  print(i)"
      ],
      "metadata": {
        "colab": {
          "base_uri": "https://localhost:8080/"
        },
        "id": "Gbr6p___BN5w",
        "outputId": "43e4b909-7e20-498e-9ae6-013d279e847c"
      },
      "execution_count": 5,
      "outputs": [
        {
          "output_type": "stream",
          "name": "stdout",
          "text": [
            "(1, 6)\n",
            "(1, 7)\n",
            "(1, 8)\n",
            "(1, 9)\n",
            "(2, 6)\n",
            "(2, 7)\n",
            "(2, 8)\n",
            "(2, 9)\n"
          ]
        }
      ]
    },
    {
      "cell_type": "code",
      "source": [
        "for i in itertools.product('AB', 'C', 'DEF'):\n",
        "  print(i)"
      ],
      "metadata": {
        "colab": {
          "base_uri": "https://localhost:8080/"
        },
        "id": "tUm2QhULBmfH",
        "outputId": "b47c19f3-c272-4970-9ded-b729da15dbf2"
      },
      "execution_count": 6,
      "outputs": [
        {
          "output_type": "stream",
          "name": "stdout",
          "text": [
            "('A', 'C', 'D')\n",
            "('A', 'C', 'E')\n",
            "('A', 'C', 'F')\n",
            "('B', 'C', 'D')\n",
            "('B', 'C', 'E')\n",
            "('B', 'C', 'F')\n"
          ]
        }
      ]
    },
    {
      "cell_type": "code",
      "source": [
        "for i in itertools.product('24', 'IT', repeat = 2):\n",
        "  print (i) "
      ],
      "metadata": {
        "colab": {
          "base_uri": "https://localhost:8080/"
        },
        "id": "hAOzaOu5BukO",
        "outputId": "b6455f90-5d7a-4ec8-f7d2-2cbcccb12f32"
      },
      "execution_count": 7,
      "outputs": [
        {
          "output_type": "stream",
          "name": "stdout",
          "text": [
            "('2', 'I', '2', 'I')\n",
            "('2', 'I', '2', 'T')\n",
            "('2', 'I', '4', 'I')\n",
            "('2', 'I', '4', 'T')\n",
            "('2', 'T', '2', 'I')\n",
            "('2', 'T', '2', 'T')\n",
            "('2', 'T', '4', 'I')\n",
            "('2', 'T', '4', 'T')\n",
            "('4', 'I', '2', 'I')\n",
            "('4', 'I', '2', 'T')\n",
            "('4', 'I', '4', 'I')\n",
            "('4', 'I', '4', 'T')\n",
            "('4', 'T', '2', 'I')\n",
            "('4', 'T', '2', 'T')\n",
            "('4', 'T', '4', 'I')\n",
            "('4', 'T', '4', 'T')\n"
          ]
        }
      ]
    },
    {
      "cell_type": "markdown",
      "source": [
        "**Hoán vị (permutation)**"
      ],
      "metadata": {
        "id": "4QFpdoKDB12P"
      }
    },
    {
      "cell_type": "code",
      "source": [
        "from itertools import permutations\n",
        "for i in permutations('ABC'):\n",
        "  print(i)"
      ],
      "metadata": {
        "colab": {
          "base_uri": "https://localhost:8080/"
        },
        "id": "IJvPelhXB5Ga",
        "outputId": "dcaa68dd-d915-419a-bb81-2a1d6f42d6bb"
      },
      "execution_count": 8,
      "outputs": [
        {
          "output_type": "stream",
          "name": "stdout",
          "text": [
            "('A', 'B', 'C')\n",
            "('A', 'C', 'B')\n",
            "('B', 'A', 'C')\n",
            "('B', 'C', 'A')\n",
            "('C', 'A', 'B')\n",
            "('C', 'B', 'A')\n"
          ]
        }
      ]
    },
    {
      "cell_type": "markdown",
      "source": [
        "**Chỉnh hợp chập k từ n (permutation):**"
      ],
      "metadata": {
        "id": "dBVRniXMCNda"
      }
    },
    {
      "cell_type": "code",
      "source": [
        "from itertools import permutations\n",
        "for i in permutations('ABC', 2):\n",
        "  print(i)"
      ],
      "metadata": {
        "colab": {
          "base_uri": "https://localhost:8080/"
        },
        "id": "xIazoDadCSwY",
        "outputId": "54816219-5142-4e35-8f3a-275891b58a78"
      },
      "execution_count": 9,
      "outputs": [
        {
          "output_type": "stream",
          "name": "stdout",
          "text": [
            "('A', 'B')\n",
            "('A', 'C')\n",
            "('B', 'A')\n",
            "('B', 'C')\n",
            "('C', 'A')\n",
            "('C', 'B')\n"
          ]
        }
      ]
    },
    {
      "cell_type": "markdown",
      "source": [
        "**Tổ hợp (combinations):**"
      ],
      "metadata": {
        "id": "ltw4dPqXChu0"
      }
    },
    {
      "cell_type": "code",
      "source": [
        "for i in itertools.combinations('ABCDE', 3):\n",
        "  print(i)"
      ],
      "metadata": {
        "colab": {
          "base_uri": "https://localhost:8080/"
        },
        "id": "PFsuOc96CjlD",
        "outputId": "990475c8-9e51-4511-c2ae-ae23556f3ae6"
      },
      "execution_count": 10,
      "outputs": [
        {
          "output_type": "stream",
          "name": "stdout",
          "text": [
            "('A', 'B', 'C')\n",
            "('A', 'B', 'D')\n",
            "('A', 'B', 'E')\n",
            "('A', 'C', 'D')\n",
            "('A', 'C', 'E')\n",
            "('A', 'D', 'E')\n",
            "('B', 'C', 'D')\n",
            "('B', 'C', 'E')\n",
            "('B', 'D', 'E')\n",
            "('C', 'D', 'E')\n"
          ]
        }
      ]
    },
    {
      "cell_type": "code",
      "source": [
        "import itertools\n",
        "nhaccu = 'Đàn Trống Sáo Bo'.split()\n",
        "chonmua2mon = list(itertools.combinations(nhaccu, 2))\n",
        "chonmua2mon"
      ],
      "metadata": {
        "colab": {
          "base_uri": "https://localhost:8080/"
        },
        "id": "dPZnoDX1C2QJ",
        "outputId": "e7869c7c-0a71-4564-e098-8660453385af"
      },
      "execution_count": 11,
      "outputs": [
        {
          "output_type": "execute_result",
          "data": {
            "text/plain": [
              "[('Đàn', 'Trống'),\n",
              " ('Đàn', 'Sáo'),\n",
              " ('Đàn', 'Bo'),\n",
              " ('Trống', 'Sáo'),\n",
              " ('Trống', 'Bo'),\n",
              " ('Sáo', 'Bo')]"
            ]
          },
          "metadata": {},
          "execution_count": 11
        }
      ]
    },
    {
      "cell_type": "markdown",
      "source": [
        "**Tổ hợp có lặp (combinations):**"
      ],
      "metadata": {
        "id": "tLjBopWTC02e"
      }
    },
    {
      "cell_type": "code",
      "source": [
        "for i in itertools.combinations_with_replacement('ABCDE',3):\n",
        "  print(i)"
      ],
      "metadata": {
        "colab": {
          "base_uri": "https://localhost:8080/"
        },
        "id": "jGjbaar_DGTE",
        "outputId": "d602b1eb-10c9-47d8-efdd-23cbea962472"
      },
      "execution_count": 12,
      "outputs": [
        {
          "output_type": "stream",
          "name": "stdout",
          "text": [
            "('A', 'A', 'A')\n",
            "('A', 'A', 'B')\n",
            "('A', 'A', 'C')\n",
            "('A', 'A', 'D')\n",
            "('A', 'A', 'E')\n",
            "('A', 'B', 'B')\n",
            "('A', 'B', 'C')\n",
            "('A', 'B', 'D')\n",
            "('A', 'B', 'E')\n",
            "('A', 'C', 'C')\n",
            "('A', 'C', 'D')\n",
            "('A', 'C', 'E')\n",
            "('A', 'D', 'D')\n",
            "('A', 'D', 'E')\n",
            "('A', 'E', 'E')\n",
            "('B', 'B', 'B')\n",
            "('B', 'B', 'C')\n",
            "('B', 'B', 'D')\n",
            "('B', 'B', 'E')\n",
            "('B', 'C', 'C')\n",
            "('B', 'C', 'D')\n",
            "('B', 'C', 'E')\n",
            "('B', 'D', 'D')\n",
            "('B', 'D', 'E')\n",
            "('B', 'E', 'E')\n",
            "('C', 'C', 'C')\n",
            "('C', 'C', 'D')\n",
            "('C', 'C', 'E')\n",
            "('C', 'D', 'D')\n",
            "('C', 'D', 'E')\n",
            "('C', 'E', 'E')\n",
            "('D', 'D', 'D')\n",
            "('D', 'D', 'E')\n",
            "('D', 'E', 'E')\n",
            "('E', 'E', 'E')\n"
          ]
        }
      ]
    },
    {
      "cell_type": "markdown",
      "source": [
        "**Xoay vòng giá trị cần lấy:**"
      ],
      "metadata": {
        "id": "hQEzVPzHDYqF"
      }
    },
    {
      "cell_type": "code",
      "source": [
        "for i in itertools.repeat('Red', 3):\n",
        "  print (i) "
      ],
      "metadata": {
        "colab": {
          "base_uri": "https://localhost:8080/"
        },
        "id": "AfnSxSdTDWeA",
        "outputId": "56c86c2b-3f7b-4519-a563-9be013d76ea5"
      },
      "execution_count": 13,
      "outputs": [
        {
          "output_type": "stream",
          "name": "stdout",
          "text": [
            "Red\n",
            "Red\n",
            "Red\n"
          ]
        }
      ]
    },
    {
      "cell_type": "markdown",
      "source": [
        "**3.1. Cơ bản về hàm ngẫu nhiên trong Python**"
      ],
      "metadata": {
        "id": "XbwTEWlqH8dm"
      }
    },
    {
      "cell_type": "markdown",
      "source": [
        "Chọn ngẫu nhiên trong tập hợp có sẵn:"
      ],
      "metadata": {
        "id": "8AKSPH5tIA34"
      }
    },
    {
      "cell_type": "code",
      "source": [
        "import random\n",
        "random.choice(['Táo', 'Lê', 'Ổi', 'Chuối']) "
      ],
      "metadata": {
        "colab": {
          "base_uri": "https://localhost:8080/",
          "height": 36
        },
        "id": "evBGxeMMIDEN",
        "outputId": "fd671d5b-73e2-4320-c58d-fcc300110aa9"
      },
      "execution_count": 17,
      "outputs": [
        {
          "output_type": "execute_result",
          "data": {
            "text/plain": [
              "'Táo'"
            ],
            "application/vnd.google.colaboratory.intrinsic+json": {
              "type": "string"
            }
          },
          "metadata": {},
          "execution_count": 17
        }
      ]
    },
    {
      "cell_type": "markdown",
      "source": [
        "Phát sinh số thực ngẫu nhiên trong khoảng số thực [0,1):"
      ],
      "metadata": {
        "id": "cSogmXf6ISoR"
      }
    },
    {
      "cell_type": "code",
      "source": [
        "random.random()"
      ],
      "metadata": {
        "colab": {
          "base_uri": "https://localhost:8080/"
        },
        "id": "NB13otLDIPzw",
        "outputId": "edc5c3db-3763-494b-f9d3-97f98d0defe9"
      },
      "execution_count": 20,
      "outputs": [
        {
          "output_type": "execute_result",
          "data": {
            "text/plain": [
              "0.37444475792042475"
            ]
          },
          "metadata": {},
          "execution_count": 20
        }
      ]
    },
    {
      "cell_type": "markdown",
      "source": [
        "Phát sinh số thực ngẫu nhiên trong khoảng số thực [a,b):"
      ],
      "metadata": {
        "id": "q6UontKjIaXW"
      }
    },
    {
      "cell_type": "code",
      "source": [
        "random. uniform(4.9, 10.0)"
      ],
      "metadata": {
        "colab": {
          "base_uri": "https://localhost:8080/"
        },
        "id": "cdcne-rJIZ4D",
        "outputId": "4ec69167-64d7-4f3a-ff91-34d6982b31ed"
      },
      "execution_count": 21,
      "outputs": [
        {
          "output_type": "execute_result",
          "data": {
            "text/plain": [
              "6.387779227190845"
            ]
          },
          "metadata": {},
          "execution_count": 21
        }
      ]
    },
    {
      "cell_type": "markdown",
      "source": [
        "Phát sinh số ngẫu nhiên trong khoảng 0 đến 5:"
      ],
      "metadata": {
        "id": "GOaEQh-aIlP3"
      }
    },
    {
      "cell_type": "code",
      "source": [
        "random.randrange(6)"
      ],
      "metadata": {
        "colab": {
          "base_uri": "https://localhost:8080/"
        },
        "id": "nzg78EQmIk8c",
        "outputId": "f4f14a49-56e0-4330-c680-473ad97869f0"
      },
      "execution_count": 22,
      "outputs": [
        {
          "output_type": "execute_result",
          "data": {
            "text/plain": [
              "5"
            ]
          },
          "metadata": {},
          "execution_count": 22
        }
      ]
    },
    {
      "cell_type": "markdown",
      "source": [
        "Phát sinh số ngẫu nhiên trong khoảng 50 đến 500"
      ],
      "metadata": {
        "id": "uhe5xdzvIrgc"
      }
    },
    {
      "cell_type": "code",
      "source": [
        "random.randrange(50, 500)"
      ],
      "metadata": {
        "colab": {
          "base_uri": "https://localhost:8080/"
        },
        "id": "lgYERm9WIw8u",
        "outputId": "256c86f5-1ea3-42fc-aff7-6f6ee74dc11a"
      },
      "execution_count": 23,
      "outputs": [
        {
          "output_type": "execute_result",
          "data": {
            "text/plain": [
              "376"
            ]
          },
          "metadata": {},
          "execution_count": 23
        }
      ]
    },
    {
      "cell_type": "markdown",
      "source": [
        "Phát sinh số nguyên chẵn ngẫu nhiên trong khoảng 20 đến 100:"
      ],
      "metadata": {
        "id": "CXdfd7VPJHA-"
      }
    },
    {
      "cell_type": "code",
      "source": [
        "random.randrange(20, 100, 2) "
      ],
      "metadata": {
        "colab": {
          "base_uri": "https://localhost:8080/"
        },
        "id": "TWGICC-KJIcs",
        "outputId": "764823a8-138d-4975-c3c0-626a9371b037"
      },
      "execution_count": 26,
      "outputs": [
        {
          "output_type": "execute_result",
          "data": {
            "text/plain": [
              "40"
            ]
          },
          "metadata": {},
          "execution_count": 26
        }
      ]
    },
    {
      "cell_type": "markdown",
      "source": [
        "Phát sinh ngẫu nhiên 10 giá trị trong khoảng 0 đến 99:"
      ],
      "metadata": {
        "id": "0pwSrpZsJOEN"
      }
    },
    {
      "cell_type": "code",
      "source": [
        "random.sample(range(100), 10)"
      ],
      "metadata": {
        "colab": {
          "base_uri": "https://localhost:8080/"
        },
        "id": "gDTlSZmRI9_g",
        "outputId": "b7bfc594-e11a-42ee-b9bd-6967b3263207"
      },
      "execution_count": 25,
      "outputs": [
        {
          "output_type": "execute_result",
          "data": {
            "text/plain": [
              "[97, 36, 34, 74, 93, 65, 71, 12, 19, 5]"
            ]
          },
          "metadata": {},
          "execution_count": 25
        }
      ]
    },
    {
      "cell_type": "markdown",
      "source": [
        "Phát sinh ngẫu nhiên 15 giá trị trong khoảng 10 đến 99"
      ],
      "metadata": {
        "id": "6qGCwDdfJVAy"
      }
    },
    {
      "cell_type": "code",
      "source": [
        "random.sample(range(10, 100), 15)"
      ],
      "metadata": {
        "colab": {
          "base_uri": "https://localhost:8080/"
        },
        "id": "Sg1_q9JwJROf",
        "outputId": "cfc1d975-76d5-4eca-f25f-a351e237ac67"
      },
      "execution_count": 27,
      "outputs": [
        {
          "output_type": "execute_result",
          "data": {
            "text/plain": [
              "[12, 54, 56, 57, 16, 36, 93, 92, 99, 82, 73, 63, 39, 30, 69]"
            ]
          },
          "metadata": {},
          "execution_count": 27
        }
      ]
    },
    {
      "cell_type": "markdown",
      "source": [
        "Phát sinh ngẫu nhiên 5 giá trị trong danh sách [‘a’, ‘b’, ‘c’, ‘d’, ‘e’, ‘f’, ‘g’, ‘h’, ‘i’, ‘j’]"
      ],
      "metadata": {
        "id": "tNm43XPKJdTy"
      }
    },
    {
      "cell_type": "code",
      "source": [
        "chars = ['a', 'b', 'c', 'd', 'e', 'f', 'g', 'h', 'i', 'j']\n",
        "rand5_char = random.sample(chars, 5)\n",
        "print (rand5_char)"
      ],
      "metadata": {
        "colab": {
          "base_uri": "https://localhost:8080/"
        },
        "id": "74JFvbYCJgRi",
        "outputId": "ec7fc7cd-b5ce-4482-e8f4-9e6ff9cf1975"
      },
      "execution_count": 28,
      "outputs": [
        {
          "output_type": "stream",
          "name": "stdout",
          "text": [
            "['g', 'a', 'j', 'f', 'i']\n"
          ]
        }
      ]
    },
    {
      "cell_type": "markdown",
      "source": [
        "**3.2. Ứng dụng minh họa: Vẽ ngẫu nhiên Eclipse**"
      ],
      "metadata": {
        "id": "vdYOXICJJ-s6"
      }
    },
    {
      "cell_type": "code",
      "source": [
        "import matplotlib.pyplot as plt\n",
        "import numpy.random as rnd\n",
        "from matplotlib.patches import Ellipse\n",
        "NUM = 250\n",
        "ells = [Ellipse(xy = rnd.rand(2)*10, width = rnd.rand(), height = rnd.rand(), angle = rnd.rand()*360) for i in range(NUM)]\n",
        "fig = plt.figure(0)\n",
        "ax = fig.add_subplot(111, aspect = 'equal')\n",
        "for e in ells:\n",
        "  ax.add_artist(e)\n",
        "  e.set_clip_box(ax.bbox)\n",
        "  e.set_alpha(rnd.rand())\n",
        "  e.set_facecolor(rnd.rand(3))\n",
        "ax.set_xlim(0,10)\n",
        "ax.set_ylim(0,10)\n",
        "plt.show()"
      ],
      "metadata": {
        "colab": {
          "base_uri": "https://localhost:8080/",
          "height": 269
        },
        "id": "KOQLp4QNJ-7o",
        "outputId": "739f903f-af19-46b2-ff5c-17d7acf64b82"
      },
      "execution_count": 30,
      "outputs": [
        {
          "output_type": "display_data",
          "data": {
            "text/plain": [
              "<Figure size 432x288 with 1 Axes>"
            ],
            "image/png": "[encoded data removed]"
          },
          "metadata": {
            "needs_background": "light"
          }
        }
      ]
    },
    {
      "cell_type": "markdown",
      "source": [
        "**3.3. Bài toán ứng dụng 1: Giới thiệu Roullete Wheel – “Chiếc nón kì diệu”**"
      ],
      "metadata": {
        "id": "49r7NBBsMv2Z"
      }
    },
    {
      "cell_type": "code",
      "source": [
        "from __future__ import division\n",
        "import numpy as np\n",
        "import random, pdb\n",
        "import operator\n",
        "def roulette_selection(weights):\n",
        "  sorted_indexed_weights = sorted(enumerate(weights), key = operator.itemgetter(1));\n",
        "  indices, sorted_weights = zip(*sorted_indexed_weights);\n",
        "  tot_sum = sum(sorted_weights)\n",
        "  prob = [x/tot_sum for x in sorted_weights]\n",
        "  cum_prob = np.cumsum(prob)\n",
        "  random_num = random.random()\n",
        "  for index_value, cum_prob_value in zip(indices, cum_prob):\n",
        "    if random_num < cum_prob_value:\n",
        "      return index_value"
      ],
      "metadata": {
        "id": "wweznwx-MzE9"
      },
      "execution_count": 31,
      "outputs": []
    },
    {
      "cell_type": "code",
      "source": [
        "xanhdo =[87, 3, 20]\n",
        "for i in range(20):\n",
        "  print (roulette_selection(xanhdo))"
      ],
      "metadata": {
        "colab": {
          "base_uri": "https://localhost:8080/"
        },
        "id": "7vKVO3-vPFBj",
        "outputId": "6d14593b-15c5-4bf0-c0ff-f2c3825ebd70"
      },
      "execution_count": 32,
      "outputs": [
        {
          "output_type": "stream",
          "name": "stdout",
          "text": [
            "0\n",
            "2\n",
            "0\n",
            "0\n",
            "0\n",
            "2\n",
            "0\n",
            "0\n",
            "0\n",
            "0\n",
            "0\n",
            "0\n",
            "0\n",
            "0\n",
            "2\n",
            "0\n",
            "0\n",
            "0\n",
            "0\n",
            "0\n"
          ]
        }
      ]
    },
    {
      "cell_type": "code",
      "source": [
        "xanhdo =[27, 3, 30]\n",
        "for i in range(20):\n",
        "  print (roulette_selection(xanhdo))"
      ],
      "metadata": {
        "colab": {
          "base_uri": "https://localhost:8080/"
        },
        "id": "_BpU23TtPLCR",
        "outputId": "d35d9a69-98a8-4d4d-ea53-c46ec40fa3ee"
      },
      "execution_count": 33,
      "outputs": [
        {
          "output_type": "stream",
          "name": "stdout",
          "text": [
            "0\n",
            "2\n",
            "2\n",
            "2\n",
            "0\n",
            "2\n",
            "0\n",
            "2\n",
            "1\n",
            "0\n",
            "2\n",
            "2\n",
            "2\n",
            "0\n",
            "2\n",
            "2\n",
            "2\n",
            "2\n",
            "2\n",
            "2\n"
          ]
        }
      ]
    },
    {
      "cell_type": "markdown",
      "source": [
        "**5. Bài toán ứng dụng 2: Chọn tập các camera quan sát hội chợ**"
      ],
      "metadata": {
        "id": "dlfUeGHfPTEC"
      }
    },
    {
      "cell_type": "code",
      "source": [
        "def difference(A, B):\n",
        "  phantu_moi = 0 \n",
        "  for x in A:\n",
        "    if x not in B:\n",
        "      phantu_moi = phantu_moi + 1\n",
        "  return phantu_moi\n",
        "def add(A,B):\n",
        "  ketqua = B\n",
        "  for x in A:\n",
        "    if x not in B:\n",
        "      ketqua = ketqua + [x]\n",
        "  return ketqua\n",
        "I = [1, 3, 4, 6, 7]\n",
        "II = [4, 7, 8, 12]\n",
        "III = [2, 5, 9, 11, 13]\n",
        "IV = [1, 2, 18, 19, 21]\n",
        "V = [3, 6, 10, 12, 14]\n",
        "VI = [8, 14, 15, 16, 17]\n",
        "VII = [18, 21, 24, 25]\n",
        "VIII = [2, 10, 16, 23]\n",
        "IX = [1, 6, 11]\n",
        "X = [20, 22, 24, 25]\n",
        "XI = [2, 4, 6, 8]\n",
        "XII =[1, 6, 12, 17]\n",
        "cameras = [I, II, III, IV, V, VI, VII, VIII, IX, X, XI, XII]\n",
        "khuvuc = range(1,26)\n",
        "tapphu = [] \n",
        "while len(tapphu)<len(khuvuc):\n",
        "  max_new_cameras = 0 \n",
        "  for camera in cameras:\n",
        "    max_new_cameras = max(difference(camera, tapphu), max_new_cameras)\n",
        "  luachon = 0 \n",
        "  while difference(cameras[luachon], tapphu) < max_new_cameras:\n",
        "    luachon = luachon +1\n",
        "  if (luachon < len(cameras)): \n",
        "    tapphu = add(cameras[luachon], tapphu)\n",
        "    print ('Camera: ', luachon+1, cameras[luachon], tapphu)"
      ],
      "metadata": {
        "colab": {
          "base_uri": "https://localhost:8080/"
        },
        "id": "yEgmo9JTPV_9",
        "outputId": "738cb584-9323-4b33-84d2-9f574682ad6f"
      },
      "execution_count": 35,
      "outputs": [
        {
          "output_type": "stream",
          "name": "stdout",
          "text": [
            "Camera:  1 [1, 3, 4, 6, 7] [1, 3, 4, 6, 7]\n",
            "Camera:  3 [2, 5, 9, 11, 13] [1, 3, 4, 6, 7, 2, 5, 9, 11, 13]\n",
            "Camera:  6 [8, 14, 15, 16, 17] [1, 3, 4, 6, 7, 2, 5, 9, 11, 13, 8, 14, 15, 16, 17]\n",
            "Camera:  7 [18, 21, 24, 25] [1, 3, 4, 6, 7, 2, 5, 9, 11, 13, 8, 14, 15, 16, 17, 18, 21, 24, 25]\n",
            "Camera:  5 [3, 6, 10, 12, 14] [1, 3, 4, 6, 7, 2, 5, 9, 11, 13, 8, 14, 15, 16, 17, 18, 21, 24, 25, 10, 12]\n",
            "Camera:  10 [20, 22, 24, 25] [1, 3, 4, 6, 7, 2, 5, 9, 11, 13, 8, 14, 15, 16, 17, 18, 21, 24, 25, 10, 12, 20, 22]\n",
            "Camera:  4 [1, 2, 18, 19, 21] [1, 3, 4, 6, 7, 2, 5, 9, 11, 13, 8, 14, 15, 16, 17, 18, 21, 24, 25, 10, 12, 20, 22, 19]\n",
            "Camera:  8 [2, 10, 16, 23] [1, 3, 4, 6, 7, 2, 5, 9, 11, 13, 8, 14, 15, 16, 17, 18, 21, 24, 25, 10, 12, 20, 22, 19, 23]\n"
          ]
        }
      ]
    },
    {
      "cell_type": "code",
      "source": [
        "tapphu.sort()\n",
        "print (tapphu)"
      ],
      "metadata": {
        "colab": {
          "base_uri": "https://localhost:8080/"
        },
        "id": "_UG9h26WQYQC",
        "outputId": "b9aea46a-f2cc-4707-8859-20fc1e35f4f8"
      },
      "execution_count": 36,
      "outputs": [
        {
          "output_type": "stream",
          "name": "stdout",
          "text": [
            "[1, 2, 3, 4, 5, 6, 7, 8, 9, 10, 11, 12, 13, 14, 15, 16, 17, 18, 19, 20, 21, 22, 23, 24, 25]\n"
          ]
        }
      ]
    },
    {
      "cell_type": "code",
      "source": [
        "from __future__ import division\n",
        "import numpy as np\n",
        "import random, pdb\n",
        "import operator\n",
        "def roulette_selection(weights):\n",
        "  sorted_indexed_weights = sorted(enumerate(weights), key = operator.itemgetter(1));\n",
        "  indices, sorted_weights = zip(*sorted_indexed_weights);\n",
        "  tot_sum = sum(sorted_weights)\n",
        "  prob = [x/tot_sum for x in sorted_weights]\n",
        "  cum_prob = np.cumsum(prob)\n",
        "  random_num = random.random()\n",
        "  for index_value, cum_prob_value in zip(indices, cum_prob):\n",
        "    if random_num < cum_prob_value:\n",
        "      return index_value"
      ],
      "metadata": {
        "id": "rqYR8seyS6E-"
      },
      "execution_count": null,
      "outputs": []
    },
    {
      "cell_type": "code",
      "source": [
        "xanh_vang_do = [47, 3, 50]\n",
        "for i in range(10):\n",
        "  print (roulette_selection(xanh_vang_do))"
      ],
      "metadata": {
        "colab": {
          "base_uri": "https://localhost:8080/"
        },
        "id": "kS6LH5sES_Av",
        "outputId": "bd096246-aa96-4290-df9e-fdfdbcd150b0"
      },
      "execution_count": 38,
      "outputs": [
        {
          "output_type": "stream",
          "name": "stdout",
          "text": [
            "2\n",
            "0\n",
            "0\n",
            "2\n",
            "2\n",
            "2\n",
            "0\n",
            "1\n",
            "2\n",
            "2\n"
          ]
        }
      ]
    },
    {
      "cell_type": "code",
      "source": [
        "xanh_vang_do = [17, 3, 50]\n",
        "for i in range(10):\n",
        "  print (roulette_selection(xanh_vang_do))"
      ],
      "metadata": {
        "colab": {
          "base_uri": "https://localhost:8080/"
        },
        "id": "ZiNebqLjTlVn",
        "outputId": "ef0d4511-fa1c-4fe7-d7d5-95c3c0d5954f"
      },
      "execution_count": 39,
      "outputs": [
        {
          "output_type": "stream",
          "name": "stdout",
          "text": [
            "2\n",
            "2\n",
            "2\n",
            "0\n",
            "0\n",
            "2\n",
            "2\n",
            "0\n",
            "2\n",
            "0\n"
          ]
        }
      ]
    },
    {
      "cell_type": "code",
      "source": [
        "xanh_vang_do = [77, 3, 50]\n",
        "for i in range(10):\n",
        "  print (roulette_selection(xanh_vang_do))"
      ],
      "metadata": {
        "colab": {
          "base_uri": "https://localhost:8080/"
        },
        "id": "_36TVMiJTvGy",
        "outputId": "abaec410-bd8e-4630-c7e9-b84c9a20dc4a"
      },
      "execution_count": 40,
      "outputs": [
        {
          "output_type": "stream",
          "name": "stdout",
          "text": [
            "1\n",
            "2\n",
            "0\n",
            "0\n",
            "0\n",
            "0\n",
            "0\n",
            "0\n",
            "0\n",
            "2\n"
          ]
        }
      ]
    },
    {
      "cell_type": "markdown",
      "source": [
        "**Câu 2:**"
      ],
      "metadata": {
        "id": "7pzZf5qwV4gp"
      }
    },
    {
      "cell_type": "code",
      "source": [
        "A = ['a']"
      ],
      "metadata": {
        "id": "Ge4epqYrVv1z"
      },
      "execution_count": null,
      "outputs": []
    }
  ]
}