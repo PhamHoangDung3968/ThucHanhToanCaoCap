{
  "nbformat": 4,
  "nbformat_minor": 0,
  "metadata": {
    "colab": {
      "name": "baitap2.ipynb",
      "provenance": [],
      "authorship_tag": "ABX9TyM8L0TaD3I5Wo1GXhheiq2U",
      "include_colab_link": true
    },
    "kernelspec": {
      "name": "python3",
      "display_name": "Python 3"
    },
    "language_info": {
      "name": "python"
    }
  },
  "cells": [
    {
      "cell_type": "markdown",
      "metadata": {
        "id": "view-in-github",
        "colab_type": "text"
      },
      "source": [
        "<a href=\"https://colab.research.google.com/github/PhamHoangDung3968/ThucHanhToanCaoCap/blob/main/baitap2.ipynb\" target=\"_parent\"><img src=\"https://colab.research.google.com/assets/colab-badge.svg\" alt=\"Open In Colab\"/></a>"
      ]
    },
    {
      "cell_type": "markdown",
      "source": [
        "# ***BÀI TẬP THỰC HÀNH***"
      ],
      "metadata": {
        "id": "R22sPtuYlxDc"
      }
    },
    {
      "cell_type": "markdown",
      "source": [
        "Thực hành số 1"
      ],
      "metadata": {
        "id": "mF96sCD58svn"
      }
    },
    {
      "cell_type": "code",
      "execution_count": 55,
      "metadata": {
        "colab": {
          "base_uri": "https://localhost:8080/"
        },
        "id": "XHmhbEtN8jeX",
        "outputId": "4953bb96-aaa3-4be1-a301-57c094baa6ef"
      },
      "outputs": [
        {
          "output_type": "execute_result",
          "data": {
            "text/plain": [
              "18"
            ]
          },
          "metadata": {},
          "execution_count": 55
        }
      ],
      "source": [
        "chuoitinhtoan = 'a*b+c'\n",
        "a = 2\n",
        "b = 5\n",
        "c = 8\n",
        "eval(chuoitinhtoan)"
      ]
    },
    {
      "cell_type": "markdown",
      "source": [
        "Thực hành số 2"
      ],
      "metadata": {
        "id": "xGfaUnpn9fFM"
      }
    },
    {
      "cell_type": "code",
      "source": [
        "from sympy import Symbol\n",
        "x = Symbol('x')\n",
        "y = Symbol('y')\n",
        "bieuthuc = x + y\n",
        "thaytheso = bieuthuc.subs({x:10, y:5})\n",
        "thaytheso"
      ],
      "metadata": {
        "colab": {
          "base_uri": "https://localhost:8080/",
          "height": 38
        },
        "id": "Wticz4Cp9fe-",
        "outputId": "3bdf29df-fc03-4443-b5bc-f3d9fbbb9530"
      },
      "execution_count": 56,
      "outputs": [
        {
          "output_type": "execute_result",
          "data": {
            "text/latex": "$\\displaystyle 15$",
            "text/plain": [
              "15"
            ]
          },
          "metadata": {},
          "execution_count": 56
        }
      ]
    },
    {
      "cell_type": "code",
      "source": [
        "from sympy import Symbol\n",
        "u = Symbol('u')\n",
        "v = Symbol('v')\n",
        "bieuthuc_uv = bieuthuc.subs({x:u, y:v})\n",
        "bieuthuc_uv"
      ],
      "metadata": {
        "colab": {
          "base_uri": "https://localhost:8080/",
          "height": 39
        },
        "id": "ahY8qo0t_Ak-",
        "outputId": "7b986025-afe5-45b1-dcf6-58bae8f10260"
      },
      "execution_count": 57,
      "outputs": [
        {
          "output_type": "execute_result",
          "data": {
            "text/latex": "$\\displaystyle u + v$",
            "text/plain": [
              "u + v"
            ]
          },
          "metadata": {},
          "execution_count": 57
        }
      ]
    },
    {
      "cell_type": "code",
      "source": [
        "thaythetinhtoan = bieuthuc.subs({x:2*u*v, y:u**2+v**2})\n",
        "thaythetinhtoan"
      ],
      "metadata": {
        "colab": {
          "base_uri": "https://localhost:8080/",
          "height": 39
        },
        "id": "UBX-_9ePAUFW",
        "outputId": "fd7dd389-a223-4c27-d37b-c95685cc95fb"
      },
      "execution_count": 58,
      "outputs": [
        {
          "output_type": "execute_result",
          "data": {
            "text/latex": "$\\displaystyle u^{2} + 2 u v + v^{2}$",
            "text/plain": [
              "u**2 + 2*u*v + v**2"
            ]
          },
          "metadata": {},
          "execution_count": 58
        }
      ]
    },
    {
      "cell_type": "code",
      "source": [
        "thaythetinhtoan.factor()"
      ],
      "metadata": {
        "colab": {
          "base_uri": "https://localhost:8080/",
          "height": 40
        },
        "id": "j4mJiLOAE5lA",
        "outputId": "d09b1940-7582-4928-d892-e5e506174f37"
      },
      "execution_count": 59,
      "outputs": [
        {
          "output_type": "execute_result",
          "data": {
            "text/latex": "$\\displaystyle \\left(u + v\\right)^{2}$",
            "text/plain": [
              "(u + v)**2"
            ]
          },
          "metadata": {},
          "execution_count": 59
        }
      ]
    },
    {
      "cell_type": "code",
      "source": [
        "from sympy import Symbol\n",
        "x = Symbol('x')\n",
        "y = Symbol('y')\n",
        "bieuthuc = x + y\n",
        "bieuthuc2 = x**2+y**2\n",
        "u = Symbol('u')\n",
        "v = Symbol('v')\n",
        "a = Symbol('a')\n",
        "from sympy import sin, cos\n",
        "bieuthuctheo_uv = bieuthuc2.subs({x:a*sin(u), y:a*cos(u)})\n",
        "bieuthuctheo_uv"
      ],
      "metadata": {
        "colab": {
          "base_uri": "https://localhost:8080/",
          "height": 39
        },
        "id": "eIREiJ6dFKAz",
        "outputId": "22f4ddbf-3fc3-4243-a6d9-93f1fe7aa22a"
      },
      "execution_count": 60,
      "outputs": [
        {
          "output_type": "execute_result",
          "data": {
            "text/latex": "$\\displaystyle a^{2} \\sin^{2}{\\left(u \\right)} + a^{2} \\cos^{2}{\\left(u \\right)}$",
            "text/plain": [
              "a**2*sin(u)**2 + a**2*cos(u)**2"
            ]
          },
          "metadata": {},
          "execution_count": 60
        }
      ]
    },
    {
      "cell_type": "code",
      "source": [
        "bieuthuctheo_uv.simplify()"
      ],
      "metadata": {
        "colab": {
          "base_uri": "https://localhost:8080/",
          "height": 39
        },
        "id": "TJxKHF7qGLBw",
        "outputId": "0da3a507-ba3d-485a-ab04-7430aa1cf525"
      },
      "execution_count": 61,
      "outputs": [
        {
          "output_type": "execute_result",
          "data": {
            "text/latex": "$\\displaystyle a^{2}$",
            "text/plain": [
              "a**2"
            ]
          },
          "metadata": {},
          "execution_count": 61
        }
      ]
    },
    {
      "cell_type": "markdown",
      "source": [
        "Thực hành số 3"
      ],
      "metadata": {
        "id": "0q72XEyTGZt_"
      }
    },
    {
      "cell_type": "code",
      "source": [
        "danh_sach = [10,15,20]\n",
        "danh_sach[0]"
      ],
      "metadata": {
        "colab": {
          "base_uri": "https://localhost:8080/"
        },
        "id": "v78gzML_GeGZ",
        "outputId": "e3da3509-82fd-4985-f8b5-0b9767eca2e1"
      },
      "execution_count": 62,
      "outputs": [
        {
          "output_type": "execute_result",
          "data": {
            "text/plain": [
              "10"
            ]
          },
          "metadata": {},
          "execution_count": 62
        }
      ]
    },
    {
      "cell_type": "code",
      "source": [
        "danh_sach[1]"
      ],
      "metadata": {
        "colab": {
          "base_uri": "https://localhost:8080/"
        },
        "id": "4rxgKmpCGpDI",
        "outputId": "483ff169-1324-4b3b-ba59-40a328902882"
      },
      "execution_count": 63,
      "outputs": [
        {
          "output_type": "execute_result",
          "data": {
            "text/plain": [
              "15"
            ]
          },
          "metadata": {},
          "execution_count": 63
        }
      ]
    },
    {
      "cell_type": "code",
      "source": [
        "danh_sach[2]"
      ],
      "metadata": {
        "colab": {
          "base_uri": "https://localhost:8080/"
        },
        "id": "Ew3PcOVOGr3g",
        "outputId": "b2e9e4d6-3126-478a-ed16-6dbe02590c99"
      },
      "execution_count": 64,
      "outputs": [
        {
          "output_type": "execute_result",
          "data": {
            "text/plain": [
              "20"
            ]
          },
          "metadata": {},
          "execution_count": 64
        }
      ]
    },
    {
      "cell_type": "markdown",
      "source": [
        "Thực hành số 4"
      ],
      "metadata": {
        "id": "n0KvFgufKqsc"
      }
    },
    {
      "cell_type": "code",
      "source": [
        "ds = [1, 2, 3]\n",
        "for so in ds:\n",
        "  print(so)"
      ],
      "metadata": {
        "colab": {
          "base_uri": "https://localhost:8080/"
        },
        "id": "mtRdZIFkKuOA",
        "outputId": "9ae59f1b-2f68-43da-dcf0-024b5fe10343"
      },
      "execution_count": 65,
      "outputs": [
        {
          "output_type": "stream",
          "name": "stdout",
          "text": [
            "1\n",
            "2\n",
            "3\n"
          ]
        }
      ]
    },
    {
      "cell_type": "code",
      "source": [
        "ds1 = [10,12,11]\n",
        "for chiso, giaitri in enumerate(ds1):\n",
        "  print(chiso, giaitri)"
      ],
      "metadata": {
        "colab": {
          "base_uri": "https://localhost:8080/"
        },
        "id": "p8UbFrgMLDxt",
        "outputId": "9f8b64a1-61c9-4380-af12-22ff600839f6"
      },
      "execution_count": 66,
      "outputs": [
        {
          "output_type": "stream",
          "name": "stdout",
          "text": [
            "0 10\n",
            "1 12\n",
            "2 11\n"
          ]
        }
      ]
    },
    {
      "cell_type": "code",
      "source": [
        "from sympy import *\n",
        "f = sin(x)\n",
        "sympy.plot(f, (x,-pi/2, pi/2))\n"
      ],
      "metadata": {
        "colab": {
          "base_uri": "https://localhost:8080/",
          "height": 314
        },
        "id": "K0nGu1R_KHDm",
        "outputId": "b5d2bb02-1a2a-4c0d-ec0c-1a64f416d97c"
      },
      "execution_count": 72,
      "outputs": [
        {
          "output_type": "display_data",
          "data": {
            "image/png": "[encoded data removed]",
            "text/plain": [
              "<Figure size 432x288 with 1 Axes>"
            ]
          },
          "metadata": {
            "needs_background": "light"
          }
        },
        {
          "output_type": "execute_result",
          "data": {
            "text/plain": [
              "<sympy.plotting.plot.Plot at 0x7fdef2234550>"
            ]
          },
          "metadata": {},
          "execution_count": 72
        }
      ]
    },
    {
      "cell_type": "code",
      "source": [
        "import sympy\n",
        "f = abs(x)\n",
        "sympy.plot(f,(x,-2,2))"
      ],
      "metadata": {
        "colab": {
          "base_uri": "https://localhost:8080/",
          "height": 314
        },
        "id": "BffETaERGuUN",
        "outputId": "83a91040-8e3a-4b94-f349-741b4829eb26"
      },
      "execution_count": 73,
      "outputs": [
        {
          "output_type": "display_data",
          "data": {
            "image/png": "[encoded data removed]",
            "text/plain": [
              "<Figure size 432x288 with 1 Axes>"
            ]
          },
          "metadata": {
            "needs_background": "light"
          }
        },
        {
          "output_type": "execute_result",
          "data": {
            "text/plain": [
              "<sympy.plotting.plot.Plot at 0x7fdee9cba810>"
            ]
          },
          "metadata": {},
          "execution_count": 73
        }
      ]
    },
    {
      "cell_type": "markdown",
      "source": [
        "Thực hành số 5"
      ],
      "metadata": {
        "id": "NqqUCjGxLiiO"
      }
    },
    {
      "cell_type": "code",
      "source": [
        "from pylab import plot, show\n",
        "x = [1,6,8]\n",
        "y = [2,5,9]\n",
        "plot(x, y)"
      ],
      "metadata": {
        "colab": {
          "base_uri": "https://localhost:8080/",
          "height": 282
        },
        "id": "5USl9aNELmA-",
        "outputId": "df3b10bb-686c-4aad-f36c-ea39fd50b47a"
      },
      "execution_count": 74,
      "outputs": [
        {
          "output_type": "execute_result",
          "data": {
            "text/plain": [
              "[<matplotlib.lines.Line2D at 0x7fdee9bc7a50>]"
            ]
          },
          "metadata": {},
          "execution_count": 74
        },
        {
          "output_type": "display_data",
          "data": {
            "image/png": "[encoded data removed]",
            "text/plain": [
              "<Figure size 432x288 with 1 Axes>"
            ]
          },
          "metadata": {
            "needs_background": "light"
          }
        }
      ]
    },
    {
      "cell_type": "markdown",
      "source": [
        "Thực hành số 6"
      ],
      "metadata": {
        "id": "p-dJhQsrMGh8"
      }
    },
    {
      "cell_type": "code",
      "source": [
        "from pylab import plot, show\n",
        "x = [1,6,8]\n",
        "y = [2,5,9]\n",
        "plot(x, y, marker = 'o')"
      ],
      "metadata": {
        "colab": {
          "base_uri": "https://localhost:8080/",
          "height": 282
        },
        "id": "Zs5-Jh8WMO77",
        "outputId": "90a54af5-88c6-41a4-fb8a-5df14b01a7d1"
      },
      "execution_count": 75,
      "outputs": [
        {
          "output_type": "execute_result",
          "data": {
            "text/plain": [
              "[<matplotlib.lines.Line2D at 0x7fdee9b03190>]"
            ]
          },
          "metadata": {},
          "execution_count": 75
        },
        {
          "output_type": "display_data",
          "data": {
            "image/png": "[encoded data removed]",
            "text/plain": [
              "<Figure size 432x288 with 1 Axes>"
            ]
          },
          "metadata": {
            "needs_background": "light"
          }
        }
      ]
    },
    {
      "cell_type": "markdown",
      "source": [
        "Thực hành số 7"
      ],
      "metadata": {
        "id": "ofAQ7lR1MtJD"
      }
    },
    {
      "cell_type": "code",
      "source": [
        "y = [13.8, 4.1, 10.5,50.4,218.4,311.7,269.8,327.1,266.7,116.5,48.3, 12.5]\n",
        "x = range(1,13)"
      ],
      "metadata": {
        "id": "mtQ7Eqg2MbCj"
      },
      "execution_count": 76,
      "outputs": []
    },
    {
      "cell_type": "code",
      "source": [
        "len(y)"
      ],
      "metadata": {
        "colab": {
          "base_uri": "https://localhost:8080/"
        },
        "id": "ZL8mVQ6IU5lL",
        "outputId": "7b6b2a90-20fb-447f-fdf4-fd425e228e9f"
      },
      "execution_count": 77,
      "outputs": [
        {
          "output_type": "execute_result",
          "data": {
            "text/plain": [
              "12"
            ]
          },
          "metadata": {},
          "execution_count": 77
        }
      ]
    },
    {
      "cell_type": "code",
      "source": [
        "len(x)"
      ],
      "metadata": {
        "colab": {
          "base_uri": "https://localhost:8080/"
        },
        "id": "LtYrH2ItU9t9",
        "outputId": "a3633365-25c2-426a-ff7c-4b693b6c891a"
      },
      "execution_count": 78,
      "outputs": [
        {
          "output_type": "execute_result",
          "data": {
            "text/plain": [
              "12"
            ]
          },
          "metadata": {},
          "execution_count": 78
        }
      ]
    },
    {
      "cell_type": "code",
      "source": [
        "plot(x,y, marker = 'o')"
      ],
      "metadata": {
        "colab": {
          "base_uri": "https://localhost:8080/",
          "height": 282
        },
        "id": "TpFQng2LPhw-",
        "outputId": "6b678298-2fa2-4e51-f572-2d5b504c66a3"
      },
      "execution_count": 79,
      "outputs": [
        {
          "output_type": "execute_result",
          "data": {
            "text/plain": [
              "[<matplotlib.lines.Line2D at 0x7fdef28486d0>]"
            ]
          },
          "metadata": {},
          "execution_count": 79
        },
        {
          "output_type": "display_data",
          "data": {
            "image/png": "[encoded data removed]",
            "text/plain": [
              "<Figure size 432x288 with 1 Axes>"
            ]
          },
          "metadata": {
            "needs_background": "light"
          }
        }
      ]
    },
    {
      "cell_type": "markdown",
      "source": [
        "Thực hành số 8"
      ],
      "metadata": {
        "id": "dn---xc-Rp0U"
      }
    },
    {
      "cell_type": "code",
      "source": [
        "from sympy import Symbol, Derivative\n",
        "t = Symbol('t')\n",
        "pt = 5*t**2+2*t+8\n",
        "Derivative(pt, t)"
      ],
      "metadata": {
        "colab": {
          "base_uri": "https://localhost:8080/",
          "height": 52
        },
        "id": "fTRjbfNZRtUX",
        "outputId": "54ef47a4-28ea-40ff-a14e-a620c56587f3"
      },
      "execution_count": 80,
      "outputs": [
        {
          "output_type": "execute_result",
          "data": {
            "text/latex": "$\\displaystyle \\frac{d}{d t} \\left(5 t^{2} + 2 t + 8\\right)$",
            "text/plain": [
              "Derivative(5*t**2 + 2*t + 8, t)"
            ]
          },
          "metadata": {},
          "execution_count": 80
        }
      ]
    },
    {
      "cell_type": "code",
      "source": [
        "d = Derivative(pt, t)\n",
        "d.doit()"
      ],
      "metadata": {
        "colab": {
          "base_uri": "https://localhost:8080/",
          "height": 39
        },
        "id": "Z2UEb2BRSlSa",
        "outputId": "64df4914-b4e2-4933-eba5-cca5714316fd"
      },
      "execution_count": 81,
      "outputs": [
        {
          "output_type": "execute_result",
          "data": {
            "text/latex": "$\\displaystyle 10 t + 2$",
            "text/plain": [
              "10*t + 2"
            ]
          },
          "metadata": {},
          "execution_count": 81
        }
      ]
    },
    {
      "cell_type": "code",
      "source": [
        "d.doit().subs({t:1})"
      ],
      "metadata": {
        "colab": {
          "base_uri": "https://localhost:8080/",
          "height": 38
        },
        "id": "zBr-32jDS0gy",
        "outputId": "35e16ba7-dc64-4f5f-9e29-0c5a08c7a78c"
      },
      "execution_count": 82,
      "outputs": [
        {
          "output_type": "execute_result",
          "data": {
            "text/latex": "$\\displaystyle 12$",
            "text/plain": [
              "12"
            ]
          },
          "metadata": {},
          "execution_count": 82
        }
      ]
    },
    {
      "cell_type": "code",
      "source": [
        "t1 = Symbol('t1')\n",
        "d.doit().subs({t:t1})"
      ],
      "metadata": {
        "colab": {
          "base_uri": "https://localhost:8080/",
          "height": 39
        },
        "id": "eCCGf5n1TG4V",
        "outputId": "9996aea0-04ea-4ed0-8cce-316f99e74138"
      },
      "execution_count": 83,
      "outputs": [
        {
          "output_type": "execute_result",
          "data": {
            "text/latex": "$\\displaystyle 10 t_{1} + 2$",
            "text/plain": [
              "10*t1 + 2"
            ]
          },
          "metadata": {},
          "execution_count": 83
        }
      ]
    },
    {
      "cell_type": "code",
      "source": [
        "t2 = 10\n",
        "d.doit().subs({t:t2})"
      ],
      "metadata": {
        "colab": {
          "base_uri": "https://localhost:8080/",
          "height": 38
        },
        "id": "7JpFNDO6TTeH",
        "outputId": "6c4baa46-dcf6-4cb1-b1e3-d394de93638f"
      },
      "execution_count": 84,
      "outputs": [
        {
          "output_type": "execute_result",
          "data": {
            "text/latex": "$\\displaystyle 102$",
            "text/plain": [
              "102"
            ]
          },
          "metadata": {},
          "execution_count": 84
        }
      ]
    },
    {
      "cell_type": "markdown",
      "source": [
        "Thực hành số 9"
      ],
      "metadata": {
        "id": "G6KSrfXdTeoh"
      }
    },
    {
      "cell_type": "code",
      "source": [
        "from sympy import Derivative, Symbol\n",
        "x= Symbol('x')\n",
        "f = (x**3+x**2+x)*(x**2+x)\n",
        "Derivative(f,x).doit()"
      ],
      "metadata": {
        "colab": {
          "base_uri": "https://localhost:8080/",
          "height": 39
        },
        "id": "fxSnCKmuTkIN",
        "outputId": "299e091d-b51d-4cbc-eb97-5957815ee925"
      },
      "execution_count": 85,
      "outputs": [
        {
          "output_type": "execute_result",
          "data": {
            "text/latex": "$\\displaystyle \\left(2 x + 1\\right) \\left(x^{3} + x^{2} + x\\right) + \\left(x^{2} + x\\right) \\left(3 x^{2} + 2 x + 1\\right)$",
            "text/plain": [
              "(2*x + 1)*(x**3 + x**2 + x) + (x**2 + x)*(3*x**2 + 2*x + 1)"
            ]
          },
          "metadata": {},
          "execution_count": 85
        }
      ]
    },
    {
      "cell_type": "markdown",
      "source": [
        "Thực hành số 10"
      ],
      "metadata": {
        "id": "W4DE8EJuWCl5"
      }
    },
    {
      "cell_type": "code",
      "source": [
        "f = sympy.sin(2*x)\n",
        "Derivative(f,x).doit()"
      ],
      "metadata": {
        "colab": {
          "base_uri": "https://localhost:8080/",
          "height": 39
        },
        "id": "WteJuTLUWFDB",
        "outputId": "a14a496f-5bd3-45a1-e707-5169728c74b0"
      },
      "execution_count": 86,
      "outputs": [
        {
          "output_type": "execute_result",
          "data": {
            "text/latex": "$\\displaystyle 2 \\cos{\\left(2 x \\right)}$",
            "text/plain": [
              "2*cos(2*x)"
            ]
          },
          "metadata": {},
          "execution_count": 86
        }
      ]
    },
    {
      "cell_type": "code",
      "source": [
        "f = sympy.sin(x)*sympy.cos(x)\n",
        "Derivative(f,x).doit()"
      ],
      "metadata": {
        "colab": {
          "base_uri": "https://localhost:8080/",
          "height": 39
        },
        "id": "tV-Ak9gnWcHc",
        "outputId": "be85bf38-3036-4033-c112-233ad016a133"
      },
      "execution_count": 87,
      "outputs": [
        {
          "output_type": "execute_result",
          "data": {
            "text/latex": "$\\displaystyle - \\sin^{2}{\\left(x \\right)} + \\cos^{2}{\\left(x \\right)}$",
            "text/plain": [
              "-sin(x)**2 + cos(x)**2"
            ]
          },
          "metadata": {},
          "execution_count": 87
        }
      ]
    },
    {
      "cell_type": "markdown",
      "source": [
        "Thực hành số 11"
      ],
      "metadata": {
        "id": "ZR8Q_MMlWzv1"
      }
    },
    {
      "cell_type": "code",
      "source": [
        "from sympy import Symbol, solve, Derivative\n",
        "x = Symbol('x')\n",
        "f = x**5-30*x**3+50*x\n",
        "d1 = Derivative(f,x).doit()"
      ],
      "metadata": {
        "id": "1FqcPYJoW2Vt"
      },
      "execution_count": 88,
      "outputs": []
    },
    {
      "cell_type": "code",
      "source": [
        "cuctri = solve(d1)"
      ],
      "metadata": {
        "id": "FVfSuBalXg1j"
      },
      "execution_count": 89,
      "outputs": []
    },
    {
      "cell_type": "code",
      "source": [
        "A = cuctri[0]\n",
        "A = cuctri[2]\n",
        "B = cuctri[0]\n",
        "C = cuctri[1]\n",
        "D = cuctri[3]"
      ],
      "metadata": {
        "id": "OpfpSH1pXtcS"
      },
      "execution_count": 101,
      "outputs": []
    },
    {
      "cell_type": "code",
      "source": [
        "A"
      ],
      "metadata": {
        "colab": {
          "base_uri": "https://localhost:8080/",
          "height": 48
        },
        "id": "IK0VoCSMYD6h",
        "outputId": "f4d6e7e1-5dab-42ba-b66f-b1ebb62d60b3"
      },
      "execution_count": 102,
      "outputs": [
        {
          "output_type": "execute_result",
          "data": {
            "text/latex": "$\\displaystyle - \\sqrt{\\sqrt{71} + 9}$",
            "text/plain": [
              "-sqrt(sqrt(71) + 9)"
            ]
          },
          "metadata": {},
          "execution_count": 102
        }
      ]
    },
    {
      "cell_type": "code",
      "source": [
        "B"
      ],
      "metadata": {
        "colab": {
          "base_uri": "https://localhost:8080/",
          "height": 48
        },
        "id": "HfZi09-cYUkU",
        "outputId": "56e6014a-2abd-4865-ad2c-742e2d5b2ff9"
      },
      "execution_count": 103,
      "outputs": [
        {
          "output_type": "execute_result",
          "data": {
            "text/latex": "$\\displaystyle - \\sqrt{9 - \\sqrt{71}}$",
            "text/plain": [
              "-sqrt(9 - sqrt(71))"
            ]
          },
          "metadata": {},
          "execution_count": 103
        }
      ]
    },
    {
      "cell_type": "code",
      "source": [
        "C"
      ],
      "metadata": {
        "colab": {
          "base_uri": "https://localhost:8080/",
          "height": 48
        },
        "id": "aVyTaTr5YU6s",
        "outputId": "0283089e-d29b-40b5-ba68-5f240b7abe01"
      },
      "execution_count": 104,
      "outputs": [
        {
          "output_type": "execute_result",
          "data": {
            "text/latex": "$\\displaystyle \\sqrt{9 - \\sqrt{71}}$",
            "text/plain": [
              "sqrt(9 - sqrt(71))"
            ]
          },
          "metadata": {},
          "execution_count": 104
        }
      ]
    },
    {
      "cell_type": "code",
      "source": [
        "D"
      ],
      "metadata": {
        "colab": {
          "base_uri": "https://localhost:8080/",
          "height": 48
        },
        "id": "LlcQs13QYVEg",
        "outputId": "078ab8c8-154a-4a8c-d1ab-27c89fa15eef"
      },
      "execution_count": 105,
      "outputs": [
        {
          "output_type": "execute_result",
          "data": {
            "text/latex": "$\\displaystyle \\sqrt{\\sqrt{71} + 9}$",
            "text/plain": [
              "sqrt(sqrt(71) + 9)"
            ]
          },
          "metadata": {},
          "execution_count": 105
        }
      ]
    },
    {
      "cell_type": "code",
      "source": [
        "d2 = Derivative(d1,x,2).doit()\n",
        "d2"
      ],
      "metadata": {
        "id": "Vd_8zRZCW0fR",
        "outputId": "09fd9987-8df1-476b-b42d-2dc26fcc1fb2",
        "colab": {
          "base_uri": "https://localhost:8080/",
          "height": 39
        }
      },
      "execution_count": 106,
      "outputs": [
        {
          "output_type": "execute_result",
          "data": {
            "text/latex": "$\\displaystyle 60 \\left(x^{2} - 3\\right)$",
            "text/plain": [
              "60*(x**2 - 3)"
            ]
          },
          "metadata": {},
          "execution_count": 106
        }
      ]
    },
    {
      "cell_type": "code",
      "source": [
        "d2.subs({x:A}).evalf()"
      ],
      "metadata": {
        "id": "zLhpWdGrXsGX",
        "outputId": "71a3355b-293c-4668-e572-559466be3684",
        "colab": {
          "base_uri": "https://localhost:8080/",
          "height": 38
        }
      },
      "execution_count": 107,
      "outputs": [
        {
          "output_type": "execute_result",
          "data": {
            "text/latex": "$\\displaystyle 865.568986390581$",
            "text/plain": [
              "865.568986390581"
            ]
          },
          "metadata": {},
          "execution_count": 107
        }
      ]
    },
    {
      "cell_type": "code",
      "source": [
        "d2.subs({x:B}).evalf()"
      ],
      "metadata": {
        "id": "_TfXcR8tYKGE",
        "outputId": "2552c761-a3c3-4bef-b003-098467da405b",
        "colab": {
          "base_uri": "https://localhost:8080/",
          "height": 38
        }
      },
      "execution_count": 108,
      "outputs": [
        {
          "output_type": "execute_result",
          "data": {
            "text/latex": "$\\displaystyle -145.568986390582$",
            "text/plain": [
              "-145.568986390582"
            ]
          },
          "metadata": {},
          "execution_count": 108
        }
      ]
    },
    {
      "cell_type": "code",
      "source": [
        "d2.subs({x:C}).evalf()"
      ],
      "metadata": {
        "id": "lzdqg4elX9D9",
        "outputId": "936ff113-8be4-4ae8-c02d-3c754e99940a",
        "colab": {
          "base_uri": "https://localhost:8080/",
          "height": 38
        }
      },
      "execution_count": 109,
      "outputs": [
        {
          "output_type": "execute_result",
          "data": {
            "text/latex": "$\\displaystyle -145.568986390582$",
            "text/plain": [
              "-145.568986390582"
            ]
          },
          "metadata": {},
          "execution_count": 109
        }
      ]
    },
    {
      "cell_type": "code",
      "source": [
        "d2.subs({x:D}).evalf()"
      ],
      "metadata": {
        "id": "xC5lacqlYC8o",
        "outputId": "611dc7be-8b7b-4f99-c818-51c62feab85c",
        "colab": {
          "base_uri": "https://localhost:8080/",
          "height": 38
        }
      },
      "execution_count": 110,
      "outputs": [
        {
          "output_type": "execute_result",
          "data": {
            "text/latex": "$\\displaystyle 865.568986390581$",
            "text/plain": [
              "865.568986390581"
            ]
          },
          "metadata": {},
          "execution_count": 110
        }
      ]
    },
    {
      "cell_type": "code",
      "source": [
        "x_min = -5\n",
        "x_max = 5\n",
        "f.subs({x:A}).evalf()"
      ],
      "metadata": {
        "id": "jT4QiNAFYNdh",
        "outputId": "5f52f953-ef69-45ec-af5b-e46a29045028",
        "colab": {
          "base_uri": "https://localhost:8080/",
          "height": 38
        }
      },
      "execution_count": 111,
      "outputs": [
        {
          "output_type": "execute_result",
          "data": {
            "text/latex": "$\\displaystyle 705.959460380365$",
            "text/plain": [
              "705.959460380365"
            ]
          },
          "metadata": {},
          "execution_count": 111
        }
      ]
    },
    {
      "cell_type": "code",
      "source": [
        "f.subs({x:C}).evalf()"
      ],
      "metadata": {
        "id": "L9Bf_mSKY7zp",
        "outputId": "a28aa1fc-99db-4287-dcb7-91a3b6e9c49e",
        "colab": {
          "base_uri": "https://localhost:8080/",
          "height": 38
        }
      },
      "execution_count": 112,
      "outputs": [
        {
          "output_type": "execute_result",
          "data": {
            "text/latex": "$\\displaystyle 25.0846626340294$",
            "text/plain": [
              "25.0846626340294"
            ]
          },
          "metadata": {},
          "execution_count": 112
        }
      ]
    },
    {
      "cell_type": "code",
      "source": [
        "f.subs({x:x_min}).evalf()"
      ],
      "metadata": {
        "id": "h1Qjd8AcZA3m",
        "outputId": "6cb9aa07-8695-4c3a-86b2-b64e001ecae8",
        "colab": {
          "base_uri": "https://localhost:8080/",
          "height": 38
        }
      },
      "execution_count": 113,
      "outputs": [
        {
          "output_type": "execute_result",
          "data": {
            "text/latex": "$\\displaystyle 375.0$",
            "text/plain": [
              "375.000000000000"
            ]
          },
          "metadata": {},
          "execution_count": 113
        }
      ]
    },
    {
      "cell_type": "code",
      "source": [
        "f.subs({x:x_max}).evalf()"
      ],
      "metadata": {
        "id": "MtreOU3sZEk0",
        "outputId": "2d213275-46f2-482c-95a5-9552cee6e68a",
        "colab": {
          "base_uri": "https://localhost:8080/",
          "height": 38
        }
      },
      "execution_count": 114,
      "outputs": [
        {
          "output_type": "execute_result",
          "data": {
            "text/latex": "$\\displaystyle -375.0$",
            "text/plain": [
              "-375.000000000000"
            ]
          },
          "metadata": {},
          "execution_count": 114
        }
      ]
    },
    {
      "cell_type": "code",
      "source": [
        "f.subs({x:B}).evalf()"
      ],
      "metadata": {
        "id": "iqdOhgzeZM7y",
        "outputId": "5c3380e4-9ad3-4f52-8b13-154866e562f7",
        "colab": {
          "base_uri": "https://localhost:8080/",
          "height": 38
        }
      },
      "execution_count": 115,
      "outputs": [
        {
          "output_type": "execute_result",
          "data": {
            "text/latex": "$\\displaystyle -25.0846626340294$",
            "text/plain": [
              "-25.0846626340294"
            ]
          },
          "metadata": {},
          "execution_count": 115
        }
      ]
    },
    {
      "cell_type": "code",
      "source": [
        "f.subs({x:D}).evalf()"
      ],
      "metadata": {
        "id": "hKKUGxXFZUU2",
        "outputId": "c388df5f-ac88-4337-e063-28226cae437a",
        "colab": {
          "base_uri": "https://localhost:8080/",
          "height": 38
        }
      },
      "execution_count": 116,
      "outputs": [
        {
          "output_type": "execute_result",
          "data": {
            "text/latex": "$\\displaystyle -705.959460380365$",
            "text/plain": [
              "-705.959460380365"
            ]
          },
          "metadata": {},
          "execution_count": 116
        }
      ]
    },
    {
      "cell_type": "code",
      "source": [
        "f.subs({x:x_min}).evalf()"
      ],
      "metadata": {
        "id": "G4yqlOGgZcZl",
        "outputId": "bdae93ca-8dd5-4878-e824-cf7bedd38d46",
        "colab": {
          "base_uri": "https://localhost:8080/",
          "height": 38
        }
      },
      "execution_count": 117,
      "outputs": [
        {
          "output_type": "execute_result",
          "data": {
            "text/latex": "$\\displaystyle 375.0$",
            "text/plain": [
              "375.000000000000"
            ]
          },
          "metadata": {},
          "execution_count": 117
        }
      ]
    },
    {
      "cell_type": "code",
      "source": [
        "f.subs({x:x_max}).evalf()"
      ],
      "metadata": {
        "id": "f64Hk_AjZd1t",
        "outputId": "c468d88d-12bc-4a78-c29b-770b51fd979b",
        "colab": {
          "base_uri": "https://localhost:8080/",
          "height": 38
        }
      },
      "execution_count": 118,
      "outputs": [
        {
          "output_type": "execute_result",
          "data": {
            "text/latex": "$\\displaystyle -375.0$",
            "text/plain": [
              "-375.000000000000"
            ]
          },
          "metadata": {},
          "execution_count": 118
        }
      ]
    },
    {
      "cell_type": "code",
      "source": [
        "g = sympy.E**x\n",
        "g1 = Derivative(g,x)\n",
        "g1"
      ],
      "metadata": {
        "id": "TJ4jjgQNZosH",
        "outputId": "3568b640-191f-4bfb-96b9-612072a6455e",
        "colab": {
          "base_uri": "https://localhost:8080/",
          "height": 52
        }
      },
      "execution_count": 119,
      "outputs": [
        {
          "output_type": "execute_result",
          "data": {
            "text/latex": "$\\displaystyle \\frac{d}{d x} e^{x}$",
            "text/plain": [
              "Derivative(exp(x), x)"
            ]
          },
          "metadata": {},
          "execution_count": 119
        }
      ]
    },
    {
      "cell_type": "code",
      "source": [
        "Derivative(exp(x),x)\n",
        "solve(g1)"
      ],
      "metadata": {
        "id": "tJwaJWynZ1GT",
        "outputId": "57f44421-2e04-4a00-9599-d3e7e66f951a",
        "colab": {
          "base_uri": "https://localhost:8080/"
        }
      },
      "execution_count": 120,
      "outputs": [
        {
          "output_type": "execute_result",
          "data": {
            "text/plain": [
              "[]"
            ]
          },
          "metadata": {},
          "execution_count": 120
        }
      ]
    },
    {
      "cell_type": "markdown",
      "source": [
        "# ***BÀI TẬP CHƯƠNG 2***"
      ],
      "metadata": {
        "id": "hOndsxryaEH1"
      }
    },
    {
      "cell_type": "markdown",
      "source": [
        "Bài tập 1"
      ],
      "metadata": {
        "id": "QpclHEcWhR-D"
      }
    },
    {
      "cell_type": "code",
      "source": [
        "thang = range(1,13)\n",
        "so_ngay_mua = [3,5,3,4,5,6,9,10,11,13,5,7]\n",
        "so_gio_nang = [20,15,16,18,15,18,20,21,25,14,16,15]\n",
        "plot(thang,so_ngay_mua,so_gio_nang,marker = 'o')"
      ],
      "metadata": {
        "id": "FBTtnJavhXCK",
        "outputId": "72a20275-5f92-46a8-9687-9d1141b93b19",
        "colab": {
          "base_uri": "https://localhost:8080/",
          "height": 300
        }
      },
      "execution_count": 147,
      "outputs": [
        {
          "output_type": "execute_result",
          "data": {
            "text/plain": [
              "[<matplotlib.lines.Line2D at 0x7fdee4e901d0>,\n",
              " <matplotlib.lines.Line2D at 0x7fdee4e90450>]"
            ]
          },
          "metadata": {},
          "execution_count": 147
        },
        {
          "output_type": "display_data",
          "data": {
            "image/png": "[encoded data removed]",
            "text/plain": [
              "<Figure size 432x288 with 1 Axes>"
            ]
          },
          "metadata": {
            "needs_background": "light"
          }
        }
      ]
    },
    {
      "cell_type": "markdown",
      "source": [
        "Bài tập 2"
      ],
      "metadata": {
        "id": "zQbmXLoIaR-Z"
      }
    },
    {
      "cell_type": "code",
      "source": [
        "from sympy import Derivative, Symbol\n",
        "x = Symbol('x')\n",
        "f = sympy.sin(x) - sympy.cos(x) + sympy.tan(x)\n",
        "d1 = Derivative(f,x).doit()\n",
        "d1"
      ],
      "metadata": {
        "id": "lqtWCxg_aHPi",
        "outputId": "c664abd3-d118-4234-9c11-48033e0edbb9",
        "colab": {
          "base_uri": "https://localhost:8080/",
          "height": 39
        }
      },
      "execution_count": 124,
      "outputs": [
        {
          "output_type": "execute_result",
          "data": {
            "text/latex": "$\\displaystyle \\sin{\\left(x \\right)} + \\cos{\\left(x \\right)} + \\tan^{2}{\\left(x \\right)} + 1$",
            "text/plain": [
              "sin(x) + cos(x) + tan(x)**2 + 1"
            ]
          },
          "metadata": {},
          "execution_count": 124
        }
      ]
    },
    {
      "cell_type": "code",
      "source": [
        "f1 = (x**2 + x + 2)/(x-1)\n",
        "d2 = Derivative(f1,x).doit()\n",
        "d2.simplify()"
      ],
      "metadata": {
        "id": "H92PWjNyb9Xm",
        "outputId": "eee9e9f5-7816-48a1-c9ff-7e376613fc7b",
        "colab": {
          "base_uri": "https://localhost:8080/",
          "height": 55
        }
      },
      "execution_count": 127,
      "outputs": [
        {
          "output_type": "execute_result",
          "data": {
            "text/latex": "$\\displaystyle \\frac{x^{2} - 2 x - 3}{x^{2} - 2 x + 1}$",
            "text/plain": [
              "(x**2 - 2*x - 3)/(x**2 - 2*x + 1)"
            ]
          },
          "metadata": {},
          "execution_count": 127
        }
      ]
    },
    {
      "cell_type": "code",
      "source": [
        "f3 = 1/5*x**5 -2*sympy.sqrt(x) + 3/x\n",
        "d3 = Derivative(f3,x).doit()\n",
        "d3"
      ],
      "metadata": {
        "id": "yTabvFO2dLF0",
        "outputId": "65e67f0a-af17-401a-94fb-4871dbd4a5f2",
        "colab": {
          "base_uri": "https://localhost:8080/",
          "height": 55
        }
      },
      "execution_count": 128,
      "outputs": [
        {
          "output_type": "execute_result",
          "data": {
            "text/latex": "$\\displaystyle 1.0 x^{4} - \\frac{3}{x^{2}} - \\frac{1}{\\sqrt{x}}$",
            "text/plain": [
              "1.0*x**4 - 3/x**2 - 1/sqrt(x)"
            ]
          },
          "metadata": {},
          "execution_count": 128
        }
      ]
    },
    {
      "cell_type": "code",
      "source": [
        "f4 = sympy.sin(2*x)*sympy.cos(x)**4-sympy.cot(1/x**2)-sympy.sin(2*x)*sympy.sin(x)**4\n",
        "d4 = Derivative(f4,x).doit()\n",
        "d4.simplify()"
      ],
      "metadata": {
        "id": "ySaYn32Cd2MG",
        "outputId": "4c72e3b1-a8c1-4b7d-d6d2-d0759b598cb3",
        "colab": {
          "base_uri": "https://localhost:8080/",
          "height": 55
        }
      },
      "execution_count": 130,
      "outputs": [
        {
          "output_type": "execute_result",
          "data": {
            "text/latex": "$\\displaystyle 16 \\sin^{4}{\\left(x \\right)} - 16 \\sin^{2}{\\left(x \\right)} + 2 - \\frac{2 \\cot^{2}{\\left(\\frac{1}{x^{2}} \\right)}}{x^{3}} - \\frac{2}{x^{3}}$",
            "text/plain": [
              "16*sin(x)**4 - 16*sin(x)**2 + 2 - 2*cot(x**(-2))**2/x**3 - 2/x**3"
            ]
          },
          "metadata": {},
          "execution_count": 130
        }
      ]
    },
    {
      "cell_type": "code",
      "source": [
        "f5 = 5*x+3*x*(x+1)-5\n",
        "d5 = Derivative(f5,x).doit()\n",
        "d5"
      ],
      "metadata": {
        "id": "1IFfqz7Cd2q3",
        "outputId": "e20622da-4e1e-4249-cd4c-8537682fb70e",
        "colab": {
          "base_uri": "https://localhost:8080/",
          "height": 39
        }
      },
      "execution_count": 132,
      "outputs": [
        {
          "output_type": "execute_result",
          "data": {
            "text/latex": "$\\displaystyle 6 x + 8$",
            "text/plain": [
              "6*x + 8"
            ]
          },
          "metadata": {},
          "execution_count": 132
        }
      ]
    },
    {
      "cell_type": "code",
      "source": [
        "f6=(2*x-1)*sympy.sqrt(x**2+2)\n",
        "d6 = Derivative(f6,x).doit()\n",
        "d6.simplify()"
      ],
      "metadata": {
        "id": "aXYA2zOXd21L",
        "outputId": "3a133870-2084-4fa7-cb17-8649a05b1592",
        "colab": {
          "base_uri": "https://localhost:8080/",
          "height": 58
        }
      },
      "execution_count": 134,
      "outputs": [
        {
          "output_type": "execute_result",
          "data": {
            "text/latex": "$\\displaystyle \\frac{4 x^{2} - x + 4}{\\sqrt{x^{2} + 2}}$",
            "text/plain": [
              "(4*x**2 - x + 4)/sqrt(x**2 + 2)"
            ]
          },
          "metadata": {},
          "execution_count": 134
        }
      ]
    },
    {
      "cell_type": "code",
      "source": [
        "f7 = sympy.cos(2*x)+sympy.cos(4*x)+sympy.sin(5*x)\n",
        "d7 = Derivative(f7,x).doit()\n",
        "d7.simplify()"
      ],
      "metadata": {
        "id": "VglDzH9Xd2-r",
        "outputId": "2db7432e-2bab-4dcf-8790-1105240d8753",
        "colab": {
          "base_uri": "https://localhost:8080/",
          "height": 39
        }
      },
      "execution_count": 138,
      "outputs": [
        {
          "output_type": "execute_result",
          "data": {
            "text/latex": "$\\displaystyle - 2 \\sin{\\left(2 x \\right)} - 4 \\sin{\\left(4 x \\right)} + 5 \\cos{\\left(5 x \\right)}$",
            "text/plain": [
              "-2*sin(2*x) - 4*sin(4*x) + 5*cos(5*x)"
            ]
          },
          "metadata": {},
          "execution_count": 138
        }
      ]
    },
    {
      "cell_type": "code",
      "source": [
        "f8 = sympy.sqrt(sympy.cos(x))\n",
        "d8 = Derivative(f8,x).doit()\n",
        "d8.simplify()"
      ],
      "metadata": {
        "id": "n3NFoGGCd3Hf",
        "outputId": "388612e4-7ff2-4362-f9d9-5643b26e1585",
        "colab": {
          "base_uri": "https://localhost:8080/",
          "height": 60
        }
      },
      "execution_count": 139,
      "outputs": [
        {
          "output_type": "execute_result",
          "data": {
            "text/latex": "$\\displaystyle - \\frac{\\sin{\\left(x \\right)}}{2 \\sqrt{\\cos{\\left(x \\right)}}}$",
            "text/plain": [
              "-sin(x)/(2*sqrt(cos(x)))"
            ]
          },
          "metadata": {},
          "execution_count": 139
        }
      ]
    },
    {
      "cell_type": "code",
      "source": [
        "f9 = sympy.cot(x)-3*x+2\n",
        "d9 = Derivative(f9,x).doit()\n",
        "d9"
      ],
      "metadata": {
        "id": "OU3yn6wsd3kC",
        "outputId": "deba1333-9ec9-4ad2-ca94-9d0b5a9c118c",
        "colab": {
          "base_uri": "https://localhost:8080/",
          "height": 39
        }
      },
      "execution_count": 140,
      "outputs": [
        {
          "output_type": "execute_result",
          "data": {
            "text/latex": "$\\displaystyle - \\cot^{2}{\\left(x \\right)} - 4$",
            "text/plain": [
              "-cot(x)**2 - 4"
            ]
          },
          "metadata": {},
          "execution_count": 140
        }
      ]
    },
    {
      "cell_type": "code",
      "source": [
        "f10 = x**4 + 2*sympy.sqrt(x)\n",
        "d10 = Derivative(f10,x).doit()\n",
        "d10"
      ],
      "metadata": {
        "id": "T-P55cnTd3pW",
        "outputId": "448002eb-944d-4be7-b97e-a278cace4ac9",
        "colab": {
          "base_uri": "https://localhost:8080/",
          "height": 55
        }
      },
      "execution_count": 141,
      "outputs": [
        {
          "output_type": "execute_result",
          "data": {
            "text/latex": "$\\displaystyle 4 x^{3} + \\frac{1}{\\sqrt{x}}$",
            "text/plain": [
              "4*x**3 + 1/sqrt(x)"
            ]
          },
          "metadata": {},
          "execution_count": 141
        }
      ]
    }
  ]
}