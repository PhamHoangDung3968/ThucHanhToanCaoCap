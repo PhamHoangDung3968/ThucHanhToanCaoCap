{
  "nbformat": 4,
  "nbformat_minor": 0,
  "metadata": {
    "colab": {
      "name": "BaiThi.ipynb",
      "provenance": [],
      "authorship_tag": "ABX9TyP1Y76gJWTFA8w4BeddUT6T",
      "include_colab_link": true
    },
    "kernelspec": {
      "name": "python3",
      "display_name": "Python 3"
    },
    "language_info": {
      "name": "python"
    }
  },
  "cells": [
    {
      "cell_type": "markdown",
      "metadata": {
        "id": "view-in-github",
        "colab_type": "text"
      },
      "source": [
        "<a href=\"https://colab.research.google.com/github/PhamHoangDung3968/ThucHanhToanCaoCap/blob/main/BaiThi.ipynb\" target=\"_parent\"><img src=\"https://colab.research.google.com/assets/colab-badge.svg\" alt=\"Open In Colab\"/></a>"
      ]
    },
    {
      "cell_type": "markdown",
      "source": [
        "**Tính đạo hàm**"
      ],
      "metadata": {
        "id": "_3dVQ46BoFeg"
      }
    },
    {
      "cell_type": "markdown",
      "source": [
        "câu 1"
      ],
      "metadata": {
        "id": "aiqvkmrFpgX3"
      }
    },
    {
      "cell_type": "code",
      "execution_count": 11,
      "metadata": {
        "colab": {
          "base_uri": "https://localhost:8080/",
          "height": 58
        },
        "id": "sgLS7z55oEcX",
        "outputId": "dc69a147-a2c4-4bd3-9ac8-ef5ac5e47b4b"
      },
      "outputs": [
        {
          "output_type": "execute_result",
          "data": {
            "text/plain": [
              "2/(x + 2) - (2*x - 1)/(x + 2)**2"
            ],
            "text/latex": "$\\displaystyle \\frac{2}{x + 2} - \\frac{2 x - 1}{\\left(x + 2\\right)^{2}}$"
          },
          "metadata": {},
          "execution_count": 11
        }
      ],
      "source": [
        "from sympy import Derivative, Symbol, sin\n",
        "x = Symbol('x')\n",
        "f = (2*x-1)/(x + 2)\n",
        "Derivative(f,x).doit()"
      ]
    },
    {
      "cell_type": "markdown",
      "source": [
        "câu 2"
      ],
      "metadata": {
        "id": "4SrtmDcEpiZk"
      }
    },
    {
      "cell_type": "code",
      "source": [
        "from sympy import Derivative, Symbol, sin\n",
        "x = Symbol('x')\n",
        "f1 = x**4 - 5*x**2 + 4\n",
        "d1 = Derivative(f1,x).doit()\n",
        "d1"
      ],
      "metadata": {
        "colab": {
          "base_uri": "https://localhost:8080/",
          "height": 39
        },
        "id": "fjSmVWgjpQkT",
        "outputId": "f84d2be0-3ab6-4063-a38f-3ee6309acb05"
      },
      "execution_count": 12,
      "outputs": [
        {
          "output_type": "execute_result",
          "data": {
            "text/plain": [
              "4*x**3 - 10*x"
            ],
            "text/latex": "$\\displaystyle 4 x^{3} - 10 x$"
          },
          "metadata": {},
          "execution_count": 12
        }
      ]
    },
    {
      "cell_type": "code",
      "source": [
        "d1.subs({x:2})"
      ],
      "metadata": {
        "colab": {
          "base_uri": "https://localhost:8080/",
          "height": 38
        },
        "id": "od7voV42pySU",
        "outputId": "84533ada-5f6a-4dc1-af6d-85c9266d3994"
      },
      "execution_count": 13,
      "outputs": [
        {
          "output_type": "execute_result",
          "data": {
            "text/plain": [
              "12"
            ],
            "text/latex": "$\\displaystyle 12$"
          },
          "metadata": {},
          "execution_count": 13
        }
      ]
    },
    {
      "cell_type": "markdown",
      "source": [
        "**Tính giới hạn**"
      ],
      "metadata": {
        "id": "EL75B2sWqAU8"
      }
    },
    {
      "cell_type": "markdown",
      "source": [
        "câu 1"
      ],
      "metadata": {
        "id": "_nh9UK2qqZIO"
      }
    },
    {
      "cell_type": "code",
      "source": [
        "from sympy import Limit, Symbol,sqrt\n",
        "x = Symbol('x')\n",
        "gioi_han = Limit((sqrt(x**2-x+1)/(x-1)), x, 2)\n",
        "gioi_han.doit()"
      ],
      "metadata": {
        "colab": {
          "base_uri": "https://localhost:8080/",
          "height": 38
        },
        "id": "RcXK7zsRqAF0",
        "outputId": "49b43abd-4df1-453b-c478-4ed5a6e53cdb"
      },
      "execution_count": 14,
      "outputs": [
        {
          "output_type": "execute_result",
          "data": {
            "text/plain": [
              "sqrt(3)"
            ],
            "text/latex": "$\\displaystyle \\sqrt{3}$"
          },
          "metadata": {},
          "execution_count": 14
        }
      ]
    },
    {
      "cell_type": "markdown",
      "source": [
        "câu 2"
      ],
      "metadata": {
        "id": "QF1CMDWUqdIY"
      }
    },
    {
      "cell_type": "code",
      "source": [
        "from sympy import Symbol, Limit, sin, pi\n",
        "x = Symbol('x')\n",
        "gioi_han = Limit((sin(x-pi/4)/x),x,pi/2, dir = '+')\n",
        "gioi_han.doit()"
      ],
      "metadata": {
        "colab": {
          "base_uri": "https://localhost:8080/",
          "height": 55
        },
        "id": "sxElZCXFqclv",
        "outputId": "9f1de1f4-5655-4544-c66d-a3a9db3a9a6a"
      },
      "execution_count": 15,
      "outputs": [
        {
          "output_type": "execute_result",
          "data": {
            "text/plain": [
              "sqrt(2)/pi"
            ],
            "text/latex": "$\\displaystyle \\frac{\\sqrt{2}}{\\pi}$"
          },
          "metadata": {},
          "execution_count": 15
        }
      ]
    }
  ]
}